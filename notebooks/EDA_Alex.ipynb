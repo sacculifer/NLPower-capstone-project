{
 "cells": [
  {
   "cell_type": "code",
   "execution_count": 1,
   "metadata": {},
   "outputs": [
    {
     "name": "stderr",
     "output_type": "stream",
     "text": [
      "/Users/ak/Desktop/neuefische/NLPower-capstone-project/.venv/lib/python3.9/site-packages/tqdm/auto.py:22: TqdmWarning: IProgress not found. Please update jupyter and ipywidgets. See https://ipywidgets.readthedocs.io/en/stable/user_install.html\n",
      "  from .autonotebook import tqdm as notebook_tqdm\n"
     ]
    }
   ],
   "source": [
    "import pandas as pd\n",
    "import numpy as np\n",
    "import seaborn as sns\n",
    "from textblob import TextBlob,Word\n",
    "\n",
    "import pandas as pd\n",
    "import matplotlib.pyplot as plt\n",
    "import seaborn as sns\n",
    "import texthero as hero\n",
    "#from texthero import stopwords\n",
    "from nltk.corpus import stopwords\n",
    "from nltk.corpus import words\n",
    "import os\n",
    "from wordcloud import WordCloud\n",
    "import nltk\n",
    "from nltk.stem import WordNetLemmatizer\n",
    "from textblob import TextBlob,Word\n",
    "from sklearn.feature_extraction.text import CountVectorizer\n",
    "\n",
    "import gensim\n",
    "from nltk.stem import WordNetLemmatizer,PorterStemmer\n",
    "from nltk.tokenize import word_tokenize\n",
    "import pyLDAvis.gensim_models\n",
    "\n",
    "#nltk.download('wordnet')\n",
    "#nltk.download('punkt')\n",
    "#nltk.download('averaged_perceptron_tagger')\n",
    "#nltk.download('words')"
   ]
  },
  {
   "cell_type": "code",
   "execution_count": 2,
   "metadata": {},
   "outputs": [],
   "source": [
    "df = pd.read_csv('/Users/ak/Desktop/neuefische/NLPower-capstone-project/data/nlp-getting-started/train.csv')"
   ]
  },
  {
   "cell_type": "code",
   "execution_count": 4,
   "metadata": {},
   "outputs": [
    {
     "name": "stdout",
     "output_type": "stream",
     "text": [
      "<class 'pandas.core.frame.DataFrame'>\n",
      "RangeIndex: 7613 entries, 0 to 7612\n",
      "Data columns (total 5 columns):\n",
      " #   Column    Non-Null Count  Dtype \n",
      "---  ------    --------------  ----- \n",
      " 0   id        7613 non-null   int64 \n",
      " 1   keyword   7552 non-null   object\n",
      " 2   location  5080 non-null   object\n",
      " 3   text      7613 non-null   object\n",
      " 4   target    7613 non-null   int64 \n",
      "dtypes: int64(2), object(3)\n",
      "memory usage: 297.5+ KB\n"
     ]
    }
   ],
   "source": [
    "df.info()"
   ]
  },
  {
   "cell_type": "code",
   "execution_count": 5,
   "metadata": {},
   "outputs": [
    {
     "data": {
      "text/html": [
       "<div>\n",
       "<style scoped>\n",
       "    .dataframe tbody tr th:only-of-type {\n",
       "        vertical-align: middle;\n",
       "    }\n",
       "\n",
       "    .dataframe tbody tr th {\n",
       "        vertical-align: top;\n",
       "    }\n",
       "\n",
       "    .dataframe thead th {\n",
       "        text-align: right;\n",
       "    }\n",
       "</style>\n",
       "<table border=\"1\" class=\"dataframe\">\n",
       "  <thead>\n",
       "    <tr style=\"text-align: right;\">\n",
       "      <th></th>\n",
       "      <th>id</th>\n",
       "      <th>keyword</th>\n",
       "      <th>location</th>\n",
       "      <th>text</th>\n",
       "      <th>target</th>\n",
       "    </tr>\n",
       "  </thead>\n",
       "  <tbody>\n",
       "    <tr>\n",
       "      <th>0</th>\n",
       "      <td>1</td>\n",
       "      <td>NaN</td>\n",
       "      <td>NaN</td>\n",
       "      <td>Our Deeds are the Reason of this #earthquake M...</td>\n",
       "      <td>1</td>\n",
       "    </tr>\n",
       "    <tr>\n",
       "      <th>1</th>\n",
       "      <td>4</td>\n",
       "      <td>NaN</td>\n",
       "      <td>NaN</td>\n",
       "      <td>Forest fire near La Ronge Sask. Canada</td>\n",
       "      <td>1</td>\n",
       "    </tr>\n",
       "    <tr>\n",
       "      <th>2</th>\n",
       "      <td>5</td>\n",
       "      <td>NaN</td>\n",
       "      <td>NaN</td>\n",
       "      <td>All residents asked to 'shelter in place' are ...</td>\n",
       "      <td>1</td>\n",
       "    </tr>\n",
       "    <tr>\n",
       "      <th>3</th>\n",
       "      <td>6</td>\n",
       "      <td>NaN</td>\n",
       "      <td>NaN</td>\n",
       "      <td>13,000 people receive #wildfires evacuation or...</td>\n",
       "      <td>1</td>\n",
       "    </tr>\n",
       "    <tr>\n",
       "      <th>4</th>\n",
       "      <td>7</td>\n",
       "      <td>NaN</td>\n",
       "      <td>NaN</td>\n",
       "      <td>Just got sent this photo from Ruby #Alaska as ...</td>\n",
       "      <td>1</td>\n",
       "    </tr>\n",
       "    <tr>\n",
       "      <th>5</th>\n",
       "      <td>8</td>\n",
       "      <td>NaN</td>\n",
       "      <td>NaN</td>\n",
       "      <td>#RockyFire Update =&gt; California Hwy. 20 closed...</td>\n",
       "      <td>1</td>\n",
       "    </tr>\n",
       "    <tr>\n",
       "      <th>6</th>\n",
       "      <td>10</td>\n",
       "      <td>NaN</td>\n",
       "      <td>NaN</td>\n",
       "      <td>#flood #disaster Heavy rain causes flash flood...</td>\n",
       "      <td>1</td>\n",
       "    </tr>\n",
       "    <tr>\n",
       "      <th>7</th>\n",
       "      <td>13</td>\n",
       "      <td>NaN</td>\n",
       "      <td>NaN</td>\n",
       "      <td>I'm on top of the hill and I can see a fire in...</td>\n",
       "      <td>1</td>\n",
       "    </tr>\n",
       "    <tr>\n",
       "      <th>8</th>\n",
       "      <td>14</td>\n",
       "      <td>NaN</td>\n",
       "      <td>NaN</td>\n",
       "      <td>There's an emergency evacuation happening now ...</td>\n",
       "      <td>1</td>\n",
       "    </tr>\n",
       "    <tr>\n",
       "      <th>9</th>\n",
       "      <td>15</td>\n",
       "      <td>NaN</td>\n",
       "      <td>NaN</td>\n",
       "      <td>I'm afraid that the tornado is coming to our a...</td>\n",
       "      <td>1</td>\n",
       "    </tr>\n",
       "    <tr>\n",
       "      <th>10</th>\n",
       "      <td>16</td>\n",
       "      <td>NaN</td>\n",
       "      <td>NaN</td>\n",
       "      <td>Three people died from the heat wave so far</td>\n",
       "      <td>1</td>\n",
       "    </tr>\n",
       "    <tr>\n",
       "      <th>11</th>\n",
       "      <td>17</td>\n",
       "      <td>NaN</td>\n",
       "      <td>NaN</td>\n",
       "      <td>Haha South Tampa is getting flooded hah- WAIT ...</td>\n",
       "      <td>1</td>\n",
       "    </tr>\n",
       "    <tr>\n",
       "      <th>12</th>\n",
       "      <td>18</td>\n",
       "      <td>NaN</td>\n",
       "      <td>NaN</td>\n",
       "      <td>#raining #flooding #Florida #TampaBay #Tampa 1...</td>\n",
       "      <td>1</td>\n",
       "    </tr>\n",
       "    <tr>\n",
       "      <th>13</th>\n",
       "      <td>19</td>\n",
       "      <td>NaN</td>\n",
       "      <td>NaN</td>\n",
       "      <td>#Flood in Bago Myanmar #We arrived Bago</td>\n",
       "      <td>1</td>\n",
       "    </tr>\n",
       "    <tr>\n",
       "      <th>14</th>\n",
       "      <td>20</td>\n",
       "      <td>NaN</td>\n",
       "      <td>NaN</td>\n",
       "      <td>Damage to school bus on 80 in multi car crash ...</td>\n",
       "      <td>1</td>\n",
       "    </tr>\n",
       "    <tr>\n",
       "      <th>15</th>\n",
       "      <td>23</td>\n",
       "      <td>NaN</td>\n",
       "      <td>NaN</td>\n",
       "      <td>What's up man?</td>\n",
       "      <td>0</td>\n",
       "    </tr>\n",
       "    <tr>\n",
       "      <th>16</th>\n",
       "      <td>24</td>\n",
       "      <td>NaN</td>\n",
       "      <td>NaN</td>\n",
       "      <td>I love fruits</td>\n",
       "      <td>0</td>\n",
       "    </tr>\n",
       "    <tr>\n",
       "      <th>17</th>\n",
       "      <td>25</td>\n",
       "      <td>NaN</td>\n",
       "      <td>NaN</td>\n",
       "      <td>Summer is lovely</td>\n",
       "      <td>0</td>\n",
       "    </tr>\n",
       "    <tr>\n",
       "      <th>18</th>\n",
       "      <td>26</td>\n",
       "      <td>NaN</td>\n",
       "      <td>NaN</td>\n",
       "      <td>My car is so fast</td>\n",
       "      <td>0</td>\n",
       "    </tr>\n",
       "    <tr>\n",
       "      <th>19</th>\n",
       "      <td>28</td>\n",
       "      <td>NaN</td>\n",
       "      <td>NaN</td>\n",
       "      <td>What a goooooooaaaaaal!!!!!!</td>\n",
       "      <td>0</td>\n",
       "    </tr>\n",
       "  </tbody>\n",
       "</table>\n",
       "</div>"
      ],
      "text/plain": [
       "    id keyword location                                               text  \\\n",
       "0    1     NaN      NaN  Our Deeds are the Reason of this #earthquake M...   \n",
       "1    4     NaN      NaN             Forest fire near La Ronge Sask. Canada   \n",
       "2    5     NaN      NaN  All residents asked to 'shelter in place' are ...   \n",
       "3    6     NaN      NaN  13,000 people receive #wildfires evacuation or...   \n",
       "4    7     NaN      NaN  Just got sent this photo from Ruby #Alaska as ...   \n",
       "5    8     NaN      NaN  #RockyFire Update => California Hwy. 20 closed...   \n",
       "6   10     NaN      NaN  #flood #disaster Heavy rain causes flash flood...   \n",
       "7   13     NaN      NaN  I'm on top of the hill and I can see a fire in...   \n",
       "8   14     NaN      NaN  There's an emergency evacuation happening now ...   \n",
       "9   15     NaN      NaN  I'm afraid that the tornado is coming to our a...   \n",
       "10  16     NaN      NaN        Three people died from the heat wave so far   \n",
       "11  17     NaN      NaN  Haha South Tampa is getting flooded hah- WAIT ...   \n",
       "12  18     NaN      NaN  #raining #flooding #Florida #TampaBay #Tampa 1...   \n",
       "13  19     NaN      NaN            #Flood in Bago Myanmar #We arrived Bago   \n",
       "14  20     NaN      NaN  Damage to school bus on 80 in multi car crash ...   \n",
       "15  23     NaN      NaN                                     What's up man?   \n",
       "16  24     NaN      NaN                                      I love fruits   \n",
       "17  25     NaN      NaN                                   Summer is lovely   \n",
       "18  26     NaN      NaN                                  My car is so fast   \n",
       "19  28     NaN      NaN                       What a goooooooaaaaaal!!!!!!   \n",
       "\n",
       "    target  \n",
       "0        1  \n",
       "1        1  \n",
       "2        1  \n",
       "3        1  \n",
       "4        1  \n",
       "5        1  \n",
       "6        1  \n",
       "7        1  \n",
       "8        1  \n",
       "9        1  \n",
       "10       1  \n",
       "11       1  \n",
       "12       1  \n",
       "13       1  \n",
       "14       1  \n",
       "15       0  \n",
       "16       0  \n",
       "17       0  \n",
       "18       0  \n",
       "19       0  "
      ]
     },
     "execution_count": 5,
     "metadata": {},
     "output_type": "execute_result"
    }
   ],
   "source": [
    "df.head(20)"
   ]
  },
  {
   "cell_type": "code",
   "execution_count": 6,
   "metadata": {},
   "outputs": [
    {
     "data": {
      "text/plain": [
       "<AxesSubplot:>"
      ]
     },
     "execution_count": 6,
     "metadata": {},
     "output_type": "execute_result"
    },
    {
     "data": {
      "image/png": "[encoded data removed]",
      "text/plain": [
       "<Figure size 432x288 with 1 Axes>"
      ]
     },
     "metadata": {
      "needs_background": "light"
     },
     "output_type": "display_data"
    }
   ],
   "source": [
    "#No. characters per tweet\n",
    "df['tweet_length'] = [len(text) for text in df['text']]\n",
    "df['text'].str.len().hist()"
   ]
  },
  {
   "cell_type": "code",
   "execution_count": 7,
   "metadata": {},
   "outputs": [
    {
     "data": {
      "text/plain": [
       "<AxesSubplot:>"
      ]
     },
     "execution_count": 7,
     "metadata": {},
     "output_type": "execute_result"
    },
    {
     "data": {
      "image/png": "[encoded data removed]",
      "text/plain": [
       "<Figure size 432x288 with 1 Axes>"
      ]
     },
     "metadata": {
      "needs_background": "light"
     },
     "output_type": "display_data"
    }
   ],
   "source": [
    "#No. words per tweet\n",
    "df['nwords'] = [len(text.split()) for text in df['text']]\n",
    "\n",
    "text = df['text']\n",
    "text.str.split().\\\n",
    "    map(lambda x: len(x)).\\\n",
    "    hist()"
   ]
  },
  {
   "cell_type": "code",
   "execution_count": 8,
   "metadata": {},
   "outputs": [
    {
     "data": {
      "text/plain": [
       "<AxesSubplot:>"
      ]
     },
     "execution_count": 8,
     "metadata": {},
     "output_type": "execute_result"
    },
    {
     "data": {
      "image/png": "[encoded data removed]",
      "text/plain": [
       "<Figure size 432x288 with 1 Axes>"
      ]
     },
     "metadata": {
      "needs_background": "light"
     },
     "output_type": "display_data"
    }
   ],
   "source": [
    "#Average word length\n",
    "text.str.split().\\\n",
    "   apply(lambda x : [len(i) for i in x]). \\\n",
    "   map(lambda x: np.mean(x)).hist()"
   ]
  },
  {
   "cell_type": "code",
   "execution_count": 9,
   "metadata": {},
   "outputs": [],
   "source": [
    "avgwordlength = []\n",
    "for t in df['text']:\n",
    "    t = t.split()\n",
    "    l = 0\n",
    "    for w in t:\n",
    "        l += len(w)\n",
    "    if len(t) != 0:\n",
    "        l = l / len(t)\n",
    "    else:\n",
    "        l = 0\n",
    "    avgwordlength.append(l)\n",
    "\n",
    "df['avgwordlength'] = avgwordlength"
   ]
  },
  {
   "cell_type": "code",
   "execution_count": 10,
   "metadata": {},
   "outputs": [],
   "source": [
    "# import nltk\n",
    "# nltk.download('stopwords')\n",
    "from nltk.corpus import stopwords\n",
    "stop=set(stopwords.words('english'))\n"
   ]
  },
  {
   "cell_type": "code",
   "execution_count": 11,
   "metadata": {},
   "outputs": [],
   "source": [
    "corpus=[]\n",
    "new= df['text'].str.split()\n",
    "new=new.values.tolist()\n",
    "corpus=[word for i in new for word in i]\n",
    "\n",
    "from collections import defaultdict\n",
    "dic=defaultdict(int)\n",
    "for word in corpus:\n",
    "    if word in stop:\n",
    "        dic[word]+=1"
   ]
  },
  {
   "cell_type": "code",
   "execution_count": 12,
   "metadata": {},
   "outputs": [],
   "source": [
    "def plot_top_stopwords_barchart(text):\n",
    "    stop=set(stopwords.words('english'))\n",
    "    \n",
    "    new= text.str.split()\n",
    "    new=new.values.tolist()\n",
    "    corpus=[word for i in new for word in i]\n",
    "    from collections import defaultdict\n",
    "    dic=defaultdict(int)\n",
    "    for word in corpus:\n",
    "        if word in stop:\n",
    "            dic[word]+=1\n",
    "            \n",
    "    top=sorted(dic.items(), key=lambda x:x[1],reverse=True)[:10] \n",
    "    x,y=zip(*top)\n",
    "    plt.bar(x,y)"
   ]
  },
  {
   "cell_type": "code",
   "execution_count": 13,
   "metadata": {},
   "outputs": [
    {
     "data": {
      "image/png": "[encoded data removed]",
      "text/plain": [
       "<Figure size 432x288 with 1 Axes>"
      ]
     },
     "metadata": {
      "needs_background": "light"
     },
     "output_type": "display_data"
    }
   ],
   "source": [
    "plot_top_stopwords_barchart(df['text'])"
   ]
  },
  {
   "cell_type": "code",
   "execution_count": 14,
   "metadata": {},
   "outputs": [],
   "source": [
    "def lemma_per_pos(sent):\n",
    "    '''function to lemmatize according to part of speech tag'''\n",
    "    t = TextBlob(sent)\n",
    "    t_dict = {\"J\": 'a',\"N\": 'n',\"V\": 'v',\"R\": 'r'}\n",
    "    w_n_t = [(w, t_dict.get(p[0], 'n')) for w, p in t.tags]\n",
    "    setofwords = set(words.words())\n",
    "    lemmatized_list = [w.lemmatize(t) for w, t in w_n_t if w in setofwords]\n",
    "    return \" \".join(lemmatized_list)\n",
    "def df_preprocessing(df,col_name):\n",
    "    my_stopwords = stopwords.words('english') + ['http', 'co', 'amp', 'one', 'get', 'u']\n",
    "    df[col_name]=[text.replace('<br','') for text in df[col_name]]\n",
    "    # cleaning\n",
    "    df[col_name]= (\n",
    "              df[col_name]\n",
    "              .pipe(hero.clean)\n",
    "              .pipe(hero.remove_html_tags)\n",
    "              .pipe(hero.remove_brackets)\n",
    "              .pipe(hero.remove_urls))\n",
    "    # lemmatization\n",
    "    df[col_name] = [lemma_per_pos(sent) for sent in df[col_name]]\n",
    "    df[col_name] = hero.remove_stopwords(df[col_name],my_stopwords)\n",
    "    "
   ]
  },
  {
   "cell_type": "code",
   "execution_count": 15,
   "metadata": {},
   "outputs": [],
   "source": [
    "import copy\n",
    "df2 = copy.deepcopy(df)"
   ]
  },
  {
   "cell_type": "code",
   "execution_count": 16,
   "metadata": {},
   "outputs": [],
   "source": [
    "df_preprocessing(df, 'text')"
   ]
  },
  {
   "cell_type": "code",
   "execution_count": 17,
   "metadata": {},
   "outputs": [],
   "source": [
    "# i = 0\n",
    "# for text in df['text']:\n",
    "#     print(i)\n",
    "#     print(str(TextBlob(text).correct()))\n",
    "#     df['text'][i] = str(TextBlob(text).correct())\n",
    "#     i += 1"
   ]
  },
  {
   "cell_type": "code",
   "execution_count": 18,
   "metadata": {},
   "outputs": [
    {
     "name": "stderr",
     "output_type": "stream",
     "text": [
      "/var/folders/hm/0f07kjyd01j1bkt20sx53n3m0000gn/T/ipykernel_6501/815009689.py:2: SettingWithCopyWarning: \n",
      "A value is trying to be set on a copy of a slice from a DataFrame\n",
      "\n",
      "See the caveats in the documentation: https://pandas.pydata.org/pandas-docs/stable/user_guide/indexing.html#returning-a-view-versus-a-copy\n",
      "  df['text'][i] = ' '.join([w for w in df['text'][i].split() if len(w) > 2])\n"
     ]
    }
   ],
   "source": [
    "for i in range(0, len(df['text'])):\n",
    "    df['text'][i] = ' '.join([w for w in df['text'][i].split() if len(w) > 2])"
   ]
  },
  {
   "cell_type": "code",
   "execution_count": 19,
   "metadata": {},
   "outputs": [],
   "source": [
    "corpus=[]\n",
    "new= df['text'].str.split()\n",
    "new=new.values.tolist()\n",
    "corpus=[word for i in new for word in i]\n",
    "\n",
    "from collections import defaultdict\n",
    "dic=defaultdict(int)\n",
    "for word in corpus:\n",
    "    if word in stop:\n",
    "        dic[word]+=1"
   ]
  },
  {
   "cell_type": "code",
   "execution_count": 20,
   "metadata": {},
   "outputs": [
    {
     "data": {
      "text/plain": [
       "<AxesSubplot:>"
      ]
     },
     "execution_count": 20,
     "metadata": {},
     "output_type": "execute_result"
    },
    {
     "data": {
      "image/png": "[encoded data removed]",
      "text/plain": [
       "<Figure size 1080x576 with 1 Axes>"
      ]
     },
     "metadata": {
      "needs_background": "light"
     },
     "output_type": "display_data"
    }
   ],
   "source": [
    "from collections import Counter\n",
    "counter=Counter(corpus)\n",
    "most=counter.most_common()\n",
    "\n",
    "x, y= [], []\n",
    "for word,count in most[:40]:\n",
    "    if (word not in stop):\n",
    "        x.append(word)\n",
    "        y.append(count)\n",
    "        \n",
    "plt.figure(figsize=(15,8))\n",
    "sns.barplot(x=y,y=x)"
   ]
  },
  {
   "cell_type": "code",
   "execution_count": 21,
   "metadata": {},
   "outputs": [],
   "source": [
    "text= ' '.join(t for t in df['text'])\n",
    "words_list= text.split()"
   ]
  },
  {
   "cell_type": "code",
   "execution_count": 22,
   "metadata": {},
   "outputs": [],
   "source": [
    "word_freq= {}\n",
    "for word in set(words_list):\n",
    "    word_freq[word]= words_list.count(word)\n",
    "#Creating dataframe of words\n",
    "df_word= pd.DataFrame(word_freq.items(),columns=['word','count'])"
   ]
  },
  {
   "cell_type": "code",
   "execution_count": 23,
   "metadata": {},
   "outputs": [
    {
     "data": {
      "text/html": [
       "<div>\n",
       "<style scoped>\n",
       "    .dataframe tbody tr th:only-of-type {\n",
       "        vertical-align: middle;\n",
       "    }\n",
       "\n",
       "    .dataframe tbody tr th {\n",
       "        vertical-align: top;\n",
       "    }\n",
       "\n",
       "    .dataframe thead th {\n",
       "        text-align: right;\n",
       "    }\n",
       "</style>\n",
       "<table border=\"1\" class=\"dataframe\">\n",
       "  <thead>\n",
       "    <tr style=\"text-align: right;\">\n",
       "      <th></th>\n",
       "      <th>word</th>\n",
       "      <th>count</th>\n",
       "      <th>word_len</th>\n",
       "    </tr>\n",
       "  </thead>\n",
       "  <tbody>\n",
       "    <tr>\n",
       "      <th>0</th>\n",
       "      <td>indistinguishable</td>\n",
       "      <td>1</td>\n",
       "      <td>17</td>\n",
       "    </tr>\n",
       "    <tr>\n",
       "      <th>1</th>\n",
       "      <td>multidimensional</td>\n",
       "      <td>1</td>\n",
       "      <td>16</td>\n",
       "    </tr>\n",
       "    <tr>\n",
       "      <th>2</th>\n",
       "      <td>institutionalize</td>\n",
       "      <td>1</td>\n",
       "      <td>16</td>\n",
       "    </tr>\n",
       "    <tr>\n",
       "      <th>3</th>\n",
       "      <td>totalitarianism</td>\n",
       "      <td>1</td>\n",
       "      <td>15</td>\n",
       "    </tr>\n",
       "    <tr>\n",
       "      <th>4</th>\n",
       "      <td>diversification</td>\n",
       "      <td>1</td>\n",
       "      <td>15</td>\n",
       "    </tr>\n",
       "    <tr>\n",
       "      <th>...</th>\n",
       "      <td>...</td>\n",
       "      <td>...</td>\n",
       "      <td>...</td>\n",
       "    </tr>\n",
       "    <tr>\n",
       "      <th>5849</th>\n",
       "      <td>ama</td>\n",
       "      <td>1</td>\n",
       "      <td>3</td>\n",
       "    </tr>\n",
       "    <tr>\n",
       "      <th>5850</th>\n",
       "      <td>zip</td>\n",
       "      <td>1</td>\n",
       "      <td>3</td>\n",
       "    </tr>\n",
       "    <tr>\n",
       "      <th>5851</th>\n",
       "      <td>ton</td>\n",
       "      <td>1</td>\n",
       "      <td>3</td>\n",
       "    </tr>\n",
       "    <tr>\n",
       "      <th>5852</th>\n",
       "      <td>gut</td>\n",
       "      <td>1</td>\n",
       "      <td>3</td>\n",
       "    </tr>\n",
       "    <tr>\n",
       "      <th>5853</th>\n",
       "      <td>old</td>\n",
       "      <td>95</td>\n",
       "      <td>3</td>\n",
       "    </tr>\n",
       "  </tbody>\n",
       "</table>\n",
       "<p>5854 rows × 3 columns</p>\n",
       "</div>"
      ],
      "text/plain": [
       "                   word  count  word_len\n",
       "0     indistinguishable      1        17\n",
       "1      multidimensional      1        16\n",
       "2      institutionalize      1        16\n",
       "3       totalitarianism      1        15\n",
       "4       diversification      1        15\n",
       "...                 ...    ...       ...\n",
       "5849                ama      1         3\n",
       "5850                zip      1         3\n",
       "5851                ton      1         3\n",
       "5852                gut      1         3\n",
       "5853                old     95         3\n",
       "\n",
       "[5854 rows x 3 columns]"
      ]
     },
     "execution_count": 23,
     "metadata": {},
     "output_type": "execute_result"
    }
   ],
   "source": [
    "df_word['word_len']= df_word['word'].map(lambda x: len(x))\n",
    "# sorting values \n",
    "df_word=df_word.sort_values('word_len',ascending=False).reset_index(drop=True)\n",
    "df_word"
   ]
  },
  {
   "cell_type": "code",
   "execution_count": 24,
   "metadata": {},
   "outputs": [
    {
     "name": "stderr",
     "output_type": "stream",
     "text": [
      "/Users/ak/Desktop/neuefische/NLPower-capstone-project/.venv/lib/python3.9/site-packages/seaborn/_decorators.py:36: FutureWarning: Pass the following variables as keyword args: x, y. From version 0.12, the only valid positional argument will be `data`, and passing other arguments without an explicit keyword will result in an error or misinterpretation.\n",
      "  warnings.warn(\n"
     ]
    },
    {
     "data": {
      "text/plain": [
       "<AxesSubplot:xlabel='count', ylabel='word'>"
      ]
     },
     "execution_count": 24,
     "metadata": {},
     "output_type": "execute_result"
    },
    {
     "data": {
      "image/png": "[encoded data removed]",
      "text/plain": [
       "<Figure size 1080x576 with 1 Axes>"
      ]
     },
     "metadata": {
      "needs_background": "light"
     },
     "output_type": "display_data"
    }
   ],
   "source": [
    "df_top= df_word.head(50)\n",
    "plt.figure(figsize=(15,8))\n",
    "sns.barplot(df_top['count'],df_top['word'])"
   ]
  },
  {
   "cell_type": "code",
   "execution_count": 25,
   "metadata": {},
   "outputs": [
    {
     "name": "stderr",
     "output_type": "stream",
     "text": [
      "/Users/ak/Desktop/neuefische/NLPower-capstone-project/.venv/lib/python3.9/site-packages/wordcloud/wordcloud.py:508: DeprecationWarning: textsize is deprecated and will be removed in Pillow 10 (2023-07-01). Use textbbox or textlength instead.\n",
      "  box_size = draw.textsize(word, font=transposed_font)\n",
      "/Users/ak/Desktop/neuefische/NLPower-capstone-project/.venv/lib/python3.9/site-packages/wordcloud/wordcloud.py:508: DeprecationWarning: textsize is deprecated and will be removed in Pillow 10 (2023-07-01). Use textbbox or textlength instead.\n",
      "  box_size = draw.textsize(word, font=transposed_font)\n",
      "/Users/ak/Desktop/neuefische/NLPower-capstone-project/.venv/lib/python3.9/site-packages/wordcloud/wordcloud.py:508: DeprecationWarning: textsize is deprecated and will be removed in Pillow 10 (2023-07-01). Use textbbox or textlength instead.\n",
      "  box_size = draw.textsize(word, font=transposed_font)\n",
      "/Users/ak/Desktop/neuefische/NLPower-capstone-project/.venv/lib/python3.9/site-packages/wordcloud/wordcloud.py:508: DeprecationWarning: textsize is deprecated and will be removed in Pillow 10 (2023-07-01). Use textbbox or textlength instead.\n",
      "  box_size = draw.textsize(word, font=transposed_font)\n",
      "/Users/ak/Desktop/neuefische/NLPower-capstone-project/.venv/lib/python3.9/site-packages/wordcloud/wordcloud.py:508: DeprecationWarning: textsize is deprecated and will be removed in Pillow 10 (2023-07-01). Use textbbox or textlength instead.\n",
      "  box_size = draw.textsize(word, font=transposed_font)\n",
      "/Users/ak/Desktop/neuefische/NLPower-capstone-project/.venv/lib/python3.9/site-packages/wordcloud/wordcloud.py:508: DeprecationWarning: textsize is deprecated and will be removed in Pillow 10 (2023-07-01). Use textbbox or textlength instead.\n",
      "  box_size = draw.textsize(word, font=transposed_font)\n",
      "/Users/ak/Desktop/neuefische/NLPower-capstone-project/.venv/lib/python3.9/site-packages/wordcloud/wordcloud.py:499: DeprecationWarning: ROTATE_90 is deprecated and will be removed in Pillow 10 (2023-07-01). Use Transpose.ROTATE_90 instead.\n",
      "  orientation = Image.ROTATE_90\n",
      "/Users/ak/Desktop/neuefische/NLPower-capstone-project/.venv/lib/python3.9/site-packages/wordcloud/wordcloud.py:508: DeprecationWarning: textsize is deprecated and will be removed in Pillow 10 (2023-07-01). Use textbbox or textlength instead.\n",
      "  box_size = draw.textsize(word, font=transposed_font)\n",
      "/Users/ak/Desktop/neuefische/NLPower-capstone-project/.venv/lib/python3.9/site-packages/wordcloud/wordcloud.py:508: DeprecationWarning: textsize is deprecated and will be removed in Pillow 10 (2023-07-01). Use textbbox or textlength instead.\n",
      "  box_size = draw.textsize(word, font=transposed_font)\n",
      "/Users/ak/Desktop/neuefische/NLPower-capstone-project/.venv/lib/python3.9/site-packages/wordcloud/wordcloud.py:508: DeprecationWarning: textsize is deprecated and will be removed in Pillow 10 (2023-07-01). Use textbbox or textlength instead.\n",
      "  box_size = draw.textsize(word, font=transposed_font)\n",
      "/Users/ak/Desktop/neuefische/NLPower-capstone-project/.venv/lib/python3.9/site-packages/wordcloud/wordcloud.py:508: DeprecationWarning: textsize is deprecated and will be removed in Pillow 10 (2023-07-01). Use textbbox or textlength instead.\n",
      "  box_size = draw.textsize(word, font=transposed_font)\n",
      "/Users/ak/Desktop/neuefische/NLPower-capstone-project/.venv/lib/python3.9/site-packages/wordcloud/wordcloud.py:508: DeprecationWarning: textsize is deprecated and will be removed in Pillow 10 (2023-07-01). Use textbbox or textlength instead.\n",
      "  box_size = draw.textsize(word, font=transposed_font)\n",
      "/Users/ak/Desktop/neuefische/NLPower-capstone-project/.venv/lib/python3.9/site-packages/wordcloud/wordcloud.py:508: DeprecationWarning: textsize is deprecated and will be removed in Pillow 10 (2023-07-01). Use textbbox or textlength instead.\n",
      "  box_size = draw.textsize(word, font=transposed_font)\n",
      "/Users/ak/Desktop/neuefische/NLPower-capstone-project/.venv/lib/python3.9/site-packages/wordcloud/wordcloud.py:508: DeprecationWarning: textsize is deprecated and will be removed in Pillow 10 (2023-07-01). Use textbbox or textlength instead.\n",
      "  box_size = draw.textsize(word, font=transposed_font)\n",
      "/Users/ak/Desktop/neuefische/NLPower-capstone-project/.venv/lib/python3.9/site-packages/wordcloud/wordcloud.py:508: DeprecationWarning: textsize is deprecated and will be removed in Pillow 10 (2023-07-01). Use textbbox or textlength instead.\n",
      "  box_size = draw.textsize(word, font=transposed_font)\n",
      "/Users/ak/Desktop/neuefische/NLPower-capstone-project/.venv/lib/python3.9/site-packages/wordcloud/wordcloud.py:499: DeprecationWarning: ROTATE_90 is deprecated and will be removed in Pillow 10 (2023-07-01). Use Transpose.ROTATE_90 instead.\n",
      "  orientation = Image.ROTATE_90\n",
      "/Users/ak/Desktop/neuefische/NLPower-capstone-project/.venv/lib/python3.9/site-packages/wordcloud/wordcloud.py:508: DeprecationWarning: textsize is deprecated and will be removed in Pillow 10 (2023-07-01). Use textbbox or textlength instead.\n",
      "  box_size = draw.textsize(word, font=transposed_font)\n",
      "/Users/ak/Desktop/neuefische/NLPower-capstone-project/.venv/lib/python3.9/site-packages/wordcloud/wordcloud.py:508: DeprecationWarning: textsize is deprecated and will be removed in Pillow 10 (2023-07-01). Use textbbox or textlength instead.\n",
      "  box_size = draw.textsize(word, font=transposed_font)\n",
      "/Users/ak/Desktop/neuefische/NLPower-capstone-project/.venv/lib/python3.9/site-packages/wordcloud/wordcloud.py:519: DeprecationWarning: ROTATE_90 is deprecated and will be removed in Pillow 10 (2023-07-01). Use Transpose.ROTATE_90 instead.\n",
      "  orientation = (Image.ROTATE_90 if orientation is None else\n",
      "/Users/ak/Desktop/neuefische/NLPower-capstone-project/.venv/lib/python3.9/site-packages/wordcloud/wordcloud.py:508: DeprecationWarning: textsize is deprecated and will be removed in Pillow 10 (2023-07-01). Use textbbox or textlength instead.\n",
      "  box_size = draw.textsize(word, font=transposed_font)\n",
      "/Users/ak/Desktop/neuefische/NLPower-capstone-project/.venv/lib/python3.9/site-packages/wordcloud/wordcloud.py:508: DeprecationWarning: textsize is deprecated and will be removed in Pillow 10 (2023-07-01). Use textbbox or textlength instead.\n",
      "  box_size = draw.textsize(word, font=transposed_font)\n",
      "/Users/ak/Desktop/neuefische/NLPower-capstone-project/.venv/lib/python3.9/site-packages/wordcloud/wordcloud.py:508: DeprecationWarning: textsize is deprecated and will be removed in Pillow 10 (2023-07-01). Use textbbox or textlength instead.\n",
      "  box_size = draw.textsize(word, font=transposed_font)\n",
      "/Users/ak/Desktop/neuefische/NLPower-capstone-project/.venv/lib/python3.9/site-packages/wordcloud/wordcloud.py:508: DeprecationWarning: textsize is deprecated and will be removed in Pillow 10 (2023-07-01). Use textbbox or textlength instead.\n",
      "  box_size = draw.textsize(word, font=transposed_font)\n",
      "/Users/ak/Desktop/neuefische/NLPower-capstone-project/.venv/lib/python3.9/site-packages/wordcloud/wordcloud.py:508: DeprecationWarning: textsize is deprecated and will be removed in Pillow 10 (2023-07-01). Use textbbox or textlength instead.\n",
      "  box_size = draw.textsize(word, font=transposed_font)\n",
      "/Users/ak/Desktop/neuefische/NLPower-capstone-project/.venv/lib/python3.9/site-packages/wordcloud/wordcloud.py:508: DeprecationWarning: textsize is deprecated and will be removed in Pillow 10 (2023-07-01). Use textbbox or textlength instead.\n",
      "  box_size = draw.textsize(word, font=transposed_font)\n",
      "/Users/ak/Desktop/neuefische/NLPower-capstone-project/.venv/lib/python3.9/site-packages/wordcloud/wordcloud.py:508: DeprecationWarning: textsize is deprecated and will be removed in Pillow 10 (2023-07-01). Use textbbox or textlength instead.\n",
      "  box_size = draw.textsize(word, font=transposed_font)\n",
      "/Users/ak/Desktop/neuefische/NLPower-capstone-project/.venv/lib/python3.9/site-packages/wordcloud/wordcloud.py:508: DeprecationWarning: textsize is deprecated and will be removed in Pillow 10 (2023-07-01). Use textbbox or textlength instead.\n",
      "  box_size = draw.textsize(word, font=transposed_font)\n",
      "/Users/ak/Desktop/neuefische/NLPower-capstone-project/.venv/lib/python3.9/site-packages/wordcloud/wordcloud.py:519: DeprecationWarning: ROTATE_90 is deprecated and will be removed in Pillow 10 (2023-07-01). Use Transpose.ROTATE_90 instead.\n",
      "  orientation = (Image.ROTATE_90 if orientation is None else\n",
      "/Users/ak/Desktop/neuefische/NLPower-capstone-project/.venv/lib/python3.9/site-packages/wordcloud/wordcloud.py:508: DeprecationWarning: textsize is deprecated and will be removed in Pillow 10 (2023-07-01). Use textbbox or textlength instead.\n",
      "  box_size = draw.textsize(word, font=transposed_font)\n",
      "/Users/ak/Desktop/neuefische/NLPower-capstone-project/.venv/lib/python3.9/site-packages/wordcloud/wordcloud.py:508: DeprecationWarning: textsize is deprecated and will be removed in Pillow 10 (2023-07-01). Use textbbox or textlength instead.\n",
      "  box_size = draw.textsize(word, font=transposed_font)\n",
      "/Users/ak/Desktop/neuefische/NLPower-capstone-project/.venv/lib/python3.9/site-packages/wordcloud/wordcloud.py:508: DeprecationWarning: textsize is deprecated and will be removed in Pillow 10 (2023-07-01). Use textbbox or textlength instead.\n",
      "  box_size = draw.textsize(word, font=transposed_font)\n",
      "/Users/ak/Desktop/neuefische/NLPower-capstone-project/.venv/lib/python3.9/site-packages/wordcloud/wordcloud.py:508: DeprecationWarning: textsize is deprecated and will be removed in Pillow 10 (2023-07-01). Use textbbox or textlength instead.\n",
      "  box_size = draw.textsize(word, font=transposed_font)\n",
      "/Users/ak/Desktop/neuefische/NLPower-capstone-project/.venv/lib/python3.9/site-packages/wordcloud/wordcloud.py:519: DeprecationWarning: ROTATE_90 is deprecated and will be removed in Pillow 10 (2023-07-01). Use Transpose.ROTATE_90 instead.\n",
      "  orientation = (Image.ROTATE_90 if orientation is None else\n",
      "/Users/ak/Desktop/neuefische/NLPower-capstone-project/.venv/lib/python3.9/site-packages/wordcloud/wordcloud.py:508: DeprecationWarning: textsize is deprecated and will be removed in Pillow 10 (2023-07-01). Use textbbox or textlength instead.\n",
      "  box_size = draw.textsize(word, font=transposed_font)\n",
      "/Users/ak/Desktop/neuefische/NLPower-capstone-project/.venv/lib/python3.9/site-packages/wordcloud/wordcloud.py:508: DeprecationWarning: textsize is deprecated and will be removed in Pillow 10 (2023-07-01). Use textbbox or textlength instead.\n",
      "  box_size = draw.textsize(word, font=transposed_font)\n",
      "/Users/ak/Desktop/neuefische/NLPower-capstone-project/.venv/lib/python3.9/site-packages/wordcloud/wordcloud.py:508: DeprecationWarning: textsize is deprecated and will be removed in Pillow 10 (2023-07-01). Use textbbox or textlength instead.\n",
      "  box_size = draw.textsize(word, font=transposed_font)\n",
      "/Users/ak/Desktop/neuefische/NLPower-capstone-project/.venv/lib/python3.9/site-packages/wordcloud/wordcloud.py:508: DeprecationWarning: textsize is deprecated and will be removed in Pillow 10 (2023-07-01). Use textbbox or textlength instead.\n",
      "  box_size = draw.textsize(word, font=transposed_font)\n",
      "/Users/ak/Desktop/neuefische/NLPower-capstone-project/.venv/lib/python3.9/site-packages/wordcloud/wordcloud.py:519: DeprecationWarning: ROTATE_90 is deprecated and will be removed in Pillow 10 (2023-07-01). Use Transpose.ROTATE_90 instead.\n",
      "  orientation = (Image.ROTATE_90 if orientation is None else\n",
      "/Users/ak/Desktop/neuefische/NLPower-capstone-project/.venv/lib/python3.9/site-packages/wordcloud/wordcloud.py:508: DeprecationWarning: textsize is deprecated and will be removed in Pillow 10 (2023-07-01). Use textbbox or textlength instead.\n",
      "  box_size = draw.textsize(word, font=transposed_font)\n",
      "/Users/ak/Desktop/neuefische/NLPower-capstone-project/.venv/lib/python3.9/site-packages/wordcloud/wordcloud.py:508: DeprecationWarning: textsize is deprecated and will be removed in Pillow 10 (2023-07-01). Use textbbox or textlength instead.\n",
      "  box_size = draw.textsize(word, font=transposed_font)\n",
      "/Users/ak/Desktop/neuefische/NLPower-capstone-project/.venv/lib/python3.9/site-packages/wordcloud/wordcloud.py:508: DeprecationWarning: textsize is deprecated and will be removed in Pillow 10 (2023-07-01). Use textbbox or textlength instead.\n",
      "  box_size = draw.textsize(word, font=transposed_font)\n",
      "/Users/ak/Desktop/neuefische/NLPower-capstone-project/.venv/lib/python3.9/site-packages/wordcloud/wordcloud.py:508: DeprecationWarning: textsize is deprecated and will be removed in Pillow 10 (2023-07-01). Use textbbox or textlength instead.\n",
      "  box_size = draw.textsize(word, font=transposed_font)\n",
      "/Users/ak/Desktop/neuefische/NLPower-capstone-project/.venv/lib/python3.9/site-packages/wordcloud/wordcloud.py:499: DeprecationWarning: ROTATE_90 is deprecated and will be removed in Pillow 10 (2023-07-01). Use Transpose.ROTATE_90 instead.\n",
      "  orientation = Image.ROTATE_90\n",
      "/Users/ak/Desktop/neuefische/NLPower-capstone-project/.venv/lib/python3.9/site-packages/wordcloud/wordcloud.py:508: DeprecationWarning: textsize is deprecated and will be removed in Pillow 10 (2023-07-01). Use textbbox or textlength instead.\n",
      "  box_size = draw.textsize(word, font=transposed_font)\n",
      "/Users/ak/Desktop/neuefische/NLPower-capstone-project/.venv/lib/python3.9/site-packages/wordcloud/wordcloud.py:508: DeprecationWarning: textsize is deprecated and will be removed in Pillow 10 (2023-07-01). Use textbbox or textlength instead.\n",
      "  box_size = draw.textsize(word, font=transposed_font)\n",
      "/Users/ak/Desktop/neuefische/NLPower-capstone-project/.venv/lib/python3.9/site-packages/wordcloud/wordcloud.py:508: DeprecationWarning: textsize is deprecated and will be removed in Pillow 10 (2023-07-01). Use textbbox or textlength instead.\n",
      "  box_size = draw.textsize(word, font=transposed_font)\n",
      "/Users/ak/Desktop/neuefische/NLPower-capstone-project/.venv/lib/python3.9/site-packages/wordcloud/wordcloud.py:508: DeprecationWarning: textsize is deprecated and will be removed in Pillow 10 (2023-07-01). Use textbbox or textlength instead.\n",
      "  box_size = draw.textsize(word, font=transposed_font)\n",
      "/Users/ak/Desktop/neuefische/NLPower-capstone-project/.venv/lib/python3.9/site-packages/wordcloud/wordcloud.py:519: DeprecationWarning: ROTATE_90 is deprecated and will be removed in Pillow 10 (2023-07-01). Use Transpose.ROTATE_90 instead.\n",
      "  orientation = (Image.ROTATE_90 if orientation is None else\n",
      "/Users/ak/Desktop/neuefische/NLPower-capstone-project/.venv/lib/python3.9/site-packages/wordcloud/wordcloud.py:508: DeprecationWarning: textsize is deprecated and will be removed in Pillow 10 (2023-07-01). Use textbbox or textlength instead.\n",
      "  box_size = draw.textsize(word, font=transposed_font)\n",
      "/Users/ak/Desktop/neuefische/NLPower-capstone-project/.venv/lib/python3.9/site-packages/wordcloud/wordcloud.py:508: DeprecationWarning: textsize is deprecated and will be removed in Pillow 10 (2023-07-01). Use textbbox or textlength instead.\n",
      "  box_size = draw.textsize(word, font=transposed_font)\n",
      "/Users/ak/Desktop/neuefische/NLPower-capstone-project/.venv/lib/python3.9/site-packages/wordcloud/wordcloud.py:508: DeprecationWarning: textsize is deprecated and will be removed in Pillow 10 (2023-07-01). Use textbbox or textlength instead.\n",
      "  box_size = draw.textsize(word, font=transposed_font)\n",
      "/Users/ak/Desktop/neuefische/NLPower-capstone-project/.venv/lib/python3.9/site-packages/wordcloud/wordcloud.py:508: DeprecationWarning: textsize is deprecated and will be removed in Pillow 10 (2023-07-01). Use textbbox or textlength instead.\n",
      "  box_size = draw.textsize(word, font=transposed_font)\n",
      "/Users/ak/Desktop/neuefische/NLPower-capstone-project/.venv/lib/python3.9/site-packages/wordcloud/wordcloud.py:508: DeprecationWarning: textsize is deprecated and will be removed in Pillow 10 (2023-07-01). Use textbbox or textlength instead.\n",
      "  box_size = draw.textsize(word, font=transposed_font)\n",
      "/Users/ak/Desktop/neuefische/NLPower-capstone-project/.venv/lib/python3.9/site-packages/wordcloud/wordcloud.py:508: DeprecationWarning: textsize is deprecated and will be removed in Pillow 10 (2023-07-01). Use textbbox or textlength instead.\n",
      "  box_size = draw.textsize(word, font=transposed_font)\n",
      "/Users/ak/Desktop/neuefische/NLPower-capstone-project/.venv/lib/python3.9/site-packages/wordcloud/wordcloud.py:508: DeprecationWarning: textsize is deprecated and will be removed in Pillow 10 (2023-07-01). Use textbbox or textlength instead.\n",
      "  box_size = draw.textsize(word, font=transposed_font)\n",
      "/Users/ak/Desktop/neuefische/NLPower-capstone-project/.venv/lib/python3.9/site-packages/wordcloud/wordcloud.py:499: DeprecationWarning: ROTATE_90 is deprecated and will be removed in Pillow 10 (2023-07-01). Use Transpose.ROTATE_90 instead.\n",
      "  orientation = Image.ROTATE_90\n",
      "/Users/ak/Desktop/neuefische/NLPower-capstone-project/.venv/lib/python3.9/site-packages/wordcloud/wordcloud.py:508: DeprecationWarning: textsize is deprecated and will be removed in Pillow 10 (2023-07-01). Use textbbox or textlength instead.\n",
      "  box_size = draw.textsize(word, font=transposed_font)\n",
      "/Users/ak/Desktop/neuefische/NLPower-capstone-project/.venv/lib/python3.9/site-packages/wordcloud/wordcloud.py:508: DeprecationWarning: textsize is deprecated and will be removed in Pillow 10 (2023-07-01). Use textbbox or textlength instead.\n",
      "  box_size = draw.textsize(word, font=transposed_font)\n",
      "/Users/ak/Desktop/neuefische/NLPower-capstone-project/.venv/lib/python3.9/site-packages/wordcloud/wordcloud.py:508: DeprecationWarning: textsize is deprecated and will be removed in Pillow 10 (2023-07-01). Use textbbox or textlength instead.\n",
      "  box_size = draw.textsize(word, font=transposed_font)\n",
      "/Users/ak/Desktop/neuefische/NLPower-capstone-project/.venv/lib/python3.9/site-packages/wordcloud/wordcloud.py:508: DeprecationWarning: textsize is deprecated and will be removed in Pillow 10 (2023-07-01). Use textbbox or textlength instead.\n",
      "  box_size = draw.textsize(word, font=transposed_font)\n",
      "/Users/ak/Desktop/neuefische/NLPower-capstone-project/.venv/lib/python3.9/site-packages/wordcloud/wordcloud.py:519: DeprecationWarning: ROTATE_90 is deprecated and will be removed in Pillow 10 (2023-07-01). Use Transpose.ROTATE_90 instead.\n",
      "  orientation = (Image.ROTATE_90 if orientation is None else\n",
      "/Users/ak/Desktop/neuefische/NLPower-capstone-project/.venv/lib/python3.9/site-packages/wordcloud/wordcloud.py:508: DeprecationWarning: textsize is deprecated and will be removed in Pillow 10 (2023-07-01). Use textbbox or textlength instead.\n",
      "  box_size = draw.textsize(word, font=transposed_font)\n",
      "/Users/ak/Desktop/neuefische/NLPower-capstone-project/.venv/lib/python3.9/site-packages/wordcloud/wordcloud.py:508: DeprecationWarning: textsize is deprecated and will be removed in Pillow 10 (2023-07-01). Use textbbox or textlength instead.\n",
      "  box_size = draw.textsize(word, font=transposed_font)\n",
      "/Users/ak/Desktop/neuefische/NLPower-capstone-project/.venv/lib/python3.9/site-packages/wordcloud/wordcloud.py:508: DeprecationWarning: textsize is deprecated and will be removed in Pillow 10 (2023-07-01). Use textbbox or textlength instead.\n",
      "  box_size = draw.textsize(word, font=transposed_font)\n",
      "/Users/ak/Desktop/neuefische/NLPower-capstone-project/.venv/lib/python3.9/site-packages/wordcloud/wordcloud.py:508: DeprecationWarning: textsize is deprecated and will be removed in Pillow 10 (2023-07-01). Use textbbox or textlength instead.\n",
      "  box_size = draw.textsize(word, font=transposed_font)\n",
      "/Users/ak/Desktop/neuefische/NLPower-capstone-project/.venv/lib/python3.9/site-packages/wordcloud/wordcloud.py:508: DeprecationWarning: textsize is deprecated and will be removed in Pillow 10 (2023-07-01). Use textbbox or textlength instead.\n",
      "  box_size = draw.textsize(word, font=transposed_font)\n",
      "/Users/ak/Desktop/neuefische/NLPower-capstone-project/.venv/lib/python3.9/site-packages/wordcloud/wordcloud.py:508: DeprecationWarning: textsize is deprecated and will be removed in Pillow 10 (2023-07-01). Use textbbox or textlength instead.\n",
      "  box_size = draw.textsize(word, font=transposed_font)\n",
      "/Users/ak/Desktop/neuefische/NLPower-capstone-project/.venv/lib/python3.9/site-packages/wordcloud/wordcloud.py:508: DeprecationWarning: textsize is deprecated and will be removed in Pillow 10 (2023-07-01). Use textbbox or textlength instead.\n",
      "  box_size = draw.textsize(word, font=transposed_font)\n",
      "/Users/ak/Desktop/neuefische/NLPower-capstone-project/.venv/lib/python3.9/site-packages/wordcloud/wordcloud.py:508: DeprecationWarning: textsize is deprecated and will be removed in Pillow 10 (2023-07-01). Use textbbox or textlength instead.\n",
      "  box_size = draw.textsize(word, font=transposed_font)\n",
      "/Users/ak/Desktop/neuefische/NLPower-capstone-project/.venv/lib/python3.9/site-packages/wordcloud/wordcloud.py:508: DeprecationWarning: textsize is deprecated and will be removed in Pillow 10 (2023-07-01). Use textbbox or textlength instead.\n",
      "  box_size = draw.textsize(word, font=transposed_font)\n",
      "/Users/ak/Desktop/neuefische/NLPower-capstone-project/.venv/lib/python3.9/site-packages/wordcloud/wordcloud.py:508: DeprecationWarning: textsize is deprecated and will be removed in Pillow 10 (2023-07-01). Use textbbox or textlength instead.\n",
      "  box_size = draw.textsize(word, font=transposed_font)\n",
      "/Users/ak/Desktop/neuefische/NLPower-capstone-project/.venv/lib/python3.9/site-packages/wordcloud/wordcloud.py:508: DeprecationWarning: textsize is deprecated and will be removed in Pillow 10 (2023-07-01). Use textbbox or textlength instead.\n",
      "  box_size = draw.textsize(word, font=transposed_font)\n",
      "/Users/ak/Desktop/neuefische/NLPower-capstone-project/.venv/lib/python3.9/site-packages/wordcloud/wordcloud.py:508: DeprecationWarning: textsize is deprecated and will be removed in Pillow 10 (2023-07-01). Use textbbox or textlength instead.\n",
      "  box_size = draw.textsize(word, font=transposed_font)\n",
      "/Users/ak/Desktop/neuefische/NLPower-capstone-project/.venv/lib/python3.9/site-packages/wordcloud/wordcloud.py:519: DeprecationWarning: ROTATE_90 is deprecated and will be removed in Pillow 10 (2023-07-01). Use Transpose.ROTATE_90 instead.\n",
      "  orientation = (Image.ROTATE_90 if orientation is None else\n",
      "/Users/ak/Desktop/neuefische/NLPower-capstone-project/.venv/lib/python3.9/site-packages/wordcloud/wordcloud.py:508: DeprecationWarning: textsize is deprecated and will be removed in Pillow 10 (2023-07-01). Use textbbox or textlength instead.\n",
      "  box_size = draw.textsize(word, font=transposed_font)\n",
      "/Users/ak/Desktop/neuefische/NLPower-capstone-project/.venv/lib/python3.9/site-packages/wordcloud/wordcloud.py:508: DeprecationWarning: textsize is deprecated and will be removed in Pillow 10 (2023-07-01). Use textbbox or textlength instead.\n",
      "  box_size = draw.textsize(word, font=transposed_font)\n",
      "/Users/ak/Desktop/neuefische/NLPower-capstone-project/.venv/lib/python3.9/site-packages/wordcloud/wordcloud.py:499: DeprecationWarning: ROTATE_90 is deprecated and will be removed in Pillow 10 (2023-07-01). Use Transpose.ROTATE_90 instead.\n",
      "  orientation = Image.ROTATE_90\n",
      "/Users/ak/Desktop/neuefische/NLPower-capstone-project/.venv/lib/python3.9/site-packages/wordcloud/wordcloud.py:508: DeprecationWarning: textsize is deprecated and will be removed in Pillow 10 (2023-07-01). Use textbbox or textlength instead.\n",
      "  box_size = draw.textsize(word, font=transposed_font)\n",
      "/Users/ak/Desktop/neuefische/NLPower-capstone-project/.venv/lib/python3.9/site-packages/wordcloud/wordcloud.py:508: DeprecationWarning: textsize is deprecated and will be removed in Pillow 10 (2023-07-01). Use textbbox or textlength instead.\n",
      "  box_size = draw.textsize(word, font=transposed_font)\n",
      "/Users/ak/Desktop/neuefische/NLPower-capstone-project/.venv/lib/python3.9/site-packages/wordcloud/wordcloud.py:519: DeprecationWarning: ROTATE_90 is deprecated and will be removed in Pillow 10 (2023-07-01). Use Transpose.ROTATE_90 instead.\n",
      "  orientation = (Image.ROTATE_90 if orientation is None else\n",
      "/Users/ak/Desktop/neuefische/NLPower-capstone-project/.venv/lib/python3.9/site-packages/wordcloud/wordcloud.py:508: DeprecationWarning: textsize is deprecated and will be removed in Pillow 10 (2023-07-01). Use textbbox or textlength instead.\n",
      "  box_size = draw.textsize(word, font=transposed_font)\n",
      "/Users/ak/Desktop/neuefische/NLPower-capstone-project/.venv/lib/python3.9/site-packages/wordcloud/wordcloud.py:508: DeprecationWarning: textsize is deprecated and will be removed in Pillow 10 (2023-07-01). Use textbbox or textlength instead.\n",
      "  box_size = draw.textsize(word, font=transposed_font)\n",
      "/Users/ak/Desktop/neuefische/NLPower-capstone-project/.venv/lib/python3.9/site-packages/wordcloud/wordcloud.py:508: DeprecationWarning: textsize is deprecated and will be removed in Pillow 10 (2023-07-01). Use textbbox or textlength instead.\n",
      "  box_size = draw.textsize(word, font=transposed_font)\n",
      "/Users/ak/Desktop/neuefische/NLPower-capstone-project/.venv/lib/python3.9/site-packages/wordcloud/wordcloud.py:519: DeprecationWarning: ROTATE_90 is deprecated and will be removed in Pillow 10 (2023-07-01). Use Transpose.ROTATE_90 instead.\n",
      "  orientation = (Image.ROTATE_90 if orientation is None else\n",
      "/Users/ak/Desktop/neuefische/NLPower-capstone-project/.venv/lib/python3.9/site-packages/wordcloud/wordcloud.py:508: DeprecationWarning: textsize is deprecated and will be removed in Pillow 10 (2023-07-01). Use textbbox or textlength instead.\n",
      "  box_size = draw.textsize(word, font=transposed_font)\n",
      "/Users/ak/Desktop/neuefische/NLPower-capstone-project/.venv/lib/python3.9/site-packages/wordcloud/wordcloud.py:508: DeprecationWarning: textsize is deprecated and will be removed in Pillow 10 (2023-07-01). Use textbbox or textlength instead.\n",
      "  box_size = draw.textsize(word, font=transposed_font)\n",
      "/Users/ak/Desktop/neuefische/NLPower-capstone-project/.venv/lib/python3.9/site-packages/wordcloud/wordcloud.py:508: DeprecationWarning: textsize is deprecated and will be removed in Pillow 10 (2023-07-01). Use textbbox or textlength instead.\n",
      "  box_size = draw.textsize(word, font=transposed_font)\n",
      "/Users/ak/Desktop/neuefische/NLPower-capstone-project/.venv/lib/python3.9/site-packages/wordcloud/wordcloud.py:519: DeprecationWarning: ROTATE_90 is deprecated and will be removed in Pillow 10 (2023-07-01). Use Transpose.ROTATE_90 instead.\n",
      "  orientation = (Image.ROTATE_90 if orientation is None else\n",
      "/Users/ak/Desktop/neuefische/NLPower-capstone-project/.venv/lib/python3.9/site-packages/wordcloud/wordcloud.py:508: DeprecationWarning: textsize is deprecated and will be removed in Pillow 10 (2023-07-01). Use textbbox or textlength instead.\n",
      "  box_size = draw.textsize(word, font=transposed_font)\n",
      "/Users/ak/Desktop/neuefische/NLPower-capstone-project/.venv/lib/python3.9/site-packages/wordcloud/wordcloud.py:508: DeprecationWarning: textsize is deprecated and will be removed in Pillow 10 (2023-07-01). Use textbbox or textlength instead.\n",
      "  box_size = draw.textsize(word, font=transposed_font)\n",
      "/Users/ak/Desktop/neuefische/NLPower-capstone-project/.venv/lib/python3.9/site-packages/wordcloud/wordcloud.py:519: DeprecationWarning: ROTATE_90 is deprecated and will be removed in Pillow 10 (2023-07-01). Use Transpose.ROTATE_90 instead.\n",
      "  orientation = (Image.ROTATE_90 if orientation is None else\n",
      "/Users/ak/Desktop/neuefische/NLPower-capstone-project/.venv/lib/python3.9/site-packages/wordcloud/wordcloud.py:508: DeprecationWarning: textsize is deprecated and will be removed in Pillow 10 (2023-07-01). Use textbbox or textlength instead.\n",
      "  box_size = draw.textsize(word, font=transposed_font)\n",
      "/Users/ak/Desktop/neuefische/NLPower-capstone-project/.venv/lib/python3.9/site-packages/wordcloud/wordcloud.py:508: DeprecationWarning: textsize is deprecated and will be removed in Pillow 10 (2023-07-01). Use textbbox or textlength instead.\n",
      "  box_size = draw.textsize(word, font=transposed_font)\n",
      "/Users/ak/Desktop/neuefische/NLPower-capstone-project/.venv/lib/python3.9/site-packages/wordcloud/wordcloud.py:508: DeprecationWarning: textsize is deprecated and will be removed in Pillow 10 (2023-07-01). Use textbbox or textlength instead.\n",
      "  box_size = draw.textsize(word, font=transposed_font)\n",
      "/Users/ak/Desktop/neuefische/NLPower-capstone-project/.venv/lib/python3.9/site-packages/wordcloud/wordcloud.py:519: DeprecationWarning: ROTATE_90 is deprecated and will be removed in Pillow 10 (2023-07-01). Use Transpose.ROTATE_90 instead.\n",
      "  orientation = (Image.ROTATE_90 if orientation is None else\n",
      "/Users/ak/Desktop/neuefische/NLPower-capstone-project/.venv/lib/python3.9/site-packages/wordcloud/wordcloud.py:508: DeprecationWarning: textsize is deprecated and will be removed in Pillow 10 (2023-07-01). Use textbbox or textlength instead.\n",
      "  box_size = draw.textsize(word, font=transposed_font)\n",
      "/Users/ak/Desktop/neuefische/NLPower-capstone-project/.venv/lib/python3.9/site-packages/wordcloud/wordcloud.py:508: DeprecationWarning: textsize is deprecated and will be removed in Pillow 10 (2023-07-01). Use textbbox or textlength instead.\n",
      "  box_size = draw.textsize(word, font=transposed_font)\n",
      "/Users/ak/Desktop/neuefische/NLPower-capstone-project/.venv/lib/python3.9/site-packages/wordcloud/wordcloud.py:508: DeprecationWarning: textsize is deprecated and will be removed in Pillow 10 (2023-07-01). Use textbbox or textlength instead.\n",
      "  box_size = draw.textsize(word, font=transposed_font)\n",
      "/Users/ak/Desktop/neuefische/NLPower-capstone-project/.venv/lib/python3.9/site-packages/wordcloud/wordcloud.py:508: DeprecationWarning: textsize is deprecated and will be removed in Pillow 10 (2023-07-01). Use textbbox or textlength instead.\n",
      "  box_size = draw.textsize(word, font=transposed_font)\n",
      "/Users/ak/Desktop/neuefische/NLPower-capstone-project/.venv/lib/python3.9/site-packages/wordcloud/wordcloud.py:508: DeprecationWarning: textsize is deprecated and will be removed in Pillow 10 (2023-07-01). Use textbbox or textlength instead.\n",
      "  box_size = draw.textsize(word, font=transposed_font)\n",
      "/Users/ak/Desktop/neuefische/NLPower-capstone-project/.venv/lib/python3.9/site-packages/wordcloud/wordcloud.py:508: DeprecationWarning: textsize is deprecated and will be removed in Pillow 10 (2023-07-01). Use textbbox or textlength instead.\n",
      "  box_size = draw.textsize(word, font=transposed_font)\n",
      "/Users/ak/Desktop/neuefische/NLPower-capstone-project/.venv/lib/python3.9/site-packages/wordcloud/wordcloud.py:508: DeprecationWarning: textsize is deprecated and will be removed in Pillow 10 (2023-07-01). Use textbbox or textlength instead.\n",
      "  box_size = draw.textsize(word, font=transposed_font)\n",
      "/Users/ak/Desktop/neuefische/NLPower-capstone-project/.venv/lib/python3.9/site-packages/wordcloud/wordcloud.py:519: DeprecationWarning: ROTATE_90 is deprecated and will be removed in Pillow 10 (2023-07-01). Use Transpose.ROTATE_90 instead.\n",
      "  orientation = (Image.ROTATE_90 if orientation is None else\n",
      "/Users/ak/Desktop/neuefische/NLPower-capstone-project/.venv/lib/python3.9/site-packages/wordcloud/wordcloud.py:508: DeprecationWarning: textsize is deprecated and will be removed in Pillow 10 (2023-07-01). Use textbbox or textlength instead.\n",
      "  box_size = draw.textsize(word, font=transposed_font)\n",
      "/Users/ak/Desktop/neuefische/NLPower-capstone-project/.venv/lib/python3.9/site-packages/wordcloud/wordcloud.py:508: DeprecationWarning: textsize is deprecated and will be removed in Pillow 10 (2023-07-01). Use textbbox or textlength instead.\n",
      "  box_size = draw.textsize(word, font=transposed_font)\n",
      "/Users/ak/Desktop/neuefische/NLPower-capstone-project/.venv/lib/python3.9/site-packages/wordcloud/wordcloud.py:508: DeprecationWarning: textsize is deprecated and will be removed in Pillow 10 (2023-07-01). Use textbbox or textlength instead.\n",
      "  box_size = draw.textsize(word, font=transposed_font)\n",
      "/Users/ak/Desktop/neuefische/NLPower-capstone-project/.venv/lib/python3.9/site-packages/wordcloud/wordcloud.py:508: DeprecationWarning: textsize is deprecated and will be removed in Pillow 10 (2023-07-01). Use textbbox or textlength instead.\n",
      "  box_size = draw.textsize(word, font=transposed_font)\n",
      "/Users/ak/Desktop/neuefische/NLPower-capstone-project/.venv/lib/python3.9/site-packages/wordcloud/wordcloud.py:508: DeprecationWarning: textsize is deprecated and will be removed in Pillow 10 (2023-07-01). Use textbbox or textlength instead.\n",
      "  box_size = draw.textsize(word, font=transposed_font)\n",
      "/Users/ak/Desktop/neuefische/NLPower-capstone-project/.venv/lib/python3.9/site-packages/wordcloud/wordcloud.py:519: DeprecationWarning: ROTATE_90 is deprecated and will be removed in Pillow 10 (2023-07-01). Use Transpose.ROTATE_90 instead.\n",
      "  orientation = (Image.ROTATE_90 if orientation is None else\n",
      "/Users/ak/Desktop/neuefische/NLPower-capstone-project/.venv/lib/python3.9/site-packages/wordcloud/wordcloud.py:508: DeprecationWarning: textsize is deprecated and will be removed in Pillow 10 (2023-07-01). Use textbbox or textlength instead.\n",
      "  box_size = draw.textsize(word, font=transposed_font)\n",
      "/Users/ak/Desktop/neuefische/NLPower-capstone-project/.venv/lib/python3.9/site-packages/wordcloud/wordcloud.py:508: DeprecationWarning: textsize is deprecated and will be removed in Pillow 10 (2023-07-01). Use textbbox or textlength instead.\n",
      "  box_size = draw.textsize(word, font=transposed_font)\n",
      "/Users/ak/Desktop/neuefische/NLPower-capstone-project/.venv/lib/python3.9/site-packages/wordcloud/wordcloud.py:508: DeprecationWarning: textsize is deprecated and will be removed in Pillow 10 (2023-07-01). Use textbbox or textlength instead.\n",
      "  box_size = draw.textsize(word, font=transposed_font)\n",
      "/Users/ak/Desktop/neuefische/NLPower-capstone-project/.venv/lib/python3.9/site-packages/wordcloud/wordcloud.py:499: DeprecationWarning: ROTATE_90 is deprecated and will be removed in Pillow 10 (2023-07-01). Use Transpose.ROTATE_90 instead.\n",
      "  orientation = Image.ROTATE_90\n",
      "/Users/ak/Desktop/neuefische/NLPower-capstone-project/.venv/lib/python3.9/site-packages/wordcloud/wordcloud.py:508: DeprecationWarning: textsize is deprecated and will be removed in Pillow 10 (2023-07-01). Use textbbox or textlength instead.\n",
      "  box_size = draw.textsize(word, font=transposed_font)\n",
      "/Users/ak/Desktop/neuefische/NLPower-capstone-project/.venv/lib/python3.9/site-packages/wordcloud/wordcloud.py:508: DeprecationWarning: textsize is deprecated and will be removed in Pillow 10 (2023-07-01). Use textbbox or textlength instead.\n",
      "  box_size = draw.textsize(word, font=transposed_font)\n",
      "/Users/ak/Desktop/neuefische/NLPower-capstone-project/.venv/lib/python3.9/site-packages/wordcloud/wordcloud.py:508: DeprecationWarning: textsize is deprecated and will be removed in Pillow 10 (2023-07-01). Use textbbox or textlength instead.\n",
      "  box_size = draw.textsize(word, font=transposed_font)\n",
      "/Users/ak/Desktop/neuefische/NLPower-capstone-project/.venv/lib/python3.9/site-packages/wordcloud/wordcloud.py:508: DeprecationWarning: textsize is deprecated and will be removed in Pillow 10 (2023-07-01). Use textbbox or textlength instead.\n",
      "  box_size = draw.textsize(word, font=transposed_font)\n",
      "/Users/ak/Desktop/neuefische/NLPower-capstone-project/.venv/lib/python3.9/site-packages/wordcloud/wordcloud.py:508: DeprecationWarning: textsize is deprecated and will be removed in Pillow 10 (2023-07-01). Use textbbox or textlength instead.\n",
      "  box_size = draw.textsize(word, font=transposed_font)\n",
      "/Users/ak/Desktop/neuefische/NLPower-capstone-project/.venv/lib/python3.9/site-packages/wordcloud/wordcloud.py:508: DeprecationWarning: textsize is deprecated and will be removed in Pillow 10 (2023-07-01). Use textbbox or textlength instead.\n",
      "  box_size = draw.textsize(word, font=transposed_font)\n",
      "/Users/ak/Desktop/neuefische/NLPower-capstone-project/.venv/lib/python3.9/site-packages/wordcloud/wordcloud.py:508: DeprecationWarning: textsize is deprecated and will be removed in Pillow 10 (2023-07-01). Use textbbox or textlength instead.\n",
      "  box_size = draw.textsize(word, font=transposed_font)\n",
      "/Users/ak/Desktop/neuefische/NLPower-capstone-project/.venv/lib/python3.9/site-packages/wordcloud/wordcloud.py:508: DeprecationWarning: textsize is deprecated and will be removed in Pillow 10 (2023-07-01). Use textbbox or textlength instead.\n",
      "  box_size = draw.textsize(word, font=transposed_font)\n",
      "/Users/ak/Desktop/neuefische/NLPower-capstone-project/.venv/lib/python3.9/site-packages/wordcloud/wordcloud.py:508: DeprecationWarning: textsize is deprecated and will be removed in Pillow 10 (2023-07-01). Use textbbox or textlength instead.\n",
      "  box_size = draw.textsize(word, font=transposed_font)\n",
      "/Users/ak/Desktop/neuefische/NLPower-capstone-project/.venv/lib/python3.9/site-packages/wordcloud/wordcloud.py:508: DeprecationWarning: textsize is deprecated and will be removed in Pillow 10 (2023-07-01). Use textbbox or textlength instead.\n",
      "  box_size = draw.textsize(word, font=transposed_font)\n",
      "/Users/ak/Desktop/neuefische/NLPower-capstone-project/.venv/lib/python3.9/site-packages/wordcloud/wordcloud.py:508: DeprecationWarning: textsize is deprecated and will be removed in Pillow 10 (2023-07-01). Use textbbox or textlength instead.\n",
      "  box_size = draw.textsize(word, font=transposed_font)\n",
      "/Users/ak/Desktop/neuefische/NLPower-capstone-project/.venv/lib/python3.9/site-packages/wordcloud/wordcloud.py:508: DeprecationWarning: textsize is deprecated and will be removed in Pillow 10 (2023-07-01). Use textbbox or textlength instead.\n",
      "  box_size = draw.textsize(word, font=transposed_font)\n",
      "/Users/ak/Desktop/neuefische/NLPower-capstone-project/.venv/lib/python3.9/site-packages/wordcloud/wordcloud.py:508: DeprecationWarning: textsize is deprecated and will be removed in Pillow 10 (2023-07-01). Use textbbox or textlength instead.\n",
      "  box_size = draw.textsize(word, font=transposed_font)\n",
      "/Users/ak/Desktop/neuefische/NLPower-capstone-project/.venv/lib/python3.9/site-packages/wordcloud/wordcloud.py:508: DeprecationWarning: textsize is deprecated and will be removed in Pillow 10 (2023-07-01). Use textbbox or textlength instead.\n",
      "  box_size = draw.textsize(word, font=transposed_font)\n",
      "/Users/ak/Desktop/neuefische/NLPower-capstone-project/.venv/lib/python3.9/site-packages/wordcloud/wordcloud.py:508: DeprecationWarning: textsize is deprecated and will be removed in Pillow 10 (2023-07-01). Use textbbox or textlength instead.\n",
      "  box_size = draw.textsize(word, font=transposed_font)\n",
      "/Users/ak/Desktop/neuefische/NLPower-capstone-project/.venv/lib/python3.9/site-packages/wordcloud/wordcloud.py:508: DeprecationWarning: textsize is deprecated and will be removed in Pillow 10 (2023-07-01). Use textbbox or textlength instead.\n",
      "  box_size = draw.textsize(word, font=transposed_font)\n",
      "/Users/ak/Desktop/neuefische/NLPower-capstone-project/.venv/lib/python3.9/site-packages/wordcloud/wordcloud.py:508: DeprecationWarning: textsize is deprecated and will be removed in Pillow 10 (2023-07-01). Use textbbox or textlength instead.\n",
      "  box_size = draw.textsize(word, font=transposed_font)\n",
      "/Users/ak/Desktop/neuefische/NLPower-capstone-project/.venv/lib/python3.9/site-packages/wordcloud/wordcloud.py:508: DeprecationWarning: textsize is deprecated and will be removed in Pillow 10 (2023-07-01). Use textbbox or textlength instead.\n",
      "  box_size = draw.textsize(word, font=transposed_font)\n",
      "/Users/ak/Desktop/neuefische/NLPower-capstone-project/.venv/lib/python3.9/site-packages/wordcloud/wordcloud.py:508: DeprecationWarning: textsize is deprecated and will be removed in Pillow 10 (2023-07-01). Use textbbox or textlength instead.\n",
      "  box_size = draw.textsize(word, font=transposed_font)\n",
      "/Users/ak/Desktop/neuefische/NLPower-capstone-project/.venv/lib/python3.9/site-packages/wordcloud/wordcloud.py:508: DeprecationWarning: textsize is deprecated and will be removed in Pillow 10 (2023-07-01). Use textbbox or textlength instead.\n",
      "  box_size = draw.textsize(word, font=transposed_font)\n",
      "/Users/ak/Desktop/neuefische/NLPower-capstone-project/.venv/lib/python3.9/site-packages/wordcloud/wordcloud.py:508: DeprecationWarning: textsize is deprecated and will be removed in Pillow 10 (2023-07-01). Use textbbox or textlength instead.\n",
      "  box_size = draw.textsize(word, font=transposed_font)\n",
      "/Users/ak/Desktop/neuefische/NLPower-capstone-project/.venv/lib/python3.9/site-packages/wordcloud/wordcloud.py:508: DeprecationWarning: textsize is deprecated and will be removed in Pillow 10 (2023-07-01). Use textbbox or textlength instead.\n",
      "  box_size = draw.textsize(word, font=transposed_font)\n",
      "/Users/ak/Desktop/neuefische/NLPower-capstone-project/.venv/lib/python3.9/site-packages/wordcloud/wordcloud.py:508: DeprecationWarning: textsize is deprecated and will be removed in Pillow 10 (2023-07-01). Use textbbox or textlength instead.\n",
      "  box_size = draw.textsize(word, font=transposed_font)\n",
      "/Users/ak/Desktop/neuefische/NLPower-capstone-project/.venv/lib/python3.9/site-packages/wordcloud/wordcloud.py:508: DeprecationWarning: textsize is deprecated and will be removed in Pillow 10 (2023-07-01). Use textbbox or textlength instead.\n",
      "  box_size = draw.textsize(word, font=transposed_font)\n",
      "/Users/ak/Desktop/neuefische/NLPower-capstone-project/.venv/lib/python3.9/site-packages/wordcloud/wordcloud.py:508: DeprecationWarning: textsize is deprecated and will be removed in Pillow 10 (2023-07-01). Use textbbox or textlength instead.\n",
      "  box_size = draw.textsize(word, font=transposed_font)\n",
      "/Users/ak/Desktop/neuefische/NLPower-capstone-project/.venv/lib/python3.9/site-packages/wordcloud/wordcloud.py:508: DeprecationWarning: textsize is deprecated and will be removed in Pillow 10 (2023-07-01). Use textbbox or textlength instead.\n",
      "  box_size = draw.textsize(word, font=transposed_font)\n",
      "/Users/ak/Desktop/neuefische/NLPower-capstone-project/.venv/lib/python3.9/site-packages/wordcloud/wordcloud.py:519: DeprecationWarning: ROTATE_90 is deprecated and will be removed in Pillow 10 (2023-07-01). Use Transpose.ROTATE_90 instead.\n",
      "  orientation = (Image.ROTATE_90 if orientation is None else\n",
      "/Users/ak/Desktop/neuefische/NLPower-capstone-project/.venv/lib/python3.9/site-packages/wordcloud/wordcloud.py:508: DeprecationWarning: textsize is deprecated and will be removed in Pillow 10 (2023-07-01). Use textbbox or textlength instead.\n",
      "  box_size = draw.textsize(word, font=transposed_font)\n",
      "/Users/ak/Desktop/neuefische/NLPower-capstone-project/.venv/lib/python3.9/site-packages/wordcloud/wordcloud.py:508: DeprecationWarning: textsize is deprecated and will be removed in Pillow 10 (2023-07-01). Use textbbox or textlength instead.\n",
      "  box_size = draw.textsize(word, font=transposed_font)\n",
      "/Users/ak/Desktop/neuefische/NLPower-capstone-project/.venv/lib/python3.9/site-packages/wordcloud/wordcloud.py:508: DeprecationWarning: textsize is deprecated and will be removed in Pillow 10 (2023-07-01). Use textbbox or textlength instead.\n",
      "  box_size = draw.textsize(word, font=transposed_font)\n",
      "/Users/ak/Desktop/neuefische/NLPower-capstone-project/.venv/lib/python3.9/site-packages/wordcloud/wordcloud.py:508: DeprecationWarning: textsize is deprecated and will be removed in Pillow 10 (2023-07-01). Use textbbox or textlength instead.\n",
      "  box_size = draw.textsize(word, font=transposed_font)\n",
      "/Users/ak/Desktop/neuefische/NLPower-capstone-project/.venv/lib/python3.9/site-packages/wordcloud/wordcloud.py:499: DeprecationWarning: ROTATE_90 is deprecated and will be removed in Pillow 10 (2023-07-01). Use Transpose.ROTATE_90 instead.\n",
      "  orientation = Image.ROTATE_90\n",
      "/Users/ak/Desktop/neuefische/NLPower-capstone-project/.venv/lib/python3.9/site-packages/wordcloud/wordcloud.py:508: DeprecationWarning: textsize is deprecated and will be removed in Pillow 10 (2023-07-01). Use textbbox or textlength instead.\n",
      "  box_size = draw.textsize(word, font=transposed_font)\n",
      "/Users/ak/Desktop/neuefische/NLPower-capstone-project/.venv/lib/python3.9/site-packages/wordcloud/wordcloud.py:508: DeprecationWarning: textsize is deprecated and will be removed in Pillow 10 (2023-07-01). Use textbbox or textlength instead.\n",
      "  box_size = draw.textsize(word, font=transposed_font)\n",
      "/Users/ak/Desktop/neuefische/NLPower-capstone-project/.venv/lib/python3.9/site-packages/wordcloud/wordcloud.py:508: DeprecationWarning: textsize is deprecated and will be removed in Pillow 10 (2023-07-01). Use textbbox or textlength instead.\n",
      "  box_size = draw.textsize(word, font=transposed_font)\n",
      "/Users/ak/Desktop/neuefische/NLPower-capstone-project/.venv/lib/python3.9/site-packages/wordcloud/wordcloud.py:508: DeprecationWarning: textsize is deprecated and will be removed in Pillow 10 (2023-07-01). Use textbbox or textlength instead.\n",
      "  box_size = draw.textsize(word, font=transposed_font)\n",
      "/Users/ak/Desktop/neuefische/NLPower-capstone-project/.venv/lib/python3.9/site-packages/wordcloud/wordcloud.py:508: DeprecationWarning: textsize is deprecated and will be removed in Pillow 10 (2023-07-01). Use textbbox or textlength instead.\n",
      "  box_size = draw.textsize(word, font=transposed_font)\n",
      "/Users/ak/Desktop/neuefische/NLPower-capstone-project/.venv/lib/python3.9/site-packages/wordcloud/wordcloud.py:508: DeprecationWarning: textsize is deprecated and will be removed in Pillow 10 (2023-07-01). Use textbbox or textlength instead.\n",
      "  box_size = draw.textsize(word, font=transposed_font)\n",
      "/Users/ak/Desktop/neuefische/NLPower-capstone-project/.venv/lib/python3.9/site-packages/wordcloud/wordcloud.py:508: DeprecationWarning: textsize is deprecated and will be removed in Pillow 10 (2023-07-01). Use textbbox or textlength instead.\n",
      "  box_size = draw.textsize(word, font=transposed_font)\n",
      "/Users/ak/Desktop/neuefische/NLPower-capstone-project/.venv/lib/python3.9/site-packages/wordcloud/wordcloud.py:508: DeprecationWarning: textsize is deprecated and will be removed in Pillow 10 (2023-07-01). Use textbbox or textlength instead.\n",
      "  box_size = draw.textsize(word, font=transposed_font)\n",
      "/Users/ak/Desktop/neuefische/NLPower-capstone-project/.venv/lib/python3.9/site-packages/wordcloud/wordcloud.py:508: DeprecationWarning: textsize is deprecated and will be removed in Pillow 10 (2023-07-01). Use textbbox or textlength instead.\n",
      "  box_size = draw.textsize(word, font=transposed_font)\n",
      "/Users/ak/Desktop/neuefische/NLPower-capstone-project/.venv/lib/python3.9/site-packages/wordcloud/wordcloud.py:519: DeprecationWarning: ROTATE_90 is deprecated and will be removed in Pillow 10 (2023-07-01). Use Transpose.ROTATE_90 instead.\n",
      "  orientation = (Image.ROTATE_90 if orientation is None else\n",
      "/Users/ak/Desktop/neuefische/NLPower-capstone-project/.venv/lib/python3.9/site-packages/wordcloud/wordcloud.py:508: DeprecationWarning: textsize is deprecated and will be removed in Pillow 10 (2023-07-01). Use textbbox or textlength instead.\n",
      "  box_size = draw.textsize(word, font=transposed_font)\n",
      "/Users/ak/Desktop/neuefische/NLPower-capstone-project/.venv/lib/python3.9/site-packages/wordcloud/wordcloud.py:508: DeprecationWarning: textsize is deprecated and will be removed in Pillow 10 (2023-07-01). Use textbbox or textlength instead.\n",
      "  box_size = draw.textsize(word, font=transposed_font)\n",
      "/Users/ak/Desktop/neuefische/NLPower-capstone-project/.venv/lib/python3.9/site-packages/wordcloud/wordcloud.py:519: DeprecationWarning: ROTATE_90 is deprecated and will be removed in Pillow 10 (2023-07-01). Use Transpose.ROTATE_90 instead.\n",
      "  orientation = (Image.ROTATE_90 if orientation is None else\n",
      "/Users/ak/Desktop/neuefische/NLPower-capstone-project/.venv/lib/python3.9/site-packages/wordcloud/wordcloud.py:508: DeprecationWarning: textsize is deprecated and will be removed in Pillow 10 (2023-07-01). Use textbbox or textlength instead.\n",
      "  box_size = draw.textsize(word, font=transposed_font)\n"
     ]
    },
    {
     "data": {
      "text/plain": [
       "<matplotlib.image.AxesImage at 0x177c1e1c0>"
      ]
     },
     "execution_count": 25,
     "metadata": {},
     "output_type": "execute_result"
    },
    {
     "data": {
      "image/png": "[encoded data removed]",
      "text/plain": [
       "<Figure size 432x288 with 1 Axes>"
      ]
     },
     "metadata": {
      "needs_background": "light"
     },
     "output_type": "display_data"
    }
   ],
   "source": [
    "wordcloud = WordCloud(background_color=\"white\",max_words=100,\n",
    "                      max_font_size=40,\n",
    "                      scale=3,\n",
    "                      random_state=1).generate(text)\n",
    "plt.axis('off')\n",
    "plt.imshow(wordcloud)"
   ]
  },
  {
   "cell_type": "code",
   "execution_count": 26,
   "metadata": {},
   "outputs": [],
   "source": [
    "df['polarity'] = [TextBlob(text).sentiment[0] for text in df['text']]\n",
    "df['subjectivity'] = [TextBlob(text).sentiment[1] for text in df['text']]\n",
    "\n"
   ]
  },
  {
   "cell_type": "code",
   "execution_count": 27,
   "metadata": {},
   "outputs": [
    {
     "data": {
      "text/plain": [
       "<AxesSubplot:>"
      ]
     },
     "execution_count": 27,
     "metadata": {},
     "output_type": "execute_result"
    },
    {
     "data": {
      "image/png": "[encoded data removed]",
      "text/plain": [
       "<Figure size 432x288 with 1 Axes>"
      ]
     },
     "metadata": {
      "needs_background": "light"
     },
     "output_type": "display_data"
    }
   ],
   "source": [
    "def polarity(x):\n",
    "    if TextBlob(x).sentiment[0]<-0.1:\n",
    "       return 'Negative'\n",
    "    if TextBlob(x).sentiment[0]>0.1:\n",
    "       return 'Positive'\n",
    "    return 'Neutral'\n",
    "df['sentiment']= df['text'].map(lambda x: polarity(x))\n",
    "df['sentiment'][df['target'] == 1].hist()"
   ]
  },
  {
   "cell_type": "code",
   "execution_count": 28,
   "metadata": {},
   "outputs": [
    {
     "data": {
      "text/plain": [
       "<AxesSubplot:>"
      ]
     },
     "execution_count": 28,
     "metadata": {},
     "output_type": "execute_result"
    },
    {
     "data": {
      "image/png": "[encoded data removed]",
      "text/plain": [
       "<Figure size 432x288 with 1 Axes>"
      ]
     },
     "metadata": {
      "needs_background": "light"
     },
     "output_type": "display_data"
    }
   ],
   "source": [
    "df['sentiment'][df['target'] == 0].hist()"
   ]
  },
  {
   "cell_type": "code",
   "execution_count": 29,
   "metadata": {},
   "outputs": [],
   "source": [
    "def get_top_ngram(corpus, n=None):\n",
    "    vec = CountVectorizer(ngram_range=(n, n)).fit(corpus)\n",
    "    bag_of_words = vec.transform(corpus)\n",
    "    sum_words = bag_of_words.sum(axis=0) \n",
    "    words_freq = [(word, sum_words[0, idx]) \n",
    "                  for word, idx in vec.vocabulary_.items()]\n",
    "    words_freq =sorted(words_freq, key = lambda x: x[1], reverse=True)\n",
    "    return words_freq[:10]"
   ]
  },
  {
   "cell_type": "code",
   "execution_count": 30,
   "metadata": {},
   "outputs": [
    {
     "data": {
      "text/plain": [
       "<AxesSubplot:>"
      ]
     },
     "execution_count": 30,
     "metadata": {},
     "output_type": "execute_result"
    },
    {
     "data": {
      "image/png": "[encoded data removed]",
      "text/plain": [
       "<Figure size 432x288 with 1 Axes>"
      ]
     },
     "metadata": {
      "needs_background": "light"
     },
     "output_type": "display_data"
    }
   ],
   "source": [
    "top_n_bigrams=get_top_ngram(df['text'][df['target'] == 1],2)[:10]\n",
    "x,y=map(list,zip(*top_n_bigrams))\n",
    "sns.barplot(x=y,y=x)"
   ]
  },
  {
   "cell_type": "code",
   "execution_count": 31,
   "metadata": {},
   "outputs": [
    {
     "data": {
      "text/plain": [
       "<AxesSubplot:>"
      ]
     },
     "execution_count": 31,
     "metadata": {},
     "output_type": "execute_result"
    },
    {
     "data": {
      "image/png": "[encoded data removed]",
      "text/plain": [
       "<Figure size 432x288 with 1 Axes>"
      ]
     },
     "metadata": {
      "needs_background": "light"
     },
     "output_type": "display_data"
    }
   ],
   "source": [
    "top_n_bigrams=get_top_ngram(df['text'][df['target'] == 0],2)[:10]\n",
    "x,y=map(list,zip(*top_n_bigrams))\n",
    "sns.barplot(x=y,y=x)"
   ]
  },
  {
   "cell_type": "code",
   "execution_count": 32,
   "metadata": {},
   "outputs": [
    {
     "data": {
      "text/plain": [
       "<AxesSubplot:>"
      ]
     },
     "execution_count": 32,
     "metadata": {},
     "output_type": "execute_result"
    },
    {
     "data": {
      "image/png": "[encoded data removed]",
      "text/plain": [
       "<Figure size 432x288 with 1 Axes>"
      ]
     },
     "metadata": {
      "needs_background": "light"
     },
     "output_type": "display_data"
    }
   ],
   "source": [
    "top_n_bigrams=get_top_ngram(df['text'][df['target'] == 1],3)[:10]\n",
    "x,y=map(list,zip(*top_n_bigrams))\n",
    "sns.barplot(x=y,y=x)"
   ]
  },
  {
   "cell_type": "code",
   "execution_count": 3,
   "metadata": {},
   "outputs": [
    {
     "ename": "NameError",
     "evalue": "name 'stop' is not defined",
     "output_type": "error",
     "traceback": [
      "\u001b[0;31m---------------------------------------------------------------------------\u001b[0m",
      "\u001b[0;31mNameError\u001b[0m                                 Traceback (most recent call last)",
      "\u001b[1;32m/Users/ak/Desktop/neuefische/NLPower-capstone-project/notebooks/EDA_Alex.ipynb Cell 32\u001b[0m in \u001b[0;36m<cell line: 13>\u001b[0;34m()\u001b[0m\n\u001b[1;32m     <a href='vscode-notebook-cell:/Users/ak/Desktop/neuefische/NLPower-capstone-project/notebooks/EDA_Alex.ipynb#ch0000031?line=9'>10</a>\u001b[0m         corpus\u001b[39m.\u001b[39mappend(words)\n\u001b[1;32m     <a href='vscode-notebook-cell:/Users/ak/Desktop/neuefische/NLPower-capstone-project/notebooks/EDA_Alex.ipynb#ch0000031?line=10'>11</a>\u001b[0m     \u001b[39mreturn\u001b[39;00m corpus\n\u001b[0;32m---> <a href='vscode-notebook-cell:/Users/ak/Desktop/neuefische/NLPower-capstone-project/notebooks/EDA_Alex.ipynb#ch0000031?line=12'>13</a>\u001b[0m corpus\u001b[39m=\u001b[39mpreprocess_tweets(df[\u001b[39m'\u001b[39;49m\u001b[39mtext\u001b[39;49m\u001b[39m'\u001b[39;49m])\n",
      "\u001b[1;32m/Users/ak/Desktop/neuefische/NLPower-capstone-project/notebooks/EDA_Alex.ipynb Cell 32\u001b[0m in \u001b[0;36mpreprocess_tweets\u001b[0;34m(x)\u001b[0m\n\u001b[1;32m      <a href='vscode-notebook-cell:/Users/ak/Desktop/neuefische/NLPower-capstone-project/notebooks/EDA_Alex.ipynb#ch0000031?line=3'>4</a>\u001b[0m lem\u001b[39m=\u001b[39mWordNetLemmatizer()\n\u001b[1;32m      <a href='vscode-notebook-cell:/Users/ak/Desktop/neuefische/NLPower-capstone-project/notebooks/EDA_Alex.ipynb#ch0000031?line=4'>5</a>\u001b[0m \u001b[39mfor\u001b[39;00m tweets \u001b[39min\u001b[39;00m x:\n\u001b[0;32m----> <a href='vscode-notebook-cell:/Users/ak/Desktop/neuefische/NLPower-capstone-project/notebooks/EDA_Alex.ipynb#ch0000031?line=5'>6</a>\u001b[0m     words\u001b[39m=\u001b[39m[w \u001b[39mfor\u001b[39;00m w \u001b[39min\u001b[39;00m word_tokenize(\u001b[39mstr\u001b[39m(x)) \u001b[39mif\u001b[39;00m (w \u001b[39mnot\u001b[39;00m \u001b[39min\u001b[39;00m stop)]\n\u001b[1;32m      <a href='vscode-notebook-cell:/Users/ak/Desktop/neuefische/NLPower-capstone-project/notebooks/EDA_Alex.ipynb#ch0000031?line=7'>8</a>\u001b[0m     words\u001b[39m=\u001b[39m[lem\u001b[39m.\u001b[39mlemmatize(w) \u001b[39mfor\u001b[39;00m w \u001b[39min\u001b[39;00m words \u001b[39mif\u001b[39;00m \u001b[39mlen\u001b[39m(w)\u001b[39m>\u001b[39m\u001b[39m2\u001b[39m]\n\u001b[1;32m     <a href='vscode-notebook-cell:/Users/ak/Desktop/neuefische/NLPower-capstone-project/notebooks/EDA_Alex.ipynb#ch0000031?line=9'>10</a>\u001b[0m     corpus\u001b[39m.\u001b[39mappend(words)\n",
      "\u001b[1;32m/Users/ak/Desktop/neuefische/NLPower-capstone-project/notebooks/EDA_Alex.ipynb Cell 32\u001b[0m in \u001b[0;36m<listcomp>\u001b[0;34m(.0)\u001b[0m\n\u001b[1;32m      <a href='vscode-notebook-cell:/Users/ak/Desktop/neuefische/NLPower-capstone-project/notebooks/EDA_Alex.ipynb#ch0000031?line=3'>4</a>\u001b[0m lem\u001b[39m=\u001b[39mWordNetLemmatizer()\n\u001b[1;32m      <a href='vscode-notebook-cell:/Users/ak/Desktop/neuefische/NLPower-capstone-project/notebooks/EDA_Alex.ipynb#ch0000031?line=4'>5</a>\u001b[0m \u001b[39mfor\u001b[39;00m tweets \u001b[39min\u001b[39;00m x:\n\u001b[0;32m----> <a href='vscode-notebook-cell:/Users/ak/Desktop/neuefische/NLPower-capstone-project/notebooks/EDA_Alex.ipynb#ch0000031?line=5'>6</a>\u001b[0m     words\u001b[39m=\u001b[39m[w \u001b[39mfor\u001b[39;00m w \u001b[39min\u001b[39;00m word_tokenize(\u001b[39mstr\u001b[39m(x)) \u001b[39mif\u001b[39;00m (w \u001b[39mnot\u001b[39;00m \u001b[39min\u001b[39;00m stop)]\n\u001b[1;32m      <a href='vscode-notebook-cell:/Users/ak/Desktop/neuefische/NLPower-capstone-project/notebooks/EDA_Alex.ipynb#ch0000031?line=7'>8</a>\u001b[0m     words\u001b[39m=\u001b[39m[lem\u001b[39m.\u001b[39mlemmatize(w) \u001b[39mfor\u001b[39;00m w \u001b[39min\u001b[39;00m words \u001b[39mif\u001b[39;00m \u001b[39mlen\u001b[39m(w)\u001b[39m>\u001b[39m\u001b[39m2\u001b[39m]\n\u001b[1;32m     <a href='vscode-notebook-cell:/Users/ak/Desktop/neuefische/NLPower-capstone-project/notebooks/EDA_Alex.ipynb#ch0000031?line=9'>10</a>\u001b[0m     corpus\u001b[39m.\u001b[39mappend(words)\n",
      "\u001b[0;31mNameError\u001b[0m: name 'stop' is not defined"
     ]
    }
   ],
   "source": [
    "\n",
    "def preprocess_tweets(x):\n",
    "    corpus=[]\n",
    "    stem=PorterStemmer()\n",
    "    lem=WordNetLemmatizer()\n",
    "    for tweets in x:\n",
    "        words=[w for w in word_tokenize(str(x)) if (w not in stop)]\n",
    "        \n",
    "        words=[lem.lemmatize(w) for w in words if len(w)>2]\n",
    "        \n",
    "        corpus.append(words)\n",
    "    return corpus\n",
    "\n",
    "corpus=preprocess_tweets(df['text'])"
   ]
  },
  {
   "cell_type": "code",
   "execution_count": 34,
   "metadata": {},
   "outputs": [],
   "source": [
    "dic=gensim.corpora.Dictionary(corpus)\n",
    "bow_corpus = [dic.doc2bow(doc) for doc in corpus]"
   ]
  },
  {
   "cell_type": "code",
   "execution_count": 35,
   "metadata": {},
   "outputs": [
    {
     "data": {
      "text/plain": [
       "[(0,\n",
       "  '0.052*\"...\" + 0.035*\"bike\" + 0.033*\"shelter\" + 0.032*\"northern\" + 0.027*\"place\" + 0.027*\"evacuation\" + 0.022*\"state\" + 0.021*\"photo\" + 0.021*\"volcano\" + 0.020*\"Length\"'),\n",
       " (1,\n",
       "  '0.042*\"...\" + 0.038*\"place\" + 0.037*\"evacuation\" + 0.034*\"shelter\" + 0.033*\"bike\" + 0.032*\"northern\" + 0.022*\"tro\" + 0.020*\"investigate\" + 0.019*\"7608\" + 0.019*\"fire\"'),\n",
       " (2,\n",
       "  '0.053*\"...\" + 0.031*\"shelter\" + 0.030*\"northern\" + 0.029*\"place\" + 0.029*\"bike\" + 0.029*\"evacuation\" + 0.020*\"forgive\" + 0.019*\"7613\" + 0.019*\"object\" + 0.019*\"nearby\"'),\n",
       " (3,\n",
       "  '0.046*\"...\" + 0.037*\"evacuation\" + 0.036*\"northern\" + 0.035*\"place\" + 0.032*\"bike\" + 0.031*\"shelter\" + 0.019*\"notify\" + 0.019*\"tro\" + 0.018*\"ruby\" + 0.018*\"dtype\"')]"
      ]
     },
     "execution_count": 35,
     "metadata": {},
     "output_type": "execute_result"
    }
   ],
   "source": [
    "lda_model = gensim.models.LdaMulticore(bow_corpus, \n",
    "                                   num_topics = 4, \n",
    "                                   id2word = dic,                                    \n",
    "                                   passes = 10,\n",
    "                                   workers = 2)\n",
    "lda_model.show_topics()"
   ]
  },
  {
   "cell_type": "code",
   "execution_count": 36,
   "metadata": {},
   "outputs": [
    {
     "name": "stderr",
     "output_type": "stream",
     "text": [
      "/Users/ak/Desktop/neuefische/NLPower-capstone-project/.venv/lib/python3.9/site-packages/pyLDAvis/_prepare.py:246: FutureWarning: In a future version of pandas all arguments of DataFrame.drop except for the argument 'labels' will be keyword-only.\n",
      "  default_term_info = default_term_info.sort_values(\n",
      "/Users/ak/Desktop/neuefische/NLPower-capstone-project/.venv/lib/python3.9/site-packages/past/builtins/misc.py:45: DeprecationWarning: the imp module is deprecated in favour of importlib; see the module's documentation for alternative uses\n",
      "  from imp import reload\n",
      "/Users/ak/Desktop/neuefische/NLPower-capstone-project/.venv/lib/python3.9/site-packages/past/builtins/misc.py:45: DeprecationWarning: the imp module is deprecated in favour of importlib; see the module's documentation for alternative uses\n",
      "  from imp import reload\n",
      "/Users/ak/Desktop/neuefische/NLPower-capstone-project/.venv/lib/python3.9/site-packages/past/builtins/misc.py:45: DeprecationWarning: the imp module is deprecated in favour of importlib; see the module's documentation for alternative uses\n",
      "  from imp import reload\n",
      "/Users/ak/Desktop/neuefische/NLPower-capstone-project/.venv/lib/python3.9/site-packages/past/builtins/misc.py:45: DeprecationWarning: the imp module is deprecated in favour of importlib; see the module's documentation for alternative uses\n",
      "  from imp import reload\n",
      "/Users/ak/Desktop/neuefische/NLPower-capstone-project/.venv/lib/python3.9/site-packages/past/builtins/misc.py:45: DeprecationWarning: the imp module is deprecated in favour of importlib; see the module's documentation for alternative uses\n",
      "  from imp import reload\n",
      "/Users/ak/Desktop/neuefische/NLPower-capstone-project/.venv/lib/python3.9/site-packages/past/builtins/misc.py:45: DeprecationWarning: the imp module is deprecated in favour of importlib; see the module's documentation for alternative uses\n",
      "  from imp import reload\n",
      "/Users/ak/Desktop/neuefische/NLPower-capstone-project/.venv/lib/python3.9/site-packages/past/builtins/misc.py:45: DeprecationWarning: the imp module is deprecated in favour of importlib; see the module's documentation for alternative uses\n",
      "  from imp import reload\n",
      "/Users/ak/Desktop/neuefische/NLPower-capstone-project/.venv/lib/python3.9/site-packages/past/builtins/misc.py:45: DeprecationWarning: the imp module is deprecated in favour of importlib; see the module's documentation for alternative uses\n",
      "  from imp import reload\n"
     ]
    },
    {
     "data": {
      "text/html": [
       "\n",
       "<link rel=\"stylesheet\" type=\"text/css\" href=\"https://cdn.jsdelivr.net/gh/bmabey/pyLDAvis@3.3.1/pyLDAvis/js/ldavis.v1.0.0.css\">\n",
       "\n",
       "\n",
       "<div id=\"ldavis_el650162908997926375076462\"></div>\n",
       "<script type=\"text/javascript\">\n",
       "\n",
       "var ldavis_el650162908997926375076462_data = {\"mdsDat\": {\"x\": [-0.003901293413287619, -0.0004169178858163235, 0.000757043094044945, 0.003561168205058996], \"y\": [0.00014138096874881641, 0.0009042217575190797, -0.0016590279910242132, 0.0006134252647563175], \"topics\": [1, 2, 3, 4], \"cluster\": [1, 1, 1, 1], \"Freq\": [25.116307945207016, 25.1105470439554, 24.994671450625322, 24.778473560212262]}, \"tinfo\": {\"Term\": [\"tro\", \"object\", \"volcano\", \"forest\", \"state\", \"evacuation\", \"photo\", \"place\", \"investigate\", \"may\", \"...\", \"receive\", \"fire\", \"bridge\", \"7608\", \"forgive\", \"7613\", \"Length\", \"nearby\", \"text\", \"wild\", \"canada\", \"7609\", \"notify\", \"wildfire\", \"car\", \"reason\", \"northern\", \"bike\", \"giant\", \"state\", \"photo\", \"volcano\", \"Length\", \"car\", \"7609\", \"near\", \"object\", \"smoke\", \"may\", \"late\", \"aria\", \"reason\", \"bike\", \"Name\", \"fire\", \"canada\", \"...\", \"police\", \"earthquake\", \"collapse\", \"7613\", \"shelter\", \"part\", \"control\", \"rider\", \"hold\", \"news\", \"people\", \"northern\", \"place\", \"evacuation\", \"forgive\", \"7613\", \"object\", \"nearby\", \"receive\", \"part\", \"wild\", \"rider\", \"little\", \"investigate\", \"...\", \"7612\", \"7610\", \"news\", \"wildfire\", \"forest\", \"control\", \"photo\", \"sent\", \"earthquake\", \"school\", \"even\", \"late\", \"car\", \"may\", \"giant\", \"bridge\", \"smoke\", \"notify\", \"police\", \"shelter\", \"northern\", \"place\", \"bike\", \"evacuation\", \"notify\", \"tro\", \"ruby\", \"evacuation\", \"dtype\", \"forest\", \"may\", \"people\", \"wildfire\", \"northern\", \"sent\", \"text\", \"volcano\", \"nearby\", \"object\", \"place\", \"two\", \"7611\", \"giant\", \"bridge\", \"even\", \"rider\", \"7609\", \"7608\", \"part\", \"hold\", \"wild\", \"earthquake\", \"bike\", \"little\", \"shelter\", \"...\", \"tro\", \"investigate\", \"7608\", \"place\", \"fire\", \"forest\", \"canada\", \"bridge\", \"evacuation\", \"receive\", \"text\", \"reason\", \"school\", \"giant\", \"7611\", \"wild\", \"7610\", \"aria\", \"hold\", \"shelter\", \"control\", \"police\", \"news\", \"even\", \"collapse\", \"7612\", \"bike\", \"two\", \"northern\", \"forgive\", \"...\"], \"Freq\": [7621.0, 7599.0, 7616.0, 7610.0, 7622.0, 15233.0, 7611.0, 15236.0, 7613.0, 7606.0, 22823.0, 7611.0, 7621.0, 7613.0, 7619.0, 7605.0, 7606.0, 7617.0, 7603.0, 7613.0, 7609.0, 7622.0, 7611.0, 7608.0, 7605.0, 7612.0, 7619.0, 15228.0, 15234.0, 7613.0, 2576.8187345291335, 2543.348987817823, 2508.312320285626, 2356.015830905591, 2251.1973073794006, 2249.462565275555, 2169.4252831704503, 2161.600836669985, 2127.552327349945, 2120.984111479415, 2118.0278070896134, 2113.9093403153233, 2111.053066242864, 4183.812848794224, 2088.970656032725, 2068.7967712812847, 2062.8731216278024, 6164.124744548216, 2049.6362179344455, 2029.8310983705585, 2014.3292698096936, 2004.5101790342744, 3940.1217719848637, 1941.661991836201, 1923.8353968714048, 1912.5955664452547, 1889.223361348588, 1886.237909051746, 1881.3112503095242, 3742.995801577044, 3230.693733161319, 3204.748121180969, 2344.229571757331, 2294.0143903886055, 2239.8591834244394, 2234.56409103319, 2197.042340025927, 2132.3422054791868, 2132.0521178660074, 2128.153154900743, 2127.145354326799, 2122.917007252811, 6273.188788365132, 2081.434478568191, 2079.953795446735, 2060.9530567835004, 2045.08411635509, 2014.6105671273992, 2006.636027733748, 1970.9141886825353, 1968.8241891133061, 1965.6025387791178, 1962.2062618832667, 1951.2295143833574, 1948.924929456434, 1941.1554824468342, 1936.1922025994263, 1930.7295481850388, 1930.733742754788, 1915.1339170908109, 1911.0128626956698, 1903.5072320466095, 3637.5083682601608, 3501.906979709611, 3438.6458033536633, 3435.2153075993324, 3390.175342233762, 2251.434607919394, 2186.9238250134626, 2177.5227826500545, 4355.651190992673, 2175.694478672505, 2151.154771727681, 2149.9019879565258, 2145.757319528573, 2140.849246290764, 4231.528249251428, 2106.780603603333, 2102.2401688937016, 2066.4632046772476, 2054.4864951358513, 2041.8087892376784, 4077.9129184684825, 2026.8162571256219, 2013.679936996542, 2008.1438237625982, 1999.1174518657433, 1997.6490952337736, 1981.0912975890146, 1958.904872771063, 1931.4519656062419, 1917.3606203465813, 1915.6096676911586, 1900.0515040360476, 1896.0448373987083, 3775.022720864679, 1866.5137726959438, 3686.284493027397, 5435.821091859736, 2523.191590493734, 2322.4071744702733, 2277.9807019096324, 4488.841341667938, 2216.710929168683, 2169.780519669562, 2168.589548446083, 2159.955388308644, 4282.672829469556, 2093.507602944523, 2078.7671828118177, 2067.1735670184494, 2064.600790331182, 2052.0959192556093, 2050.7143316391275, 2032.6386692471447, 2024.291414012088, 2011.226239664741, 1997.062461351781, 3967.632947480429, 1979.7346687622867, 1978.3251966906, 1975.066854530443, 1957.1879082560386, 1946.9859010552416, 1943.4604780975747, 3840.025837959647, 1911.4236353874803, 3751.7331961101395, 1861.0871832545386, 4950.3364821179275], \"Total\": [7621.0, 7599.0, 7616.0, 7610.0, 7622.0, 15233.0, 7611.0, 15236.0, 7613.0, 7606.0, 22823.0, 7611.0, 7621.0, 7613.0, 7619.0, 7605.0, 7606.0, 7617.0, 7603.0, 7613.0, 7609.0, 7622.0, 7611.0, 7608.0, 7605.0, 7612.0, 7619.0, 15228.0, 15234.0, 7613.0, 7622.587146822038, 7611.975070713905, 7616.476553136258, 7617.926395194, 7612.5704567241355, 7611.763463006015, 7614.27968301982, 7599.858826314661, 7613.873413994792, 7606.997115799348, 7612.514203512068, 7617.795310153669, 7619.270480759866, 15234.076715217883, 7614.153161229074, 7621.5889105856895, 7622.215031965185, 22823.47110689101, 7615.798410572956, 7610.844765925975, 7616.195758224599, 7606.280217578817, 15231.54758075285, 7606.446841053677, 7613.504620909856, 7605.769332909198, 7615.826471227139, 7612.452989990159, 7611.586848178728, 15228.164226648221, 15236.093796651403, 15233.24748387696, 7605.693365083693, 7606.280217578817, 7599.858826314661, 7603.0217891104685, 7611.979980453878, 7606.446841053677, 7609.603556434828, 7605.769332909198, 7608.227255613679, 7613.9948955502505, 22823.47110689101, 7611.56739970868, 7611.977250188731, 7612.452989990159, 7605.975544633495, 7610.892547085661, 7613.504620909856, 7611.975070713905, 7608.865410921266, 7610.844765925975, 7614.732786246603, 7611.98642045783, 7612.514203512068, 7612.5704567241355, 7606.997115799348, 7613.005492040887, 7613.858892397851, 7613.873413994792, 7608.020611943542, 7615.798410572956, 15231.54758075285, 15228.164226648221, 15236.093796651403, 15234.076715217883, 15233.24748387696, 7608.020611943542, 7621.237650162622, 7612.755785532511, 15233.24748387696, 7610.568456929984, 7610.892547085661, 7606.997115799348, 7611.586848178728, 7605.975544633495, 15228.164226648221, 7608.865410921266, 7613.646394945528, 7616.476553136258, 7603.0217891104685, 7599.858826314661, 15236.093796651403, 7613.601807310377, 7614.344549733941, 7613.005492040887, 7613.858892397851, 7611.98642045783, 7605.769332909198, 7611.763463006015, 7619.30334659405, 7606.446841053677, 7615.826471227139, 7609.603556434828, 7610.844765925975, 15234.076715217883, 7608.227255613679, 15231.54758075285, 22823.47110689101, 7621.237650162622, 7613.9948955502505, 7619.30334659405, 15236.093796651403, 7621.5889105856895, 7610.892547085661, 7622.215031965185, 7613.858892397851, 15233.24748387696, 7611.979980453878, 7613.646394945528, 7619.270480759866, 7614.732786246603, 7613.005492040887, 7614.344549733941, 7609.603556434828, 7611.977250188731, 7617.795310153669, 7615.826471227139, 15231.54758075285, 7613.504620909856, 7615.798410572956, 7612.452989990159, 7611.98642045783, 7616.195758224599, 7611.56739970868, 15234.076715217883, 7613.601807310377, 15228.164226648221, 7605.693365083693, 22823.47110689101], \"Category\": [\"Default\", \"Default\", \"Default\", \"Default\", \"Default\", \"Default\", \"Default\", \"Default\", \"Default\", \"Default\", \"Default\", \"Default\", \"Default\", \"Default\", \"Default\", \"Default\", \"Default\", \"Default\", \"Default\", \"Default\", \"Default\", \"Default\", \"Default\", \"Default\", \"Default\", \"Default\", \"Default\", \"Default\", \"Default\", \"Default\", \"Topic1\", \"Topic1\", \"Topic1\", \"Topic1\", \"Topic1\", \"Topic1\", \"Topic1\", \"Topic1\", \"Topic1\", \"Topic1\", \"Topic1\", \"Topic1\", \"Topic1\", \"Topic1\", \"Topic1\", \"Topic1\", \"Topic1\", \"Topic1\", \"Topic1\", \"Topic1\", \"Topic1\", \"Topic1\", \"Topic1\", \"Topic1\", \"Topic1\", \"Topic1\", \"Topic1\", \"Topic1\", \"Topic1\", \"Topic1\", \"Topic1\", \"Topic1\", \"Topic2\", \"Topic2\", \"Topic2\", \"Topic2\", \"Topic2\", \"Topic2\", \"Topic2\", \"Topic2\", \"Topic2\", \"Topic2\", \"Topic2\", \"Topic2\", \"Topic2\", \"Topic2\", \"Topic2\", \"Topic2\", \"Topic2\", \"Topic2\", \"Topic2\", \"Topic2\", \"Topic2\", \"Topic2\", \"Topic2\", \"Topic2\", \"Topic2\", \"Topic2\", \"Topic2\", \"Topic2\", \"Topic2\", \"Topic2\", \"Topic2\", \"Topic2\", \"Topic2\", \"Topic2\", \"Topic2\", \"Topic3\", \"Topic3\", \"Topic3\", \"Topic3\", \"Topic3\", \"Topic3\", \"Topic3\", \"Topic3\", \"Topic3\", \"Topic3\", \"Topic3\", \"Topic3\", \"Topic3\", \"Topic3\", \"Topic3\", \"Topic3\", \"Topic3\", \"Topic3\", \"Topic3\", \"Topic3\", \"Topic3\", \"Topic3\", \"Topic3\", \"Topic3\", \"Topic3\", \"Topic3\", \"Topic3\", \"Topic3\", \"Topic3\", \"Topic3\", \"Topic3\", \"Topic3\", \"Topic4\", \"Topic4\", \"Topic4\", \"Topic4\", \"Topic4\", \"Topic4\", \"Topic4\", \"Topic4\", \"Topic4\", \"Topic4\", \"Topic4\", \"Topic4\", \"Topic4\", \"Topic4\", \"Topic4\", \"Topic4\", \"Topic4\", \"Topic4\", \"Topic4\", \"Topic4\", \"Topic4\", \"Topic4\", \"Topic4\", \"Topic4\", \"Topic4\", \"Topic4\", \"Topic4\", \"Topic4\", \"Topic4\", \"Topic4\", \"Topic4\"], \"logprob\": [30.0, 29.0, 28.0, 27.0, 26.0, 25.0, 24.0, 23.0, 22.0, 21.0, 20.0, 19.0, 18.0, 17.0, 16.0, 15.0, 14.0, 13.0, 12.0, 11.0, 10.0, 9.0, 8.0, 7.0, 6.0, 5.0, 4.0, 3.0, 2.0, 1.0, -3.8288, -3.8419, -3.8557, -3.9184, -3.9639, -3.9646, -4.0009, -4.0045, -4.0204, -4.0235, -4.0249, -4.0268, -4.0282, -3.3441, -4.0387, -4.0484, -4.0512, -2.9566, -4.0577, -4.0674, -4.0751, -4.0799, -3.4041, -4.1118, -4.121, -4.1269, -4.1392, -4.1408, -4.1434, -3.4555, -3.6026, -3.6107, -3.9232, -3.9448, -3.9687, -3.9711, -3.988, -4.0179, -4.018, -4.0199, -4.0203, -4.0223, -2.9388, -4.0421, -4.0428, -4.0519, -4.0597, -4.0747, -4.0786, -4.0966, -4.0977, -4.0993, -4.101, -4.1066, -4.1078, -4.1118, -4.1144, -4.1172, -4.1172, -4.1253, -4.1275, -4.1314, -3.4838, -3.5218, -3.54, -3.541, -3.5542, -3.9589, -3.988, -3.9923, -3.299, -3.9931, -4.0045, -4.0051, -4.007, -4.0093, -3.3279, -4.0253, -4.0275, -4.0446, -4.0505, -4.0566, -3.3649, -4.064, -4.0705, -4.0733, -4.0778, -4.0785, -4.0868, -4.0981, -4.1122, -4.1195, -4.1204, -4.1286, -4.1307, -3.4421, -4.1464, -3.4659, -3.0775, -3.8363, -3.9192, -3.9385, -3.2602, -3.9658, -3.9872, -3.9877, -3.9917, -3.3072, -4.023, -4.03, -4.0356, -4.0369, -4.0429, -4.0436, -4.0525, -4.0566, -4.0631, -4.0701, -3.3836, -4.0788, -4.0795, -4.0812, -4.0903, -4.0955, -4.0973, -3.4163, -4.1139, -3.4396, -4.1406, -3.1623], \"loglift\": [30.0, 29.0, 28.0, 27.0, 26.0, 25.0, 24.0, 23.0, 22.0, 21.0, 20.0, 19.0, 18.0, 17.0, 16.0, 15.0, 14.0, 13.0, 12.0, 11.0, 10.0, 9.0, 8.0, 7.0, 6.0, 5.0, 4.0, 3.0, 2.0, 1.0, 0.2971, 0.2854, 0.2709, 0.2081, 0.1633, 0.1626, 0.1261, 0.1244, 0.1067, 0.1045, 0.1023, 0.0997, 0.0982, 0.0893, 0.0883, 0.0776, 0.0747, 0.0726, 0.0691, 0.06, 0.0517, 0.0481, 0.0295, 0.0162, 0.0061, 0.0012, -0.0124, -0.0135, -0.016, -0.0216, -0.1693, -0.1772, 0.2049, 0.1832, 0.1602, 0.1574, 0.1393, 0.1101, 0.1096, 0.1082, 0.1074, 0.1047, 0.0904, 0.0853, 0.0845, 0.0753, 0.0684, 0.0527, 0.0484, 0.0307, 0.03, 0.0281, 0.0259, 0.0206, 0.0194, 0.0154, 0.0135, 0.0099, 0.0098, 0.0017, 0.0003, -0.0046, -0.0502, -0.088, -0.1067, -0.1076, -0.1207, 0.1689, 0.1381, 0.1349, 0.1345, 0.1343, 0.1229, 0.1229, 0.1203, 0.1188, 0.1059, 0.1024, 0.0996, 0.082, 0.078, 0.0722, 0.0684, 0.063, 0.0564, 0.0539, 0.0492, 0.0488, 0.0412, 0.0292, 0.0141, 0.0085, 0.0063, -0.001, -0.0033, -0.0086, -0.0187, -0.0322, -0.0483, 0.2898, 0.2078, 0.1878, 0.1731, 0.1602, 0.1402, 0.1382, 0.1353, 0.1263, 0.1043, 0.097, 0.0907, 0.09, 0.0842, 0.0833, 0.0751, 0.0707, 0.0635, 0.0566, 0.05, 0.0482, 0.0472, 0.046, 0.037, 0.0312, 0.03, 0.0171, 0.0131, -0.0057, -0.0125, -0.1331]}, \"token.table\": {\"Topic\": [1, 2, 3, 4, 1, 2, 3, 4, 1, 2, 3, 4, 1, 2, 3, 4, 1, 2, 3, 4, 1, 2, 3, 4, 1, 2, 3, 4, 1, 2, 3, 4, 1, 2, 3, 4, 1, 2, 3, 4, 1, 2, 3, 4, 1, 2, 3, 4, 1, 2, 3, 4, 1, 2, 3, 4, 1, 2, 3, 4, 1, 2, 3, 4, 1, 2, 3, 4, 1, 2, 3, 4, 1, 2, 3, 4, 1, 2, 3, 4, 1, 2, 3, 4, 1, 2, 3, 4, 1, 2, 3, 4, 1, 2, 3, 4, 1, 2, 3, 4, 1, 2, 3, 4, 1, 2, 3, 4, 1, 2, 3, 4, 1, 2, 3, 4, 1, 2, 3, 4, 1, 2, 3, 4, 1, 2, 3, 4, 1, 2, 3, 4, 1, 2, 3, 4, 1, 2, 3, 4, 1, 2, 3, 4, 1, 2, 3, 4, 1, 2, 3, 4, 1, 2, 3, 4, 1, 2, 3, 4, 1, 2, 3, 4, 1, 2, 3, 4, 1, 2, 3, 4, 1, 2, 3, 4, 1, 2, 3, 4, 1, 2, 3, 4, 1, 2, 3, 4, 1, 2, 3, 4, 1, 2, 3, 4, 1, 2, 3, 4, 1, 2, 3, 4, 1, 2, 3, 4, 1, 2, 3, 4, 1, 2, 3, 4, 1, 2, 3, 4], \"Freq\": [0.2700728548752133, 0.274848640271287, 0.2381758661748312, 0.21688199734463107, 0.21957388016948526, 0.2279735982393281, 0.2534352436385392, 0.2989774650484683, 0.2954637267606095, 0.241862481532362, 0.2573648024562179, 0.20520868883951626, 0.23200279532577608, 0.27325357546863777, 0.2287184975437011, 0.2658967484367898, 0.22142418024134616, 0.24480111030241355, 0.2645007704662344, 0.2693600199733102, 0.24554732315338007, 0.27339966799474796, 0.2257090964031605, 0.25526936805083866, 0.26359796676518166, 0.30159288566549963, 0.21179866556544025, 0.22310511202020614, 0.3092705124436952, 0.22643957299039652, 0.2267021116257477, 0.23759746499282186, 0.2743574965942496, 0.24441326048918066, 0.24244324495595246, 0.23876588262725978, 0.2775081127714569, 0.23970189873258294, 0.21882971806528795, 0.26398714038949855, 0.27464742880153986, 0.2254813379381667, 0.24779972364383676, 0.2520664738522737, 0.20016131393263092, 0.25361646798156845, 0.262547550230531, 0.2836932008493982, 0.2706562319940363, 0.21371740277182993, 0.23116639882379642, 0.28456295065199455, 0.29569512857666963, 0.2549730095812154, 0.22712433465529178, 0.22213259103649416, 0.2644364803550534, 0.2371262579549287, 0.24277212123956987, 0.2556394375627055, 0.2527088503651648, 0.26361053153996145, 0.22368148241781483, 0.2600642015192445, 0.24124347746037111, 0.24544815680608564, 0.285918195508588, 0.22731547712769173, 0.26672466229877434, 0.25831560890610367, 0.24911820675787005, 0.22586191846876508, 0.210395058794404, 0.22253954736755996, 0.28595347148468764, 0.2811613219396045, 0.2241202106476421, 0.25630629013689904, 0.26248076252871566, 0.25709452065500327, 0.2714657041035562, 0.22908608959149787, 0.20861791663830562, 0.29088422716171297, 0.16752305884126809, 0.2647521282863962, 0.2826212545627982, 0.28511767661611903, 0.2240426898910681, 0.30819017905203266, 0.22312232672837007, 0.24468512082586721, 0.21305645998754902, 0.2536448978026863, 0.26375916871454896, 0.2695387520927562, 0.24803611362951986, 0.23818820017149234, 0.25158136247440976, 0.2622171090090795, 0.19936971600639572, 0.27882866079155344, 0.21683755014924855, 0.3049647434564235, 0.27822608186699355, 0.2560257948813836, 0.23382550789577364, 0.2319864308673799, 0.24013478286311185, 0.27956578169120905, 0.2453922493735248, 0.23487731635269887, 0.2788222432206252, 0.254502528465408, 0.28263452283090246, 0.18404108463407604, 0.28485951269126164, 0.2444091992247293, 0.23666060021652993, 0.23403395648493694, 0.2259627879089639, 0.2939620669246416, 0.270155742936561, 0.20991653638108637, 0.24775194046911783, 0.27074058817966695, 0.22200465503330283, 0.2594433098761971, 0.2457945648793314, 0.2299686257567242, 0.27790611770487056, 0.2463855750540346, 0.24395307198383984, 0.2511822847850851, 0.29587196392005577, 0.20898997007236278, 0.28447896854531457, 0.29474231708672743, 0.2686892015585256, 0.15223967003095698, 0.2553097445601797, 0.2802885558199295, 0.25202305886810733, 0.2123198957078734, 0.2471232395449943, 0.24134257897084238, 0.28193858163931834, 0.22951850052371348, 0.33407886604671966, 0.25893411127726484, 0.20756767925828434, 0.19942261842663014, 0.21206222822742868, 0.2257140213166596, 0.26765390489367197, 0.29462932296902733, 0.2691772929748246, 0.2500066174751542, 0.22111929822907542, 0.2597232612215625, 0.2770606458099478, 0.23283068956269418, 0.21878735033878874, 0.27128581472722035, 0.23752033040583415, 0.288623985565054, 0.1988970023420536, 0.27509268355631455, 0.2515195920710732, 0.2797876068621243, 0.26046017349335915, 0.2082629554838369, 0.23289857837939024, 0.23723340809541948, 0.28609876125793116, 0.24380133190758504, 0.24281876356049983, 0.2576584175801518, 0.22837308265641384, 0.2711848278812505, 0.240508919683786, 0.25877708352862, 0.2769138217342826, 0.2238178635090096, 0.25867364948383387, 0.2388463799041085, 0.2419977340094953, 0.2605119393786428, 0.27948980555529046, 0.25151455716089344, 0.22984359009481123, 0.23930001208728346, 0.33807419323167553, 0.19507812391754037, 0.23023679050119927, 0.23653386511319788, 0.2051579386503903, 0.24574295980466085, 0.2760832183374651, 0.2730623267952378, 0.16887020967946564, 0.21308874943236378, 0.28696126539937167, 0.3310485928681366, 0.24035929988391078, 0.24246080195939854, 0.2662340441883536, 0.25099815414106746, 0.329286118391223, 0.2031122907301523, 0.2712540353254652, 0.19628498684006315, 0.20303291604376922, 0.2801722828513372, 0.249684492222111, 0.2671624066776588, 0.2442816163550432, 0.26886754867925905, 0.2814892037761827, 0.20536484647286193], \"Term\": [\"...\", \"...\", \"...\", \"...\", \"7608\", \"7608\", \"7608\", \"7608\", \"7609\", \"7609\", \"7609\", \"7609\", \"7610\", \"7610\", \"7610\", \"7610\", \"7611\", \"7611\", \"7611\", \"7611\", \"7612\", \"7612\", \"7612\", \"7612\", \"7613\", \"7613\", \"7613\", \"7613\", \"Length\", \"Length\", \"Length\", \"Length\", \"Name\", \"Name\", \"Name\", \"Name\", \"aria\", \"aria\", \"aria\", \"aria\", \"bike\", \"bike\", \"bike\", \"bike\", \"bridge\", \"bridge\", \"bridge\", \"bridge\", \"canada\", \"canada\", \"canada\", \"canada\", \"car\", \"car\", \"car\", \"car\", \"collapse\", \"collapse\", \"collapse\", \"collapse\", \"control\", \"control\", \"control\", \"control\", \"dtype\", \"dtype\", \"dtype\", \"dtype\", \"earthquake\", \"earthquake\", \"earthquake\", \"earthquake\", \"evacuation\", \"evacuation\", \"evacuation\", \"evacuation\", \"even\", \"even\", \"even\", \"even\", \"fire\", \"fire\", \"fire\", \"fire\", \"forest\", \"forest\", \"forest\", \"forest\", \"forgive\", \"forgive\", \"forgive\", \"forgive\", \"giant\", \"giant\", \"giant\", \"giant\", \"hold\", \"hold\", \"hold\", \"hold\", \"investigate\", \"investigate\", \"investigate\", \"investigate\", \"late\", \"late\", \"late\", \"late\", \"little\", \"little\", \"little\", \"little\", \"may\", \"may\", \"may\", \"may\", \"near\", \"near\", \"near\", \"near\", \"nearby\", \"nearby\", \"nearby\", \"nearby\", \"news\", \"news\", \"news\", \"news\", \"northern\", \"northern\", \"northern\", \"northern\", \"notify\", \"notify\", \"notify\", \"notify\", \"object\", \"object\", \"object\", \"object\", \"part\", \"part\", \"part\", \"part\", \"people\", \"people\", \"people\", \"people\", \"photo\", \"photo\", \"photo\", \"photo\", \"place\", \"place\", \"place\", \"place\", \"police\", \"police\", \"police\", \"police\", \"reason\", \"reason\", \"reason\", \"reason\", \"receive\", \"receive\", \"receive\", \"receive\", \"rider\", \"rider\", \"rider\", \"rider\", \"ruby\", \"ruby\", \"ruby\", \"ruby\", \"school\", \"school\", \"school\", \"school\", \"sent\", \"sent\", \"sent\", \"sent\", \"shelter\", \"shelter\", \"shelter\", \"shelter\", \"smoke\", \"smoke\", \"smoke\", \"smoke\", \"state\", \"state\", \"state\", \"state\", \"text\", \"text\", \"text\", \"text\", \"tro\", \"tro\", \"tro\", \"tro\", \"two\", \"two\", \"two\", \"two\", \"volcano\", \"volcano\", \"volcano\", \"volcano\", \"wild\", \"wild\", \"wild\", \"wild\", \"wildfire\", \"wildfire\", \"wildfire\", \"wildfire\"]}, \"R\": 30, \"lambda.step\": 0.01, \"plot.opts\": {\"xlab\": \"PC1\", \"ylab\": \"PC2\"}, \"topic.order\": [1, 3, 4, 2]};\n",
       "\n",
       "function LDAvis_load_lib(url, callback){\n",
       "  var s = document.createElement('script');\n",
       "  s.src = url;\n",
       "  s.async = true;\n",
       "  s.onreadystatechange = s.onload = callback;\n",
       "  s.onerror = function(){console.warn(\"failed to load library \" + url);};\n",
       "  document.getElementsByTagName(\"head\")[0].appendChild(s);\n",
       "}\n",
       "\n",
       "if(typeof(LDAvis) !== \"undefined\"){\n",
       "   // already loaded: just create the visualization\n",
       "   !function(LDAvis){\n",
       "       new LDAvis(\"#\" + \"ldavis_el650162908997926375076462\", ldavis_el650162908997926375076462_data);\n",
       "   }(LDAvis);\n",
       "}else if(typeof define === \"function\" && define.amd){\n",
       "   // require.js is available: use it to load d3/LDAvis\n",
       "   require.config({paths: {d3: \"https://d3js.org/d3.v5\"}});\n",
       "   require([\"d3\"], function(d3){\n",
       "      window.d3 = d3;\n",
       "      LDAvis_load_lib(\"https://cdn.jsdelivr.net/gh/bmabey/pyLDAvis@3.3.1/pyLDAvis/js/ldavis.v3.0.0.js\", function(){\n",
       "        new LDAvis(\"#\" + \"ldavis_el650162908997926375076462\", ldavis_el650162908997926375076462_data);\n",
       "      });\n",
       "    });\n",
       "}else{\n",
       "    // require.js not available: dynamically load d3 & LDAvis\n",
       "    LDAvis_load_lib(\"https://d3js.org/d3.v5.js\", function(){\n",
       "         LDAvis_load_lib(\"https://cdn.jsdelivr.net/gh/bmabey/pyLDAvis@3.3.1/pyLDAvis/js/ldavis.v3.0.0.js\", function(){\n",
       "                 new LDAvis(\"#\" + \"ldavis_el650162908997926375076462\", ldavis_el650162908997926375076462_data);\n",
       "            })\n",
       "         });\n",
       "}\n",
       "</script>"
      ],
      "text/plain": [
       "PreparedData(topic_coordinates=              x         y  topics  cluster       Freq\n",
       "topic                                                \n",
       "0     -0.003901  0.000141       1        1  25.116308\n",
       "2     -0.000417  0.000904       2        1  25.110547\n",
       "3      0.000757 -0.001659       3        1  24.994671\n",
       "1      0.003561  0.000613       4        1  24.778474, topic_info=        Term         Freq         Total Category  logprob  loglift\n",
       "50       tro  7621.000000   7621.000000  Default  30.0000  30.0000\n",
       "34    object  7599.000000   7599.000000  Default  29.0000  29.0000\n",
       "52   volcano  7616.000000   7616.000000  Default  28.0000  28.0000\n",
       "21    forest  7610.000000   7610.000000  Default  27.0000  27.0000\n",
       "48     state  7622.000000   7622.000000  Default  26.0000  26.0000\n",
       "..       ...          ...           ...      ...      ...      ...\n",
       "10      bike  3840.025838  15234.076715   Topic4  -3.4163   0.0171\n",
       "51       two  1911.423635   7613.601807   Topic4  -4.1139   0.0131\n",
       "32  northern  3751.733196  15228.164227   Topic4  -3.4396  -0.0057\n",
       "22   forgive  1861.087183   7605.693365   Topic4  -4.1406  -0.0125\n",
       "0        ...  4950.336482  22823.471107   Topic4  -3.1623  -0.1331\n",
       "\n",
       "[160 rows x 6 columns], token_table=      Topic      Freq      Term\n",
       "term                           \n",
       "0         1  0.270073       ...\n",
       "0         2  0.274849       ...\n",
       "0         3  0.238176       ...\n",
       "0         4  0.216882       ...\n",
       "1         1  0.219574      7608\n",
       "...     ...       ...       ...\n",
       "53        4  0.267162      wild\n",
       "54        1  0.244282  wildfire\n",
       "54        2  0.268868  wildfire\n",
       "54        3  0.281489  wildfire\n",
       "54        4  0.205365  wildfire\n",
       "\n",
       "[220 rows x 3 columns], R=30, lambda_step=0.01, plot_opts={'xlab': 'PC1', 'ylab': 'PC2'}, topic_order=[1, 3, 4, 2])"
      ]
     },
     "execution_count": 36,
     "metadata": {},
     "output_type": "execute_result"
    }
   ],
   "source": [
    "pyLDAvis.enable_notebook()\n",
    "vis = pyLDAvis.gensim_models.prepare(lda_model, bow_corpus, dic)\n",
    "vis"
   ]
  },
  {
   "cell_type": "code",
   "execution_count": 37,
   "metadata": {},
   "outputs": [
    {
     "data": {
      "text/plain": [
       "array(['aba woman', 'abandon aircraft', 'abandon cabin', ..., 'zone send',\n",
       "       'zone war', 'zoom face'], dtype=object)"
      ]
     },
     "execution_count": 37,
     "metadata": {},
     "output_type": "execute_result"
    }
   ],
   "source": [
    "vectorizer2 = CountVectorizer(analyzer='word', ngram_range=(2, 2))\n",
    "X2 = vectorizer2.fit_transform(df['text'])\n",
    "vectorizer2.get_feature_names_out()"
   ]
  },
  {
   "cell_type": "code",
   "execution_count": 90,
   "metadata": {},
   "outputs": [
    {
     "data": {
      "text/html": [
       "<div>\n",
       "<style scoped>\n",
       "    .dataframe tbody tr th:only-of-type {\n",
       "        vertical-align: middle;\n",
       "    }\n",
       "\n",
       "    .dataframe tbody tr th {\n",
       "        vertical-align: top;\n",
       "    }\n",
       "\n",
       "    .dataframe thead th {\n",
       "        text-align: right;\n",
       "    }\n",
       "</style>\n",
       "<table border=\"1\" class=\"dataframe\">\n",
       "  <thead>\n",
       "    <tr style=\"text-align: right;\">\n",
       "      <th></th>\n",
       "      <th>id</th>\n",
       "      <th>keyword</th>\n",
       "      <th>location</th>\n",
       "      <th>text</th>\n",
       "      <th>target</th>\n",
       "      <th>tweet_length</th>\n",
       "      <th>nwords</th>\n",
       "      <th>avgwordlength</th>\n",
       "      <th>polarity</th>\n",
       "      <th>subjectivity</th>\n",
       "      <th>sentiment</th>\n",
       "    </tr>\n",
       "  </thead>\n",
       "  <tbody>\n",
       "    <tr>\n",
       "      <th>0</th>\n",
       "      <td>1</td>\n",
       "      <td>NaN</td>\n",
       "      <td>NaN</td>\n",
       "      <td>reason earthquake may forgive</td>\n",
       "      <td>1</td>\n",
       "      <td>69</td>\n",
       "      <td>13</td>\n",
       "      <td>4.384615</td>\n",
       "      <td>0.000000</td>\n",
       "      <td>0.000000</td>\n",
       "      <td>Neutral</td>\n",
       "    </tr>\n",
       "    <tr>\n",
       "      <th>1</th>\n",
       "      <td>4</td>\n",
       "      <td>NaN</td>\n",
       "      <td>NaN</td>\n",
       "      <td>forest fire near canada</td>\n",
       "      <td>1</td>\n",
       "      <td>38</td>\n",
       "      <td>7</td>\n",
       "      <td>4.571429</td>\n",
       "      <td>0.100000</td>\n",
       "      <td>0.400000</td>\n",
       "      <td>Neutral</td>\n",
       "    </tr>\n",
       "    <tr>\n",
       "      <th>2</th>\n",
       "      <td>5</td>\n",
       "      <td>NaN</td>\n",
       "      <td>NaN</td>\n",
       "      <td>shelter place notify evacuation shelter place</td>\n",
       "      <td>1</td>\n",
       "      <td>133</td>\n",
       "      <td>22</td>\n",
       "      <td>5.090909</td>\n",
       "      <td>0.000000</td>\n",
       "      <td>0.000000</td>\n",
       "      <td>Neutral</td>\n",
       "    </tr>\n",
       "    <tr>\n",
       "      <th>3</th>\n",
       "      <td>6</td>\n",
       "      <td>NaN</td>\n",
       "      <td>NaN</td>\n",
       "      <td>people receive evacuation</td>\n",
       "      <td>1</td>\n",
       "      <td>65</td>\n",
       "      <td>8</td>\n",
       "      <td>7.125000</td>\n",
       "      <td>0.000000</td>\n",
       "      <td>0.000000</td>\n",
       "      <td>Neutral</td>\n",
       "    </tr>\n",
       "    <tr>\n",
       "      <th>4</th>\n",
       "      <td>7</td>\n",
       "      <td>NaN</td>\n",
       "      <td>NaN</td>\n",
       "      <td>sent photo ruby smoke school</td>\n",
       "      <td>1</td>\n",
       "      <td>88</td>\n",
       "      <td>16</td>\n",
       "      <td>4.500000</td>\n",
       "      <td>0.000000</td>\n",
       "      <td>0.000000</td>\n",
       "      <td>Neutral</td>\n",
       "    </tr>\n",
       "    <tr>\n",
       "      <th>...</th>\n",
       "      <td>...</td>\n",
       "      <td>...</td>\n",
       "      <td>...</td>\n",
       "      <td>...</td>\n",
       "      <td>...</td>\n",
       "      <td>...</td>\n",
       "      <td>...</td>\n",
       "      <td>...</td>\n",
       "      <td>...</td>\n",
       "      <td>...</td>\n",
       "      <td>...</td>\n",
       "    </tr>\n",
       "    <tr>\n",
       "      <th>7608</th>\n",
       "      <td>10869</td>\n",
       "      <td>NaN</td>\n",
       "      <td>NaN</td>\n",
       "      <td>two giant hold bridge collapse nearby</td>\n",
       "      <td>1</td>\n",
       "      <td>83</td>\n",
       "      <td>11</td>\n",
       "      <td>6.636364</td>\n",
       "      <td>0.000000</td>\n",
       "      <td>1.000000</td>\n",
       "      <td>Neutral</td>\n",
       "    </tr>\n",
       "    <tr>\n",
       "      <th>7609</th>\n",
       "      <td>10870</td>\n",
       "      <td>NaN</td>\n",
       "      <td>NaN</td>\n",
       "      <td>aria control wild even northern part state tro...</td>\n",
       "      <td>1</td>\n",
       "      <td>125</td>\n",
       "      <td>20</td>\n",
       "      <td>5.300000</td>\n",
       "      <td>0.100000</td>\n",
       "      <td>0.400000</td>\n",
       "      <td>Neutral</td>\n",
       "    </tr>\n",
       "    <tr>\n",
       "      <th>7610</th>\n",
       "      <td>10871</td>\n",
       "      <td>NaN</td>\n",
       "      <td>NaN</td>\n",
       "      <td>volcano</td>\n",
       "      <td>1</td>\n",
       "      <td>65</td>\n",
       "      <td>8</td>\n",
       "      <td>7.250000</td>\n",
       "      <td>0.000000</td>\n",
       "      <td>0.000000</td>\n",
       "      <td>Neutral</td>\n",
       "    </tr>\n",
       "    <tr>\n",
       "      <th>7611</th>\n",
       "      <td>10872</td>\n",
       "      <td>NaN</td>\n",
       "      <td>NaN</td>\n",
       "      <td>police investigate bike car little bike rider ...</td>\n",
       "      <td>1</td>\n",
       "      <td>137</td>\n",
       "      <td>19</td>\n",
       "      <td>6.263158</td>\n",
       "      <td>-0.260417</td>\n",
       "      <td>0.583333</td>\n",
       "      <td>Negative</td>\n",
       "    </tr>\n",
       "    <tr>\n",
       "      <th>7612</th>\n",
       "      <td>10873</td>\n",
       "      <td>NaN</td>\n",
       "      <td>NaN</td>\n",
       "      <td>late northern wildfire news</td>\n",
       "      <td>1</td>\n",
       "      <td>94</td>\n",
       "      <td>13</td>\n",
       "      <td>6.307692</td>\n",
       "      <td>-0.300000</td>\n",
       "      <td>0.600000</td>\n",
       "      <td>Negative</td>\n",
       "    </tr>\n",
       "  </tbody>\n",
       "</table>\n",
       "<p>7613 rows × 11 columns</p>\n",
       "</div>"
      ],
      "text/plain": [
       "         id keyword location  \\\n",
       "0         1     NaN      NaN   \n",
       "1         4     NaN      NaN   \n",
       "2         5     NaN      NaN   \n",
       "3         6     NaN      NaN   \n",
       "4         7     NaN      NaN   \n",
       "...     ...     ...      ...   \n",
       "7608  10869     NaN      NaN   \n",
       "7609  10870     NaN      NaN   \n",
       "7610  10871     NaN      NaN   \n",
       "7611  10872     NaN      NaN   \n",
       "7612  10873     NaN      NaN   \n",
       "\n",
       "                                                   text  target  tweet_length  \\\n",
       "0                         reason earthquake may forgive       1            69   \n",
       "1                               forest fire near canada       1            38   \n",
       "2         shelter place notify evacuation shelter place       1           133   \n",
       "3                             people receive evacuation       1            65   \n",
       "4                          sent photo ruby smoke school       1            88   \n",
       "...                                                 ...     ...           ...   \n",
       "7608              two giant hold bridge collapse nearby       1            83   \n",
       "7609  aria control wild even northern part state tro...       1           125   \n",
       "7610                                            volcano       1            65   \n",
       "7611  police investigate bike car little bike rider ...       1           137   \n",
       "7612                        late northern wildfire news       1            94   \n",
       "\n",
       "      nwords  avgwordlength  polarity  subjectivity sentiment  \n",
       "0         13       4.384615  0.000000      0.000000   Neutral  \n",
       "1          7       4.571429  0.100000      0.400000   Neutral  \n",
       "2         22       5.090909  0.000000      0.000000   Neutral  \n",
       "3          8       7.125000  0.000000      0.000000   Neutral  \n",
       "4         16       4.500000  0.000000      0.000000   Neutral  \n",
       "...      ...            ...       ...           ...       ...  \n",
       "7608      11       6.636364  0.000000      1.000000   Neutral  \n",
       "7609      20       5.300000  0.100000      0.400000   Neutral  \n",
       "7610       8       7.250000  0.000000      0.000000   Neutral  \n",
       "7611      19       6.263158 -0.260417      0.583333  Negative  \n",
       "7612      13       6.307692 -0.300000      0.600000  Negative  \n",
       "\n",
       "[7613 rows x 11 columns]"
      ]
     },
     "execution_count": 90,
     "metadata": {},
     "output_type": "execute_result"
    }
   ],
   "source": [
    "df"
   ]
  },
  {
   "cell_type": "code",
   "execution_count": 38,
   "metadata": {},
   "outputs": [
    {
     "name": "stdout",
     "output_type": "stream",
     "text": [
      "Train: 6090 Test: 1523\n"
     ]
    }
   ],
   "source": [
    "# Train test split\n",
    "from sklearn.model_selection import train_test_split\n",
    "\n",
    "y = df2.pop('target')\n",
    "\n",
    "# Split the train, test, validation set\n",
    "X_train, X_test, y_train, y_test = train_test_split(df2['text'], y, test_size=0.2, random_state=42)\n",
    "\n",
    "# Print values\n",
    "print(\"Train:\",len(X_train), \"Test:\", len(X_test))"
   ]
  },
  {
   "cell_type": "code",
   "execution_count": 12,
   "metadata": {},
   "outputs": [
    {
     "data": {
      "text/plain": [
       "[]"
      ]
     },
     "execution_count": 12,
     "metadata": {},
     "output_type": "execute_result"
    }
   ],
   "source": [
    "import string\n",
    "import re\n",
    "import spacy\n",
    "import contextualSpellCheck\n",
    "\n",
    "# Load the English library from SpaCy\n",
    "nlp = spacy.load(\"en_core_web_sm\")\n",
    "\n",
    "# Add contextual spell check to pipeline\n",
    "nlp.add_pipe(\"contextual spellchecker\", config={\"max_edit_dist\": 5})    \n",
    "\n",
    "# Create list of punctuation marks\n",
    "punctuations = string.punctuation\n",
    "\n",
    "# Create list of stopwords from spaCy\n",
    "stopwords = spacy.lang.en.stop_words.STOP_WORDS\n",
    "\n",
    "# Remove URLs\n",
    "def remove_urls(text):\n",
    "    text = re.sub(r\"\\S*https?:\\S*\", \"\", text, flags=re.MULTILINE)\n",
    "    return text\n",
    "\n",
    "# Creat tokenizer function\n",
    "def spacy_tokenizer(sentence):\n",
    "    # Create token object from spacy\n",
    "    docs = nlp(sentence)\n",
    "\n",
    "    # Correct spelling\n",
    "    tokens = docs._.outcome_spellCheck\n",
    "    #tokens = sentence\n",
    "    tokens = nlp(tokens)\n",
    "\n",
    "    # Lemmatize each token and convert each token into lowercase\n",
    "    tokens = [word.lemma_.lower().strip() if word.lemma_ != \"PROPN\" else word.lower_ for word in tokens]\n",
    "    \n",
    "    # Remove stopwords\n",
    "    tokens = [word for word in tokens if word not in stopwords and word not in punctuations]\n",
    "    \n",
    "    # Remove links\n",
    "    tokens = [remove_urls(word) for word in tokens]\n",
    "    \n",
    "    # return preprocessed list of tokens\n",
    "    return tokens\n",
    "\n",
    "spacy_tokenizer(df['text'][0])"
   ]
  },
  {
   "cell_type": "code",
   "execution_count": 19,
   "metadata": {},
   "outputs": [],
   "source": [
    "# Load the English library from SpaCy\n",
    "nlp = spacy.load(\"en_core_web_sm\")\n",
    "\n",
    "# Add contextual spell check to pipeline\n",
    "nlp.add_pipe(\"contextual spellchecker\", config={\"max_edit_dist\": 5})    \n",
    "\n",
    "# Create list of punctuation marks\n",
    "punctuations = string.punctuation\n",
    "\n",
    "# Create list of stopwords from spaCy\n",
    "stopwords = spacy.lang.en.stop_words.STOP_WORDS"
   ]
  },
  {
   "cell_type": "code",
   "execution_count": 20,
   "metadata": {},
   "outputs": [],
   "source": [
    "sentence = df['text'][0]\n",
    "docs = nlp(sentence)\n",
    "tokens = docs._.outcome_spellCheck"
   ]
  },
  {
   "cell_type": "code",
   "execution_count": null,
   "metadata": {},
   "outputs": [],
   "source": []
  },
  {
   "cell_type": "code",
   "execution_count": 21,
   "metadata": {},
   "outputs": [
    {
     "data": {
      "text/plain": [
       "''"
      ]
     },
     "execution_count": 21,
     "metadata": {},
     "output_type": "execute_result"
    }
   ],
   "source": [
    "tokens"
   ]
  },
  {
   "cell_type": "code",
   "execution_count": 11,
   "metadata": {},
   "outputs": [
    {
     "data": {
      "text/plain": [
       "[]"
      ]
     },
     "execution_count": 11,
     "metadata": {},
     "output_type": "execute_result"
    }
   ],
   "source": [
    "spacy_tokenizer('hello, how are you')"
   ]
  },
  {
   "cell_type": "code",
   "execution_count": null,
   "metadata": {},
   "outputs": [],
   "source": [
    "# Bag-of-words data transformation\n",
    "from sklearn.feature_extraction.text import CountVectorizer\n",
    "bow_vector = CountVectorizer(tokenizer = spacy_tokenizer, ngram_range=(1,1))"
   ]
  },
  {
   "cell_type": "code",
   "execution_count": null,
   "metadata": {},
   "outputs": [],
   "source": [
    "from sklearn.base import TransformerMixin\n",
    "from sklearn.pipeline import Pipeline\n",
    "\n",
    "# Custom transformer class using spaCy\n",
    "class predictors(TransformerMixin):\n",
    "    def transform(self, X, **transform_params):\n",
    "        # Implement clean_text\n",
    "        return [clean_text(text) for text in X]\n",
    "\n",
    "    def fit(self, X, y=None, **fit_params):\n",
    "        return self\n",
    "\n",
    "    def get_params(self, deep=True):\n",
    "        return {}\n",
    "\n",
    "# Basic function to clean the text\n",
    "def clean_text(text):\n",
    "    # Remove spaces and converte text into lowercase\n",
    "    return text.strip().lower()\n",
    "\n",
    "# Bag-of-words data transformation\n",
    "from sklearn.feature_extraction.text import CountVectorizer\n",
    "bow_vector = CountVectorizer(tokenizer = spacy_tokenizer, ngram_range=(1,1))"
   ]
  },
  {
   "cell_type": "code",
   "execution_count": null,
   "metadata": {},
   "outputs": [
    {
     "data": {
      "text/html": [
       "<style>#sk-container-id-3 {color: black;background-color: white;}#sk-container-id-3 pre{padding: 0;}#sk-container-id-3 div.sk-toggleable {background-color: white;}#sk-container-id-3 label.sk-toggleable__label {cursor: pointer;display: block;width: 100%;margin-bottom: 0;padding: 0.3em;box-sizing: border-box;text-align: center;}#sk-container-id-3 label.sk-toggleable__label-arrow:before {content: \"▸\";float: left;margin-right: 0.25em;color: #696969;}#sk-container-id-3 label.sk-toggleable__label-arrow:hover:before {color: black;}#sk-container-id-3 div.sk-estimator:hover label.sk-toggleable__label-arrow:before {color: black;}#sk-container-id-3 div.sk-toggleable__content {max-height: 0;max-width: 0;overflow: hidden;text-align: left;background-color: #f0f8ff;}#sk-container-id-3 div.sk-toggleable__content pre {margin: 0.2em;color: black;border-radius: 0.25em;background-color: #f0f8ff;}#sk-container-id-3 input.sk-toggleable__control:checked~div.sk-toggleable__content {max-height: 200px;max-width: 100%;overflow: auto;}#sk-container-id-3 input.sk-toggleable__control:checked~label.sk-toggleable__label-arrow:before {content: \"▾\";}#sk-container-id-3 div.sk-estimator input.sk-toggleable__control:checked~label.sk-toggleable__label {background-color: #d4ebff;}#sk-container-id-3 div.sk-label input.sk-toggleable__control:checked~label.sk-toggleable__label {background-color: #d4ebff;}#sk-container-id-3 input.sk-hidden--visually {border: 0;clip: rect(1px 1px 1px 1px);clip: rect(1px, 1px, 1px, 1px);height: 1px;margin: -1px;overflow: hidden;padding: 0;position: absolute;width: 1px;}#sk-container-id-3 div.sk-estimator {font-family: monospace;background-color: #f0f8ff;border: 1px dotted black;border-radius: 0.25em;box-sizing: border-box;margin-bottom: 0.5em;}#sk-container-id-3 div.sk-estimator:hover {background-color: #d4ebff;}#sk-container-id-3 div.sk-parallel-item::after {content: \"\";width: 100%;border-bottom: 1px solid gray;flex-grow: 1;}#sk-container-id-3 div.sk-label:hover label.sk-toggleable__label {background-color: #d4ebff;}#sk-container-id-3 div.sk-serial::before {content: \"\";position: absolute;border-left: 1px solid gray;box-sizing: border-box;top: 0;bottom: 0;left: 50%;z-index: 0;}#sk-container-id-3 div.sk-serial {display: flex;flex-direction: column;align-items: center;background-color: white;padding-right: 0.2em;padding-left: 0.2em;position: relative;}#sk-container-id-3 div.sk-item {position: relative;z-index: 1;}#sk-container-id-3 div.sk-parallel {display: flex;align-items: stretch;justify-content: center;background-color: white;position: relative;}#sk-container-id-3 div.sk-item::before, #sk-container-id-3 div.sk-parallel-item::before {content: \"\";position: absolute;border-left: 1px solid gray;box-sizing: border-box;top: 0;bottom: 0;left: 50%;z-index: -1;}#sk-container-id-3 div.sk-parallel-item {display: flex;flex-direction: column;z-index: 1;position: relative;background-color: white;}#sk-container-id-3 div.sk-parallel-item:first-child::after {align-self: flex-end;width: 50%;}#sk-container-id-3 div.sk-parallel-item:last-child::after {align-self: flex-start;width: 50%;}#sk-container-id-3 div.sk-parallel-item:only-child::after {width: 0;}#sk-container-id-3 div.sk-dashed-wrapped {border: 1px dashed gray;margin: 0 0.4em 0.5em 0.4em;box-sizing: border-box;padding-bottom: 0.4em;background-color: white;}#sk-container-id-3 div.sk-label label {font-family: monospace;font-weight: bold;display: inline-block;line-height: 1.2em;}#sk-container-id-3 div.sk-label-container {text-align: center;}#sk-container-id-3 div.sk-container {/* jupyter's `normalize.less` sets `[hidden] { display: none; }` but bootstrap.min.css set `[hidden] { display: none !important; }` so we also need the `!important` here to be able to override the default hidden behavior on the sphinx rendered scikit-learn.org. See: https://github.com/scikit-learn/scikit-learn/issues/21755 */display: inline-block !important;position: relative;}#sk-container-id-3 div.sk-text-repr-fallback {display: none;}</style><div id=\"sk-container-id-3\" class=\"sk-top-container\"><div class=\"sk-text-repr-fallback\"><pre>Pipeline(steps=[(&#x27;cleaner&#x27;, &lt;__main__.predictors object at 0x17cc46f70&gt;),\n",
       "                (&#x27;vectorizer&#x27;,\n",
       "                 CountVectorizer(tokenizer=&lt;function spacy_tokenizer at 0x127ac4160&gt;)),\n",
       "                (&#x27;classifier&#x27;, MultinomialNB())])</pre><b>In a Jupyter environment, please rerun this cell to show the HTML representation or trust the notebook. <br />On GitHub, the HTML representation is unable to render, please try loading this page with nbviewer.org.</b></div><div class=\"sk-container\" hidden><div class=\"sk-item sk-dashed-wrapped\"><div class=\"sk-label-container\"><div class=\"sk-label sk-toggleable\"><input class=\"sk-toggleable__control sk-hidden--visually\" id=\"sk-estimator-id-9\" type=\"checkbox\" ><label for=\"sk-estimator-id-9\" class=\"sk-toggleable__label sk-toggleable__label-arrow\">Pipeline</label><div class=\"sk-toggleable__content\"><pre>Pipeline(steps=[(&#x27;cleaner&#x27;, &lt;__main__.predictors object at 0x17cc46f70&gt;),\n",
       "                (&#x27;vectorizer&#x27;,\n",
       "                 CountVectorizer(tokenizer=&lt;function spacy_tokenizer at 0x127ac4160&gt;)),\n",
       "                (&#x27;classifier&#x27;, MultinomialNB())])</pre></div></div></div><div class=\"sk-serial\"><div class=\"sk-item\"><div class=\"sk-estimator sk-toggleable\"><input class=\"sk-toggleable__control sk-hidden--visually\" id=\"sk-estimator-id-10\" type=\"checkbox\" ><label for=\"sk-estimator-id-10\" class=\"sk-toggleable__label sk-toggleable__label-arrow\">predictors</label><div class=\"sk-toggleable__content\"><pre>&lt;__main__.predictors object at 0x17cc46f70&gt;</pre></div></div></div><div class=\"sk-item\"><div class=\"sk-estimator sk-toggleable\"><input class=\"sk-toggleable__control sk-hidden--visually\" id=\"sk-estimator-id-11\" type=\"checkbox\" ><label for=\"sk-estimator-id-11\" class=\"sk-toggleable__label sk-toggleable__label-arrow\">CountVectorizer</label><div class=\"sk-toggleable__content\"><pre>CountVectorizer(tokenizer=&lt;function spacy_tokenizer at 0x127ac4160&gt;)</pre></div></div></div><div class=\"sk-item\"><div class=\"sk-estimator sk-toggleable\"><input class=\"sk-toggleable__control sk-hidden--visually\" id=\"sk-estimator-id-12\" type=\"checkbox\" ><label for=\"sk-estimator-id-12\" class=\"sk-toggleable__label sk-toggleable__label-arrow\">MultinomialNB</label><div class=\"sk-toggleable__content\"><pre>MultinomialNB()</pre></div></div></div></div></div></div></div>"
      ],
      "text/plain": [
       "Pipeline(steps=[('cleaner', <__main__.predictors object at 0x17cc46f70>),\n",
       "                ('vectorizer',\n",
       "                 CountVectorizer(tokenizer=<function spacy_tokenizer at 0x127ac4160>)),\n",
       "                ('classifier', MultinomialNB())])"
      ]
     },
     "execution_count": 20,
     "metadata": {},
     "output_type": "execute_result"
    }
   ],
   "source": [
    "# Multinomial Naive Bayes Classifier\n",
    "from sklearn.naive_bayes import MultinomialNB\n",
    "classifier = MultinomialNB()\n",
    "\n",
    "# Create pipeline using Bag of Words\n",
    "pipe_NB = Pipeline([(\"cleaner\", predictors()),\n",
    "                 ('vectorizer', bow_vector),\n",
    "                 ('classifier', classifier)])\n",
    "\n",
    "# model generation\n",
    "pipe_NB.fit(X_train,y_train)"
   ]
  },
  {
   "cell_type": "code",
   "execution_count": null,
   "metadata": {},
   "outputs": [
    {
     "name": "stdout",
     "output_type": "stream",
     "text": [
      "              precision    recall  f1-score   support\n",
      "\n",
      "           0       0.81      0.85      0.83       874\n",
      "           1       0.78      0.73      0.75       649\n",
      "\n",
      "    accuracy                           0.80      1523\n",
      "   macro avg       0.79      0.79      0.79      1523\n",
      "weighted avg       0.80      0.80      0.79      1523\n",
      "\n"
     ]
    }
   ],
   "source": [
    "from sklearn.metrics import confusion_matrix\n",
    "from sklearn.metrics import classification_report\n",
    "\n",
    "y_pred = pipe_NB.predict(X_test)\n",
    "\n",
    "confusion_matrix(y_test, y_pred)\n",
    "print(classification_report(y_test, y_pred))"
   ]
  },
  {
   "cell_type": "code",
   "execution_count": null,
   "metadata": {},
   "outputs": [
    {
     "name": "stderr",
     "output_type": "stream",
     "text": [
      "/Users/ak/Desktop/neuefische/NLPower-capstone-project/.venv/lib/python3.9/site-packages/sklearn/linear_model/_logistic.py:444: ConvergenceWarning: lbfgs failed to converge (status=1):\n",
      "STOP: TOTAL NO. of ITERATIONS REACHED LIMIT.\n",
      "\n",
      "Increase the number of iterations (max_iter) or scale the data as shown in:\n",
      "    https://scikit-learn.org/stable/modules/preprocessing.html\n",
      "Please also refer to the documentation for alternative solver options:\n",
      "    https://scikit-learn.org/stable/modules/linear_model.html#logistic-regression\n",
      "  n_iter_i = _check_optimize_result(\n"
     ]
    },
    {
     "data": {
      "text/html": [
       "<style>#sk-container-id-4 {color: black;background-color: white;}#sk-container-id-4 pre{padding: 0;}#sk-container-id-4 div.sk-toggleable {background-color: white;}#sk-container-id-4 label.sk-toggleable__label {cursor: pointer;display: block;width: 100%;margin-bottom: 0;padding: 0.3em;box-sizing: border-box;text-align: center;}#sk-container-id-4 label.sk-toggleable__label-arrow:before {content: \"▸\";float: left;margin-right: 0.25em;color: #696969;}#sk-container-id-4 label.sk-toggleable__label-arrow:hover:before {color: black;}#sk-container-id-4 div.sk-estimator:hover label.sk-toggleable__label-arrow:before {color: black;}#sk-container-id-4 div.sk-toggleable__content {max-height: 0;max-width: 0;overflow: hidden;text-align: left;background-color: #f0f8ff;}#sk-container-id-4 div.sk-toggleable__content pre {margin: 0.2em;color: black;border-radius: 0.25em;background-color: #f0f8ff;}#sk-container-id-4 input.sk-toggleable__control:checked~div.sk-toggleable__content {max-height: 200px;max-width: 100%;overflow: auto;}#sk-container-id-4 input.sk-toggleable__control:checked~label.sk-toggleable__label-arrow:before {content: \"▾\";}#sk-container-id-4 div.sk-estimator input.sk-toggleable__control:checked~label.sk-toggleable__label {background-color: #d4ebff;}#sk-container-id-4 div.sk-label input.sk-toggleable__control:checked~label.sk-toggleable__label {background-color: #d4ebff;}#sk-container-id-4 input.sk-hidden--visually {border: 0;clip: rect(1px 1px 1px 1px);clip: rect(1px, 1px, 1px, 1px);height: 1px;margin: -1px;overflow: hidden;padding: 0;position: absolute;width: 1px;}#sk-container-id-4 div.sk-estimator {font-family: monospace;background-color: #f0f8ff;border: 1px dotted black;border-radius: 0.25em;box-sizing: border-box;margin-bottom: 0.5em;}#sk-container-id-4 div.sk-estimator:hover {background-color: #d4ebff;}#sk-container-id-4 div.sk-parallel-item::after {content: \"\";width: 100%;border-bottom: 1px solid gray;flex-grow: 1;}#sk-container-id-4 div.sk-label:hover label.sk-toggleable__label {background-color: #d4ebff;}#sk-container-id-4 div.sk-serial::before {content: \"\";position: absolute;border-left: 1px solid gray;box-sizing: border-box;top: 0;bottom: 0;left: 50%;z-index: 0;}#sk-container-id-4 div.sk-serial {display: flex;flex-direction: column;align-items: center;background-color: white;padding-right: 0.2em;padding-left: 0.2em;position: relative;}#sk-container-id-4 div.sk-item {position: relative;z-index: 1;}#sk-container-id-4 div.sk-parallel {display: flex;align-items: stretch;justify-content: center;background-color: white;position: relative;}#sk-container-id-4 div.sk-item::before, #sk-container-id-4 div.sk-parallel-item::before {content: \"\";position: absolute;border-left: 1px solid gray;box-sizing: border-box;top: 0;bottom: 0;left: 50%;z-index: -1;}#sk-container-id-4 div.sk-parallel-item {display: flex;flex-direction: column;z-index: 1;position: relative;background-color: white;}#sk-container-id-4 div.sk-parallel-item:first-child::after {align-self: flex-end;width: 50%;}#sk-container-id-4 div.sk-parallel-item:last-child::after {align-self: flex-start;width: 50%;}#sk-container-id-4 div.sk-parallel-item:only-child::after {width: 0;}#sk-container-id-4 div.sk-dashed-wrapped {border: 1px dashed gray;margin: 0 0.4em 0.5em 0.4em;box-sizing: border-box;padding-bottom: 0.4em;background-color: white;}#sk-container-id-4 div.sk-label label {font-family: monospace;font-weight: bold;display: inline-block;line-height: 1.2em;}#sk-container-id-4 div.sk-label-container {text-align: center;}#sk-container-id-4 div.sk-container {/* jupyter's `normalize.less` sets `[hidden] { display: none; }` but bootstrap.min.css set `[hidden] { display: none !important; }` so we also need the `!important` here to be able to override the default hidden behavior on the sphinx rendered scikit-learn.org. See: https://github.com/scikit-learn/scikit-learn/issues/21755 */display: inline-block !important;position: relative;}#sk-container-id-4 div.sk-text-repr-fallback {display: none;}</style><div id=\"sk-container-id-4\" class=\"sk-top-container\"><div class=\"sk-text-repr-fallback\"><pre>Pipeline(steps=[(&#x27;cleaner&#x27;, &lt;__main__.predictors object at 0x17cc46e20&gt;),\n",
       "                (&#x27;vectorizer&#x27;,\n",
       "                 CountVectorizer(tokenizer=&lt;function spacy_tokenizer at 0x127ac4160&gt;)),\n",
       "                (&#x27;classifier&#x27;, LogisticRegression())])</pre><b>In a Jupyter environment, please rerun this cell to show the HTML representation or trust the notebook. <br />On GitHub, the HTML representation is unable to render, please try loading this page with nbviewer.org.</b></div><div class=\"sk-container\" hidden><div class=\"sk-item sk-dashed-wrapped\"><div class=\"sk-label-container\"><div class=\"sk-label sk-toggleable\"><input class=\"sk-toggleable__control sk-hidden--visually\" id=\"sk-estimator-id-13\" type=\"checkbox\" ><label for=\"sk-estimator-id-13\" class=\"sk-toggleable__label sk-toggleable__label-arrow\">Pipeline</label><div class=\"sk-toggleable__content\"><pre>Pipeline(steps=[(&#x27;cleaner&#x27;, &lt;__main__.predictors object at 0x17cc46e20&gt;),\n",
       "                (&#x27;vectorizer&#x27;,\n",
       "                 CountVectorizer(tokenizer=&lt;function spacy_tokenizer at 0x127ac4160&gt;)),\n",
       "                (&#x27;classifier&#x27;, LogisticRegression())])</pre></div></div></div><div class=\"sk-serial\"><div class=\"sk-item\"><div class=\"sk-estimator sk-toggleable\"><input class=\"sk-toggleable__control sk-hidden--visually\" id=\"sk-estimator-id-14\" type=\"checkbox\" ><label for=\"sk-estimator-id-14\" class=\"sk-toggleable__label sk-toggleable__label-arrow\">predictors</label><div class=\"sk-toggleable__content\"><pre>&lt;__main__.predictors object at 0x17cc46e20&gt;</pre></div></div></div><div class=\"sk-item\"><div class=\"sk-estimator sk-toggleable\"><input class=\"sk-toggleable__control sk-hidden--visually\" id=\"sk-estimator-id-15\" type=\"checkbox\" ><label for=\"sk-estimator-id-15\" class=\"sk-toggleable__label sk-toggleable__label-arrow\">CountVectorizer</label><div class=\"sk-toggleable__content\"><pre>CountVectorizer(tokenizer=&lt;function spacy_tokenizer at 0x127ac4160&gt;)</pre></div></div></div><div class=\"sk-item\"><div class=\"sk-estimator sk-toggleable\"><input class=\"sk-toggleable__control sk-hidden--visually\" id=\"sk-estimator-id-16\" type=\"checkbox\" ><label for=\"sk-estimator-id-16\" class=\"sk-toggleable__label sk-toggleable__label-arrow\">LogisticRegression</label><div class=\"sk-toggleable__content\"><pre>LogisticRegression()</pre></div></div></div></div></div></div></div>"
      ],
      "text/plain": [
       "Pipeline(steps=[('cleaner', <__main__.predictors object at 0x17cc46e20>),\n",
       "                ('vectorizer',\n",
       "                 CountVectorizer(tokenizer=<function spacy_tokenizer at 0x127ac4160>)),\n",
       "                ('classifier', LogisticRegression())])"
      ]
     },
     "execution_count": 22,
     "metadata": {},
     "output_type": "execute_result"
    }
   ],
   "source": [
    "# Logistic Regression Classifier\n",
    "from sklearn.linear_model import LogisticRegression\n",
    "classifier_log = LogisticRegression()\n",
    "\n",
    "# Create pipeline using Bag of Words\n",
    "pipe_log = Pipeline([(\"cleaner\", predictors()),\n",
    "                 ('vectorizer', bow_vector),\n",
    "                 ('classifier', classifier_log)])\n",
    "\n",
    "# model generation\n",
    "pipe_log.fit(X_train,y_train)"
   ]
  },
  {
   "cell_type": "code",
   "execution_count": null,
   "metadata": {},
   "outputs": [
    {
     "name": "stdout",
     "output_type": "stream",
     "text": [
      "              precision    recall  f1-score   support\n",
      "\n",
      "           0       0.81      0.88      0.84       874\n",
      "           1       0.82      0.72      0.76       649\n",
      "\n",
      "    accuracy                           0.81      1523\n",
      "   macro avg       0.81      0.80      0.80      1523\n",
      "weighted avg       0.81      0.81      0.81      1523\n",
      "\n"
     ]
    }
   ],
   "source": [
    "from sklearn.metrics import confusion_matrix\n",
    "from sklearn.metrics import classification_report\n",
    "\n",
    "y_pred = pipe_log.predict(X_test)\n",
    "\n",
    "confusion_matrix(y_test, y_pred)\n",
    "print(classification_report(y_test, y_pred))"
   ]
  },
  {
   "cell_type": "code",
   "execution_count": null,
   "metadata": {},
   "outputs": [
    {
     "data": {
      "text/html": [
       "<style>#sk-container-id-5 {color: black;background-color: white;}#sk-container-id-5 pre{padding: 0;}#sk-container-id-5 div.sk-toggleable {background-color: white;}#sk-container-id-5 label.sk-toggleable__label {cursor: pointer;display: block;width: 100%;margin-bottom: 0;padding: 0.3em;box-sizing: border-box;text-align: center;}#sk-container-id-5 label.sk-toggleable__label-arrow:before {content: \"▸\";float: left;margin-right: 0.25em;color: #696969;}#sk-container-id-5 label.sk-toggleable__label-arrow:hover:before {color: black;}#sk-container-id-5 div.sk-estimator:hover label.sk-toggleable__label-arrow:before {color: black;}#sk-container-id-5 div.sk-toggleable__content {max-height: 0;max-width: 0;overflow: hidden;text-align: left;background-color: #f0f8ff;}#sk-container-id-5 div.sk-toggleable__content pre {margin: 0.2em;color: black;border-radius: 0.25em;background-color: #f0f8ff;}#sk-container-id-5 input.sk-toggleable__control:checked~div.sk-toggleable__content {max-height: 200px;max-width: 100%;overflow: auto;}#sk-container-id-5 input.sk-toggleable__control:checked~label.sk-toggleable__label-arrow:before {content: \"▾\";}#sk-container-id-5 div.sk-estimator input.sk-toggleable__control:checked~label.sk-toggleable__label {background-color: #d4ebff;}#sk-container-id-5 div.sk-label input.sk-toggleable__control:checked~label.sk-toggleable__label {background-color: #d4ebff;}#sk-container-id-5 input.sk-hidden--visually {border: 0;clip: rect(1px 1px 1px 1px);clip: rect(1px, 1px, 1px, 1px);height: 1px;margin: -1px;overflow: hidden;padding: 0;position: absolute;width: 1px;}#sk-container-id-5 div.sk-estimator {font-family: monospace;background-color: #f0f8ff;border: 1px dotted black;border-radius: 0.25em;box-sizing: border-box;margin-bottom: 0.5em;}#sk-container-id-5 div.sk-estimator:hover {background-color: #d4ebff;}#sk-container-id-5 div.sk-parallel-item::after {content: \"\";width: 100%;border-bottom: 1px solid gray;flex-grow: 1;}#sk-container-id-5 div.sk-label:hover label.sk-toggleable__label {background-color: #d4ebff;}#sk-container-id-5 div.sk-serial::before {content: \"\";position: absolute;border-left: 1px solid gray;box-sizing: border-box;top: 0;bottom: 0;left: 50%;z-index: 0;}#sk-container-id-5 div.sk-serial {display: flex;flex-direction: column;align-items: center;background-color: white;padding-right: 0.2em;padding-left: 0.2em;position: relative;}#sk-container-id-5 div.sk-item {position: relative;z-index: 1;}#sk-container-id-5 div.sk-parallel {display: flex;align-items: stretch;justify-content: center;background-color: white;position: relative;}#sk-container-id-5 div.sk-item::before, #sk-container-id-5 div.sk-parallel-item::before {content: \"\";position: absolute;border-left: 1px solid gray;box-sizing: border-box;top: 0;bottom: 0;left: 50%;z-index: -1;}#sk-container-id-5 div.sk-parallel-item {display: flex;flex-direction: column;z-index: 1;position: relative;background-color: white;}#sk-container-id-5 div.sk-parallel-item:first-child::after {align-self: flex-end;width: 50%;}#sk-container-id-5 div.sk-parallel-item:last-child::after {align-self: flex-start;width: 50%;}#sk-container-id-5 div.sk-parallel-item:only-child::after {width: 0;}#sk-container-id-5 div.sk-dashed-wrapped {border: 1px dashed gray;margin: 0 0.4em 0.5em 0.4em;box-sizing: border-box;padding-bottom: 0.4em;background-color: white;}#sk-container-id-5 div.sk-label label {font-family: monospace;font-weight: bold;display: inline-block;line-height: 1.2em;}#sk-container-id-5 div.sk-label-container {text-align: center;}#sk-container-id-5 div.sk-container {/* jupyter's `normalize.less` sets `[hidden] { display: none; }` but bootstrap.min.css set `[hidden] { display: none !important; }` so we also need the `!important` here to be able to override the default hidden behavior on the sphinx rendered scikit-learn.org. See: https://github.com/scikit-learn/scikit-learn/issues/21755 */display: inline-block !important;position: relative;}#sk-container-id-5 div.sk-text-repr-fallback {display: none;}</style><div id=\"sk-container-id-5\" class=\"sk-top-container\"><div class=\"sk-text-repr-fallback\"><pre>Pipeline(steps=[(&#x27;cleaner&#x27;, &lt;__main__.predictors object at 0x17cc79640&gt;),\n",
       "                (&#x27;vectorizer&#x27;,\n",
       "                 CountVectorizer(tokenizer=&lt;function spacy_tokenizer at 0x127ac4160&gt;)),\n",
       "                (&#x27;classifier&#x27;, SVC())])</pre><b>In a Jupyter environment, please rerun this cell to show the HTML representation or trust the notebook. <br />On GitHub, the HTML representation is unable to render, please try loading this page with nbviewer.org.</b></div><div class=\"sk-container\" hidden><div class=\"sk-item sk-dashed-wrapped\"><div class=\"sk-label-container\"><div class=\"sk-label sk-toggleable\"><input class=\"sk-toggleable__control sk-hidden--visually\" id=\"sk-estimator-id-17\" type=\"checkbox\" ><label for=\"sk-estimator-id-17\" class=\"sk-toggleable__label sk-toggleable__label-arrow\">Pipeline</label><div class=\"sk-toggleable__content\"><pre>Pipeline(steps=[(&#x27;cleaner&#x27;, &lt;__main__.predictors object at 0x17cc79640&gt;),\n",
       "                (&#x27;vectorizer&#x27;,\n",
       "                 CountVectorizer(tokenizer=&lt;function spacy_tokenizer at 0x127ac4160&gt;)),\n",
       "                (&#x27;classifier&#x27;, SVC())])</pre></div></div></div><div class=\"sk-serial\"><div class=\"sk-item\"><div class=\"sk-estimator sk-toggleable\"><input class=\"sk-toggleable__control sk-hidden--visually\" id=\"sk-estimator-id-18\" type=\"checkbox\" ><label for=\"sk-estimator-id-18\" class=\"sk-toggleable__label sk-toggleable__label-arrow\">predictors</label><div class=\"sk-toggleable__content\"><pre>&lt;__main__.predictors object at 0x17cc79640&gt;</pre></div></div></div><div class=\"sk-item\"><div class=\"sk-estimator sk-toggleable\"><input class=\"sk-toggleable__control sk-hidden--visually\" id=\"sk-estimator-id-19\" type=\"checkbox\" ><label for=\"sk-estimator-id-19\" class=\"sk-toggleable__label sk-toggleable__label-arrow\">CountVectorizer</label><div class=\"sk-toggleable__content\"><pre>CountVectorizer(tokenizer=&lt;function spacy_tokenizer at 0x127ac4160&gt;)</pre></div></div></div><div class=\"sk-item\"><div class=\"sk-estimator sk-toggleable\"><input class=\"sk-toggleable__control sk-hidden--visually\" id=\"sk-estimator-id-20\" type=\"checkbox\" ><label for=\"sk-estimator-id-20\" class=\"sk-toggleable__label sk-toggleable__label-arrow\">SVC</label><div class=\"sk-toggleable__content\"><pre>SVC()</pre></div></div></div></div></div></div></div>"
      ],
      "text/plain": [
       "Pipeline(steps=[('cleaner', <__main__.predictors object at 0x17cc79640>),\n",
       "                ('vectorizer',\n",
       "                 CountVectorizer(tokenizer=<function spacy_tokenizer at 0x127ac4160>)),\n",
       "                ('classifier', SVC())])"
      ]
     },
     "execution_count": 24,
     "metadata": {},
     "output_type": "execute_result"
    }
   ],
   "source": [
    "# SVM Classifier\n",
    "from sklearn.svm import SVC\n",
    "classifier_svm = SVC()\n",
    "\n",
    "# Create pipeline using Bag of Words\n",
    "pipe_svm = Pipeline([(\"cleaner\", predictors()),\n",
    "                 ('vectorizer', bow_vector),\n",
    "                 ('classifier', classifier_svm)])\n",
    "\n",
    "# model generation\n",
    "pipe_svm.fit(X_train,y_train)"
   ]
  },
  {
   "cell_type": "code",
   "execution_count": null,
   "metadata": {},
   "outputs": [
    {
     "name": "stdout",
     "output_type": "stream",
     "text": [
      "              precision    recall  f1-score   support\n",
      "\n",
      "           0       0.78      0.91      0.84       874\n",
      "           1       0.85      0.66      0.75       649\n",
      "\n",
      "    accuracy                           0.81      1523\n",
      "   macro avg       0.82      0.79      0.79      1523\n",
      "weighted avg       0.81      0.81      0.80      1523\n",
      "\n"
     ]
    }
   ],
   "source": [
    "from sklearn.metrics import confusion_matrix\n",
    "from sklearn.metrics import classification_report\n",
    "\n",
    "y_pred = pipe_svm.predict(X_test)\n",
    "\n",
    "confusion_matrix(y_test, y_pred)\n",
    "print(classification_report(y_test, y_pred))"
   ]
  },
  {
   "cell_type": "code",
   "execution_count": null,
   "metadata": {},
   "outputs": [
    {
     "data": {
      "text/html": [
       "<style>#sk-container-id-6 {color: black;background-color: white;}#sk-container-id-6 pre{padding: 0;}#sk-container-id-6 div.sk-toggleable {background-color: white;}#sk-container-id-6 label.sk-toggleable__label {cursor: pointer;display: block;width: 100%;margin-bottom: 0;padding: 0.3em;box-sizing: border-box;text-align: center;}#sk-container-id-6 label.sk-toggleable__label-arrow:before {content: \"▸\";float: left;margin-right: 0.25em;color: #696969;}#sk-container-id-6 label.sk-toggleable__label-arrow:hover:before {color: black;}#sk-container-id-6 div.sk-estimator:hover label.sk-toggleable__label-arrow:before {color: black;}#sk-container-id-6 div.sk-toggleable__content {max-height: 0;max-width: 0;overflow: hidden;text-align: left;background-color: #f0f8ff;}#sk-container-id-6 div.sk-toggleable__content pre {margin: 0.2em;color: black;border-radius: 0.25em;background-color: #f0f8ff;}#sk-container-id-6 input.sk-toggleable__control:checked~div.sk-toggleable__content {max-height: 200px;max-width: 100%;overflow: auto;}#sk-container-id-6 input.sk-toggleable__control:checked~label.sk-toggleable__label-arrow:before {content: \"▾\";}#sk-container-id-6 div.sk-estimator input.sk-toggleable__control:checked~label.sk-toggleable__label {background-color: #d4ebff;}#sk-container-id-6 div.sk-label input.sk-toggleable__control:checked~label.sk-toggleable__label {background-color: #d4ebff;}#sk-container-id-6 input.sk-hidden--visually {border: 0;clip: rect(1px 1px 1px 1px);clip: rect(1px, 1px, 1px, 1px);height: 1px;margin: -1px;overflow: hidden;padding: 0;position: absolute;width: 1px;}#sk-container-id-6 div.sk-estimator {font-family: monospace;background-color: #f0f8ff;border: 1px dotted black;border-radius: 0.25em;box-sizing: border-box;margin-bottom: 0.5em;}#sk-container-id-6 div.sk-estimator:hover {background-color: #d4ebff;}#sk-container-id-6 div.sk-parallel-item::after {content: \"\";width: 100%;border-bottom: 1px solid gray;flex-grow: 1;}#sk-container-id-6 div.sk-label:hover label.sk-toggleable__label {background-color: #d4ebff;}#sk-container-id-6 div.sk-serial::before {content: \"\";position: absolute;border-left: 1px solid gray;box-sizing: border-box;top: 0;bottom: 0;left: 50%;z-index: 0;}#sk-container-id-6 div.sk-serial {display: flex;flex-direction: column;align-items: center;background-color: white;padding-right: 0.2em;padding-left: 0.2em;position: relative;}#sk-container-id-6 div.sk-item {position: relative;z-index: 1;}#sk-container-id-6 div.sk-parallel {display: flex;align-items: stretch;justify-content: center;background-color: white;position: relative;}#sk-container-id-6 div.sk-item::before, #sk-container-id-6 div.sk-parallel-item::before {content: \"\";position: absolute;border-left: 1px solid gray;box-sizing: border-box;top: 0;bottom: 0;left: 50%;z-index: -1;}#sk-container-id-6 div.sk-parallel-item {display: flex;flex-direction: column;z-index: 1;position: relative;background-color: white;}#sk-container-id-6 div.sk-parallel-item:first-child::after {align-self: flex-end;width: 50%;}#sk-container-id-6 div.sk-parallel-item:last-child::after {align-self: flex-start;width: 50%;}#sk-container-id-6 div.sk-parallel-item:only-child::after {width: 0;}#sk-container-id-6 div.sk-dashed-wrapped {border: 1px dashed gray;margin: 0 0.4em 0.5em 0.4em;box-sizing: border-box;padding-bottom: 0.4em;background-color: white;}#sk-container-id-6 div.sk-label label {font-family: monospace;font-weight: bold;display: inline-block;line-height: 1.2em;}#sk-container-id-6 div.sk-label-container {text-align: center;}#sk-container-id-6 div.sk-container {/* jupyter's `normalize.less` sets `[hidden] { display: none; }` but bootstrap.min.css set `[hidden] { display: none !important; }` so we also need the `!important` here to be able to override the default hidden behavior on the sphinx rendered scikit-learn.org. See: https://github.com/scikit-learn/scikit-learn/issues/21755 */display: inline-block !important;position: relative;}#sk-container-id-6 div.sk-text-repr-fallback {display: none;}</style><div id=\"sk-container-id-6\" class=\"sk-top-container\"><div class=\"sk-text-repr-fallback\"><pre>Pipeline(steps=[(&#x27;cleaner&#x27;, &lt;__main__.predictors object at 0x17f0da820&gt;),\n",
       "                (&#x27;vectorizer&#x27;,\n",
       "                 CountVectorizer(tokenizer=&lt;function spacy_tokenizer at 0x127ac4160&gt;)),\n",
       "                (&#x27;classifier&#x27;,\n",
       "                 XGBClassifier(base_score=0.5, booster=&#x27;gbtree&#x27;, callbacks=None,\n",
       "                               colsample_bylevel=1, colsample_bynode=1,\n",
       "                               colsample_bytree=1, early_stopping_rounds=None,\n",
       "                               enable_categorical=False, eval_metric=None,\n",
       "                               gamma=0, gpu_id=-1, grow_policy=&#x27;depthwise&#x27;,\n",
       "                               importance_type=None, interaction_constraints=&#x27;&#x27;,\n",
       "                               learning_rate=0.300000012, max_bin=256,\n",
       "                               max_cat_to_onehot=4, max_delta_step=0,\n",
       "                               max_depth=6, max_leaves=0, min_child_weight=1,\n",
       "                               missing=nan, monotone_constraints=&#x27;()&#x27;,\n",
       "                               n_estimators=100, n_jobs=0, num_parallel_tree=1,\n",
       "                               predictor=&#x27;auto&#x27;, random_state=0, reg_alpha=0,\n",
       "                               reg_lambda=1, ...))])</pre><b>In a Jupyter environment, please rerun this cell to show the HTML representation or trust the notebook. <br />On GitHub, the HTML representation is unable to render, please try loading this page with nbviewer.org.</b></div><div class=\"sk-container\" hidden><div class=\"sk-item sk-dashed-wrapped\"><div class=\"sk-label-container\"><div class=\"sk-label sk-toggleable\"><input class=\"sk-toggleable__control sk-hidden--visually\" id=\"sk-estimator-id-21\" type=\"checkbox\" ><label for=\"sk-estimator-id-21\" class=\"sk-toggleable__label sk-toggleable__label-arrow\">Pipeline</label><div class=\"sk-toggleable__content\"><pre>Pipeline(steps=[(&#x27;cleaner&#x27;, &lt;__main__.predictors object at 0x17f0da820&gt;),\n",
       "                (&#x27;vectorizer&#x27;,\n",
       "                 CountVectorizer(tokenizer=&lt;function spacy_tokenizer at 0x127ac4160&gt;)),\n",
       "                (&#x27;classifier&#x27;,\n",
       "                 XGBClassifier(base_score=0.5, booster=&#x27;gbtree&#x27;, callbacks=None,\n",
       "                               colsample_bylevel=1, colsample_bynode=1,\n",
       "                               colsample_bytree=1, early_stopping_rounds=None,\n",
       "                               enable_categorical=False, eval_metric=None,\n",
       "                               gamma=0, gpu_id=-1, grow_policy=&#x27;depthwise&#x27;,\n",
       "                               importance_type=None, interaction_constraints=&#x27;&#x27;,\n",
       "                               learning_rate=0.300000012, max_bin=256,\n",
       "                               max_cat_to_onehot=4, max_delta_step=0,\n",
       "                               max_depth=6, max_leaves=0, min_child_weight=1,\n",
       "                               missing=nan, monotone_constraints=&#x27;()&#x27;,\n",
       "                               n_estimators=100, n_jobs=0, num_parallel_tree=1,\n",
       "                               predictor=&#x27;auto&#x27;, random_state=0, reg_alpha=0,\n",
       "                               reg_lambda=1, ...))])</pre></div></div></div><div class=\"sk-serial\"><div class=\"sk-item\"><div class=\"sk-estimator sk-toggleable\"><input class=\"sk-toggleable__control sk-hidden--visually\" id=\"sk-estimator-id-22\" type=\"checkbox\" ><label for=\"sk-estimator-id-22\" class=\"sk-toggleable__label sk-toggleable__label-arrow\">predictors</label><div class=\"sk-toggleable__content\"><pre>&lt;__main__.predictors object at 0x17f0da820&gt;</pre></div></div></div><div class=\"sk-item\"><div class=\"sk-estimator sk-toggleable\"><input class=\"sk-toggleable__control sk-hidden--visually\" id=\"sk-estimator-id-23\" type=\"checkbox\" ><label for=\"sk-estimator-id-23\" class=\"sk-toggleable__label sk-toggleable__label-arrow\">CountVectorizer</label><div class=\"sk-toggleable__content\"><pre>CountVectorizer(tokenizer=&lt;function spacy_tokenizer at 0x127ac4160&gt;)</pre></div></div></div><div class=\"sk-item\"><div class=\"sk-estimator sk-toggleable\"><input class=\"sk-toggleable__control sk-hidden--visually\" id=\"sk-estimator-id-24\" type=\"checkbox\" ><label for=\"sk-estimator-id-24\" class=\"sk-toggleable__label sk-toggleable__label-arrow\">XGBClassifier</label><div class=\"sk-toggleable__content\"><pre>XGBClassifier(base_score=0.5, booster=&#x27;gbtree&#x27;, callbacks=None,\n",
       "              colsample_bylevel=1, colsample_bynode=1, colsample_bytree=1,\n",
       "              early_stopping_rounds=None, enable_categorical=False,\n",
       "              eval_metric=None, gamma=0, gpu_id=-1, grow_policy=&#x27;depthwise&#x27;,\n",
       "              importance_type=None, interaction_constraints=&#x27;&#x27;,\n",
       "              learning_rate=0.300000012, max_bin=256, max_cat_to_onehot=4,\n",
       "              max_delta_step=0, max_depth=6, max_leaves=0, min_child_weight=1,\n",
       "              missing=nan, monotone_constraints=&#x27;()&#x27;, n_estimators=100,\n",
       "              n_jobs=0, num_parallel_tree=1, predictor=&#x27;auto&#x27;, random_state=0,\n",
       "              reg_alpha=0, reg_lambda=1, ...)</pre></div></div></div></div></div></div></div>"
      ],
      "text/plain": [
       "Pipeline(steps=[('cleaner', <__main__.predictors object at 0x17f0da820>),\n",
       "                ('vectorizer',\n",
       "                 CountVectorizer(tokenizer=<function spacy_tokenizer at 0x127ac4160>)),\n",
       "                ('classifier',\n",
       "                 XGBClassifier(base_score=0.5, booster='gbtree', callbacks=None,\n",
       "                               colsample_bylevel=1, colsample_bynode=1,\n",
       "                               colsample_bytree=1, early_stopping_rounds=None,\n",
       "                               enable_categorical=False, eval_metric=None,\n",
       "                               gamma=0, gpu_id=-1, grow_policy='depthwise',\n",
       "                               importance_type=None, interaction_constraints='',\n",
       "                               learning_rate=0.300000012, max_bin=256,\n",
       "                               max_cat_to_onehot=4, max_delta_step=0,\n",
       "                               max_depth=6, max_leaves=0, min_child_weight=1,\n",
       "                               missing=nan, monotone_constraints='()',\n",
       "                               n_estimators=100, n_jobs=0, num_parallel_tree=1,\n",
       "                               predictor='auto', random_state=0, reg_alpha=0,\n",
       "                               reg_lambda=1, ...))])"
      ]
     },
     "execution_count": 29,
     "metadata": {},
     "output_type": "execute_result"
    }
   ],
   "source": [
    "# XGB Classifier\n",
    "import xgboost as xgb\n",
    "classifier_xgb = xgb.XGBClassifier()\n",
    "\n",
    "# Create pipeline using Bag of Words\n",
    "pipe_xgb = Pipeline([(\"cleaner\", predictors()),\n",
    "                 ('vectorizer', bow_vector),\n",
    "                 ('classifier', classifier_xgb)])\n",
    "\n",
    "# model generation\n",
    "pipe_xgb.fit(X_train,y_train)"
   ]
  },
  {
   "cell_type": "code",
   "execution_count": null,
   "metadata": {},
   "outputs": [
    {
     "name": "stdout",
     "output_type": "stream",
     "text": [
      "              precision    recall  f1-score   support\n",
      "\n",
      "           0       0.79      0.90      0.84       874\n",
      "           1       0.83      0.67      0.74       649\n",
      "\n",
      "    accuracy                           0.80      1523\n",
      "   macro avg       0.81      0.79      0.79      1523\n",
      "weighted avg       0.81      0.80      0.80      1523\n",
      "\n"
     ]
    }
   ],
   "source": [
    "from sklearn.metrics import confusion_matrix\n",
    "from sklearn.metrics import classification_report\n",
    "\n",
    "y_pred = pipe_xgb.predict(X_test)\n",
    "\n",
    "confusion_matrix(y_test, y_pred)\n",
    "print(classification_report(y_test, y_pred))"
   ]
  },
  {
   "cell_type": "code",
   "execution_count": null,
   "metadata": {},
   "outputs": [
    {
     "name": "stdout",
     "output_type": "stream",
     "text": [
      "X_train_vectorized: \n"
     ]
    },
    {
     "data": {
      "text/plain": [
       "<7613x5854 sparse matrix of type '<class 'numpy.int64'>'\n",
       "\twith 41370 stored elements in Compressed Sparse Row format>"
      ]
     },
     "execution_count": 125,
     "metadata": {},
     "output_type": "execute_result"
    }
   ],
   "source": [
    "# Fit the CountVectorizer to the training data\n",
    "vect = CountVectorizer().fit(df['text'])\n",
    "\n",
    "# transform the documents in the training data to a document-term matrix\n",
    "X_train_vectorized = vect.transform(df['text'])\n",
    "print(\"X_train_vectorized: \")\n",
    "X_train_vectorized"
   ]
  },
  {
   "cell_type": "code",
   "execution_count": 51,
   "metadata": {},
   "outputs": [
    {
     "name": "stdout",
     "output_type": "stream",
     "text": [
      "\u001b[38;5;2m✔ Auto-filled config with all values\u001b[0m\n",
      "\u001b[38;5;2m✔ Saved config\u001b[0m\n",
      "../config/config.cfg\n",
      "You can now add your data and train your pipeline:\n",
      "python -m spacy train config.cfg --paths.train ./train.spacy --paths.dev ./dev.spacy\n"
     ]
    }
   ],
   "source": [
    "# Initialize config files from base_config\n",
    "!python -m spacy init fill-config ../config/base_config.cfg ../config/config.cfg"
   ]
  },
  {
   "cell_type": "code",
   "execution_count": 41,
   "metadata": {},
   "outputs": [],
   "source": [
    "df3 = df[['text', 'target']]"
   ]
  },
  {
   "cell_type": "code",
   "execution_count": 42,
   "metadata": {},
   "outputs": [],
   "source": [
    "data = tuple(zip(df.text.tolist(), df.target.tolist()))"
   ]
  },
  {
   "cell_type": "code",
   "execution_count": 46,
   "metadata": {},
   "outputs": [],
   "source": [
    "import spacy"
   ]
  },
  {
   "cell_type": "code",
   "execution_count": 47,
   "metadata": {},
   "outputs": [],
   "source": [
    "nlp=spacy.load('en_core_web_sm')"
   ]
  },
  {
   "cell_type": "code",
   "execution_count": 49,
   "metadata": {},
   "outputs": [],
   "source": [
    "import tqdm"
   ]
  },
  {
   "cell_type": "code",
   "execution_count": 58,
   "metadata": {},
   "outputs": [],
   "source": [
    "def remove_url(text): \n",
    "    '''\n",
    "    Remove urls from text.\n",
    "    ---\n",
    "    Input:\n",
    "    text (str): a sentence\n",
    "\n",
    "    Output:\n",
    "    parsed_text (str): text that has url removed\n",
    "    '''\n",
    "\n",
    "    # Use regrex to parse urls from the text\n",
    "    parsed_text = re.sub(r\"\\S*https?:\\S*\", \"\", text, flags=re.MULTILINE)\n",
    "    return parsed_text\n",
    "\n",
    "def preprocess(df, embed):\n",
    "    '''\n",
    "    Preprocess the dataframe into spacy pipeline for later classification\n",
    "    ---\n",
    "    Input:\n",
    "    df (DataFrame): Pandas dataframe containing the raw text and outputs.\n",
    "    embed (str): Name of pipeline embedding used\n",
    "\n",
    "    Output:\n",
    "    df (DataFrame): Preprocessed input dataframe\n",
    "    docs (doc): SpaCy doc object that stores text data along with classification\n",
    "    '''\n",
    "\n",
    "    # Remove urls from text\n",
    "    df.text = df.text.apply(remove_url)\n",
    "\n",
    "    # Store the data into tuples\n",
    "    data = tuple(zip(df.text.tolist(), df.target.tolist())) \n",
    "    \n",
    "    # Load English library from SpaCy\n",
    "    nlp=spacy.load(embed)\n",
    "    print(data[0])\n",
    "\n",
    "    # Storage for docs\n",
    "    docs = []\n",
    "\n",
    "    # One-hot encoding for the classifications\n",
    "    for doc, label in nlp.pipe(data, as_tuples=True):\n",
    "        \n",
    "        if label==1:\n",
    "            doc.cats['label'] = 1\n",
    "        else:\n",
    "            doc.cats['label'] = 0\n",
    "        # print(doc.cats)\n",
    "        \n",
    "        docs.append(doc)\n",
    "    return df, docs"
   ]
  },
  {
   "cell_type": "code",
   "execution_count": 71,
   "metadata": {},
   "outputs": [],
   "source": [
    "# Split the train, test, validation set\n",
    "train, test = train_test_split(df3[['text', 'target']], test_size=0.2, random_state=42)"
   ]
  },
  {
   "cell_type": "code",
   "execution_count": 75,
   "metadata": {},
   "outputs": [
    {
     "name": "stdout",
     "output_type": "stream",
     "text": [
      "('new weapon cause imaginable destruction', 1)\n"
     ]
    }
   ],
   "source": [
    "from spacy.tokens import DocBin\n",
    "\n",
    "# Preprocess the dataframes for train data\n",
    "train_data, train_docs = preprocess(train,\"en_core_web_sm\")\n",
    "\n",
    "# Save data and docs in a binary file to disc\n",
    "doc_bin = DocBin(docs=train_docs)\n",
    "doc_bin.to_disk(\"../data/spacy_data/textcat_train.spacy\")\n",
    "\n",
    "# Preprocess the dataframes for test data\n",
    "test_data, test_docs = preprocess(test,\"en_core_web_sm\")\n",
    "# Save data and docs in a binary file to disc\n",
    "doc_bin = DocBin(docs=test_docs)\n",
    "doc_bin.to_disk(\"../data/spacy_data/textcat_valid.spacy\")"
   ]
  },
  {
   "cell_type": "code",
   "execution_count": 89,
   "metadata": {},
   "outputs": [
    {
     "name": "stdout",
     "output_type": "stream",
     "text": [
      "\u001b[38;5;4mℹ No output directory provided\u001b[0m\n",
      "\u001b[38;5;4mℹ Using CPU\u001b[0m\n",
      "\u001b[38;5;4mℹ To switch to GPU 0, use the option: --gpu-id 0\u001b[0m\n",
      "\u001b[1m\n",
      "=========================== Initializing pipeline ===========================\u001b[0m\n",
      "[2022-07-21 09:28:44,941] [INFO] Set up nlp object from config\n",
      "[2022-07-21 09:28:44,945] [INFO] Pipeline: ['tok2vec', 'textcat']\n",
      "[2022-07-21 09:28:44,947] [INFO] Created vocabulary\n",
      "Traceback (most recent call last):\n",
      "  File \"/Users/ak/Desktop/neuefische/NLPower-capstone-project/.venv/lib/python3.9/site-packages/spacy/language.py\", line 1295, in initialize\n",
      "    init_vocab(\n",
      "  File \"/Users/ak/Desktop/neuefische/NLPower-capstone-project/.venv/lib/python3.9/site-packages/spacy/training/initialize.py\", line 131, in init_vocab\n",
      "    load_vectors_into_model(nlp, vectors)\n",
      "  File \"/Users/ak/Desktop/neuefische/NLPower-capstone-project/.venv/lib/python3.9/site-packages/spacy/training/initialize.py\", line 152, in load_vectors_into_model\n",
      "    vectors_nlp = load_model(name, vocab=nlp.vocab, exclude=exclude)\n",
      "  File \"/Users/ak/Desktop/neuefische/NLPower-capstone-project/.venv/lib/python3.9/site-packages/spacy/util.py\", line 436, in load_model\n",
      "    raise IOError(Errors.E050.format(name=name))\n",
      "OSError: [E050] Can't find model 'en_core_web_lg'. It doesn't seem to be a Python package or a valid path to a data directory.\n",
      "\n",
      "During handling of the above exception, another exception occurred:\n",
      "\n",
      "Traceback (most recent call last):\n",
      "  File \"/Users/ak/.pyenv/versions/3.9.8/lib/python3.9/runpy.py\", line 197, in _run_module_as_main\n",
      "    return _run_code(code, main_globals, None,\n",
      "  File \"/Users/ak/.pyenv/versions/3.9.8/lib/python3.9/runpy.py\", line 87, in _run_code\n",
      "    exec(code, run_globals)\n",
      "  File \"/Users/ak/Desktop/neuefische/NLPower-capstone-project/.venv/lib/python3.9/site-packages/spacy/__main__.py\", line 4, in <module>\n",
      "    setup_cli()\n",
      "  File \"/Users/ak/Desktop/neuefische/NLPower-capstone-project/.venv/lib/python3.9/site-packages/spacy/cli/_util.py\", line 71, in setup_cli\n",
      "    command(prog_name=COMMAND)\n",
      "  File \"/Users/ak/Desktop/neuefische/NLPower-capstone-project/.venv/lib/python3.9/site-packages/click/core.py\", line 1130, in __call__\n",
      "    return self.main(*args, **kwargs)\n",
      "  File \"/Users/ak/Desktop/neuefische/NLPower-capstone-project/.venv/lib/python3.9/site-packages/click/core.py\", line 1055, in main\n",
      "    rv = self.invoke(ctx)\n",
      "  File \"/Users/ak/Desktop/neuefische/NLPower-capstone-project/.venv/lib/python3.9/site-packages/click/core.py\", line 1657, in invoke\n",
      "    return _process_result(sub_ctx.command.invoke(sub_ctx))\n",
      "  File \"/Users/ak/Desktop/neuefische/NLPower-capstone-project/.venv/lib/python3.9/site-packages/click/core.py\", line 1404, in invoke\n",
      "    return ctx.invoke(self.callback, **ctx.params)\n",
      "  File \"/Users/ak/Desktop/neuefische/NLPower-capstone-project/.venv/lib/python3.9/site-packages/click/core.py\", line 760, in invoke\n",
      "    return __callback(*args, **kwargs)\n",
      "  File \"/Users/ak/Desktop/neuefische/NLPower-capstone-project/.venv/lib/python3.9/site-packages/typer/main.py\", line 532, in wrapper\n",
      "    return callback(**use_params)  # type: ignore\n",
      "  File \"/Users/ak/Desktop/neuefische/NLPower-capstone-project/.venv/lib/python3.9/site-packages/spacy/cli/train.py\", line 45, in train_cli\n",
      "    train(config_path, output_path, use_gpu=use_gpu, overrides=overrides)\n",
      "  File \"/Users/ak/Desktop/neuefische/NLPower-capstone-project/.venv/lib/python3.9/site-packages/spacy/cli/train.py\", line 72, in train\n",
      "    nlp = init_nlp(config, use_gpu=use_gpu)\n",
      "  File \"/Users/ak/Desktop/neuefische/NLPower-capstone-project/.venv/lib/python3.9/site-packages/spacy/training/initialize.py\", line 84, in init_nlp\n",
      "    nlp.initialize(lambda: train_corpus(nlp), sgd=optimizer)\n",
      "  File \"/Users/ak/Desktop/neuefische/NLPower-capstone-project/.venv/lib/python3.9/site-packages/spacy/language.py\", line 1299, in initialize\n",
      "    raise IOError(Errors.E884.format(vectors=I[\"vectors\"]))\n",
      "OSError: [E884] The pipeline could not be initialized because the vectors could not be found at 'en_core_web_lg'. If your pipeline was already initialized/trained before, call 'resume_training' instead of 'initialize', or initialize only the components that are new.\n"
     ]
    }
   ],
   "source": [
    "!python -m spacy train ../config/config.cfg --paths.train ../data/spacy_data/textcat_train.spacy --paths.dev ../data/dev/dev.spacy"
   ]
  },
  {
   "cell_type": "code",
   "execution_count": 85,
   "metadata": {},
   "outputs": [],
   "source": [
    "sentences = train.target"
   ]
  },
  {
   "cell_type": "code",
   "execution_count": 86,
   "metadata": {},
   "outputs": [
    {
     "data": {
      "text/plain": [
       "0    3468\n",
       "1    2622\n",
       "Name: target, dtype: int64"
      ]
     },
     "execution_count": 86,
     "metadata": {},
     "output_type": "execute_result"
    }
   ],
   "source": [
    "sentences.value_counts()"
   ]
  },
  {
   "cell_type": "code",
   "execution_count": 87,
   "metadata": {},
   "outputs": [
    {
     "name": "stderr",
     "output_type": "stream",
     "text": [
      "Downloading: 100%|██████████| 226k/226k [00:00<00:00, 546kB/s] \n",
      "Downloading: 100%|██████████| 28.0/28.0 [00:00<00:00, 18.0kB/s]\n",
      "Downloading: 100%|██████████| 570/570 [00:00<00:00, 348kB/s]\n"
     ]
    }
   ],
   "source": [
    "from transformers import BertTokenizer, BertConfig,AdamW, BertForSequenceClassification,get_linear_schedule_with_warmup\n",
    "tokenizer = BertTokenizer.from_pretrained('bert-base-uncased',do_lower_case=True)"
   ]
  },
  {
   "cell_type": "code",
   "execution_count": 88,
   "metadata": {},
   "outputs": [],
   "source": [
    "MAX_LEN = 256"
   ]
  },
  {
   "cell_type": "code",
   "execution_count": null,
   "metadata": {},
   "outputs": [],
   "source": [
    "input_ids = [tokenizer.encode(sent, add_special_tokens=True,max_length=MAX_LEN,pad_to_max_length=True,truncation=True) for sent in sentences]"
   ]
  },
  {
   "cell_type": "code",
   "execution_count": null,
   "metadata": {},
   "outputs": [],
   "source": [
    "labels = df_train.label.values\n",
    "\n",
    "print(\"Actual sentence before tokenization: \",sentences[2])\n",
    "print(\"Encoded Input from dataset: \",input_ids[2])\n",
    "\n",
    "## Create attention mask\n",
    "attention_masks = []\n",
    "## Create a mask of 1 for all input tokens and 0 for all padding tokens\n",
    "attention_masks = [[float(i>0) for i in seq] for seq in input_ids]\n",
    "print(attention_masks[2])"
   ]
  }
 ],
 "metadata": {
  "kernelspec": {
   "display_name": "Python 3.9.8 ('.venv': venv)",
   "language": "python",
   "name": "python3"
  },
  "language_info": {
   "codemirror_mode": {
    "name": "ipython",
    "version": 3
   },
   "file_extension": ".py",
   "mimetype": "text/x-python",
   "name": "python",
   "nbconvert_exporter": "python",
   "pygments_lexer": "ipython3",
   "version": "3.9.8"
  },
  "orig_nbformat": 4,
  "vscode": {
   "interpreter": {
    "hash": "ed98376544626e3eff8a6132f67438f86891a2c34910ffac703b2c80e771b64b"
   }
  }
 },
 "nbformat": 4,
 "nbformat_minor": 2
}
