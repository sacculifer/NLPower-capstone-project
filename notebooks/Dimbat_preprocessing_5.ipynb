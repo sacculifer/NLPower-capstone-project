{
 "cells": [
  {
   "cell_type": "markdown",
   "metadata": {},
   "source": [
    "## Loading Data"
   ]
  },
  {
   "cell_type": "code",
   "execution_count": 1,
   "metadata": {
    "slideshow": {
     "slide_type": "skip"
    }
   },
   "outputs": [
    {
     "name": "stderr",
     "output_type": "stream",
     "text": [
      "/Users/xuxu/neuefische/NLPower-capstone-project/.venv/lib/python3.9/site-packages/tqdm/auto.py:22: TqdmWarning: IProgress not found. Please update jupyter and ipywidgets. See https://ipywidgets.readthedocs.io/en/stable/user_install.html\n",
      "  from .autonotebook import tqdm as notebook_tqdm\n"
     ]
    }
   ],
   "source": [
    "import pandas as pd\n",
    "import numpy as np\n",
    "import ujson as json\n",
    "\n",
    "\n",
    "import string\n",
    "import re\n",
    "\n",
    "from textatistic import Textatistic\n",
    "\n",
    "import spacy\n",
    "\n",
    "import warnings\n",
    "\n",
    "warnings.filterwarnings('ignore')\n",
    "\n",
    "RSEED = 42\n"
   ]
  },
  {
   "cell_type": "markdown",
   "metadata": {},
   "source": [
    "## Data cleaning"
   ]
  },
  {
   "cell_type": "code",
   "execution_count": 2,
   "metadata": {},
   "outputs": [],
   "source": [
    "nlp = spacy.load('en_core_web_lg')\n",
    "stopwords = spacy.lang.en.STOP_WORDS"
   ]
  },
  {
   "cell_type": "code",
   "execution_count": 3,
   "metadata": {},
   "outputs": [],
   "source": [
    "def preprocess(text):\n",
    "    doc = nlp(text, disable=['ner', 'parser'])\n",
    "    lemmas = [token.lemma_ for token in doc]\n",
    "    a_lemmas = [lemma for lemma in lemmas \n",
    "              if lemma.isalpha() and lemma not in stopwords]\n",
    "    return a_lemmas"
   ]
  },
  {
   "cell_type": "code",
   "execution_count": 4,
   "metadata": {},
   "outputs": [],
   "source": [
    "def remove_entities(text):\n",
    "    doc = nlp(text)\n",
    "    return(\" \".join([ent.text for ent in doc if not ent.ent_type_]))\n",
    "    "
   ]
  },
  {
   "cell_type": "code",
   "execution_count": 5,
   "metadata": {},
   "outputs": [],
   "source": [
    "def remove_html(text):\n",
    "    html = re.compile(r'<.*?>|&([a-z0-9]+|#[0-9]{1,6}|#x[0-9a-f]{1,6});')\n",
    "    return html.sub(r'', text)"
   ]
  },
  {
   "cell_type": "code",
   "execution_count": 6,
   "metadata": {},
   "outputs": [],
   "source": [
    "def remove_ebola(text):\n",
    "    words = re.compile('(\\s*)ebola(\\s*)')\n",
    "    return words.sub(r\" \", text)"
   ]
  },
  {
   "cell_type": "code",
   "execution_count": 7,
   "metadata": {},
   "outputs": [],
   "source": [
    "def remove_mers(text):\n",
    "    words = re.compile('(\\s*)mers(\\s*)')\n",
    "    return words.sub(r\" \", text)"
   ]
  },
  {
   "cell_type": "code",
   "execution_count": 8,
   "metadata": {},
   "outputs": [],
   "source": [
    "def remove_helicopter(text):\n",
    "    words = re.compile('(\\s*)helicopter(\\s*)')\n",
    "    return words.sub(r\" \", text)"
   ]
  },
  {
   "cell_type": "code",
   "execution_count": 9,
   "metadata": {},
   "outputs": [],
   "source": [
    "def remove_train(text):\n",
    "    words = re.compile('(\\s*)train(\\s*)')\n",
    "    return words.sub(r\" \", text)"
   ]
  },
  {
   "cell_type": "code",
   "execution_count": 10,
   "metadata": {},
   "outputs": [],
   "source": [
    "import os\n",
    "path = \"../data_dimbat/incident-tweets/\"\n",
    "files = os.listdir(path)\n",
    "df_list = list()\n",
    "for file in files:\n",
    "    records = map(json.loads, open(os.path.join(path, file), encoding=\"utf8\"))\n",
    "    df = pd.DataFrame.from_records(records)\n",
    "    df[\"text_clean\"] = df[\"text\"].apply(lambda x: remove_html(x))\n",
    "    df['lemmas'] = df['text_clean'].apply(preprocess)   \n",
    "    df[\"text_lemma\"] = [' '.join(map(str, x)) for x in df[\"lemmas\"]]\n",
    "    df['text_lemma'] = df['text_lemma'].apply(remove_entities)\n",
    "    df_list.append(df)\n",
    "   "
   ]
  },
  {
   "cell_type": "code",
   "execution_count": 11,
   "metadata": {},
   "outputs": [],
   "source": [
    "def findWholeWord(w):\n",
    "    return re.compile(r'\\b({0})\\b'.format(w), flags=re.IGNORECASE).search"
   ]
  },
  {
   "cell_type": "code",
   "execution_count": 12,
   "metadata": {},
   "outputs": [],
   "source": [
    "for i in range(len(files)):\n",
    "    if findWholeWord('ebola')(files[i]):\n",
    "        df_list[i]['text_lemma'] = df_list[i]['text_lemma'].apply(remove_ebola)\n",
    "    elif findWholeWord('mers')(files[i]):\n",
    "        df_list[i]['text_lemma'] = df_list[i]['text_lemma'].apply(remove_mers)\n",
    "    elif findWholeWord('helicopter')(files[i]):\n",
    "        df_list[i]['text_lemma'] = df_list[i]['text_lemma'].apply(remove_helicopter)\n",
    "    elif findWholeWord('train')(files[i]):\n",
    "        df_list[i]['text_lemma'] = df_list[i]['text_lemma'].apply(remove_train)"
   ]
  },
  {
   "cell_type": "code",
   "execution_count": 13,
   "metadata": {},
   "outputs": [],
   "source": [
    "for i in range(len(files)):\n",
    "    if findWholeWord('earthquake')(files[i]):\n",
    "        df_list[i]['relevance'] = df_list[i]['relevance'].replace(1, 2)\n",
    "    elif findWholeWord('flood')(files[i]):\n",
    "        df_list[i]['relevance'] = df_list[i]['relevance'].replace(1, 3)\n",
    "    elif findWholeWord('hurricane')(files[i]):\n",
    "        df_list[i]['relevance'] = df_list[i]['relevance'].replace(1, 4)\n",
    "    elif findWholeWord('tornado')(files[i]):\n",
    "        df_list[i]['relevance'] = df_list[i]['relevance'].replace(1, 4)    \n",
    "    elif findWholeWord('wildfire')(files[i]):\n",
    "        df_list[i]['relevance'] = df_list[i]['relevance'].replace(1, 5)    \n",
    "    elif findWholeWord('industrial')(files[i]):\n",
    "        df_list[i]['relevance'] = df_list[i]['relevance'].replace(1, 6)\n",
    "    elif findWholeWord('societal')(files[i]):\n",
    "        df_list[i]['relevance'] = df_list[i]['relevance'].replace(1, 7)\n",
    "    elif findWholeWord('transportation')(files[i]):\n",
    "        df_list[i]['relevance'] = df_list[i]['relevance'].replace(1, 8)    \n",
    "    elif findWholeWord('meteor')(files[i]):\n",
    "        df_list[i]['relevance'] = df_list[i]['relevance'].replace(1, 9)\n",
    "    elif findWholeWord('haze')(files[i]):\n",
    "        df_list[i]['relevance'] = df_list[i]['relevance'].replace(1, 10)"
   ]
  },
  {
   "cell_type": "code",
   "execution_count": 14,
   "metadata": {},
   "outputs": [],
   "source": [
    "index_2011 = list()\n",
    "index_2012 = list()\n",
    "index_2013 = list()\n",
    "index_2014 = list()\n",
    "index_2015 = list()\n",
    "index_2017 = list()\n",
    "index_2018 = list()\n",
    "\n",
    "\n",
    "for i in range(len(files)):\n",
    "    if findWholeWord('2011')(files[i]):\n",
    "        index_2011.append(i)\n",
    "    elif findWholeWord('2012')(files[i]):\n",
    "        index_2012.append(i)\n",
    "    elif findWholeWord('2013')(files[i]):\n",
    "        index_2013.append(i)\n",
    "    elif findWholeWord('2014')(files[i]):\n",
    "        index_2014.append(i)   \n",
    "    elif findWholeWord('2015')(files[i]):\n",
    "        index_2015.append(i)\n",
    "    elif findWholeWord('2017')(files[i]):\n",
    "        index_2017.append(i)\n",
    "    elif findWholeWord('2018')(files[i]):\n",
    "        index_2018.append(i)"
   ]
  },
  {
   "cell_type": "code",
   "execution_count": 15,
   "metadata": {},
   "outputs": [],
   "source": [
    "df_2012 = df_list[index_2012[0]]\n",
    "for i in range(1, len(index_2012)):\n",
    "   df_2012 = df_2012.append(df_list[index_2012[i]], ignore_index=True)"
   ]
  },
  {
   "cell_type": "code",
   "execution_count": 16,
   "metadata": {},
   "outputs": [],
   "source": [
    "df_2013 = df_list[index_2013[0]]\n",
    "for i in range(1, len(index_2013)):\n",
    "   df_2013 = df_2013.append(df_list[index_2013[i]], ignore_index=True)"
   ]
  },
  {
   "cell_type": "code",
   "execution_count": 17,
   "metadata": {},
   "outputs": [],
   "source": [
    "df_2014 = df_list[index_2014[0]]\n",
    "for i in range(1, len(index_2014)):\n",
    "   df_2014 = df_2014.append(df_list[index_2014[i]], ignore_index=True)"
   ]
  },
  {
   "cell_type": "code",
   "execution_count": 18,
   "metadata": {},
   "outputs": [],
   "source": [
    "df_2011 = df_list[index_2011[0]]\n",
    "for i in range(1, len(index_2011)):\n",
    "   df_2011 = df_2011.append(df_list[index_2011[i]], ignore_index=True)"
   ]
  },
  {
   "cell_type": "code",
   "execution_count": 19,
   "metadata": {},
   "outputs": [],
   "source": [
    "df_2015 = df_list[index_2015[0]]\n",
    "for i in range(1, len(index_2015)):\n",
    "   df_2015 = df_2015.append(df_list[index_2015[i]], ignore_index=True)"
   ]
  },
  {
   "cell_type": "code",
   "execution_count": 20,
   "metadata": {},
   "outputs": [],
   "source": [
    "df_2017 = df_list[index_2017[0]]\n",
    "for i in range(1, len(index_2017)):\n",
    "   df_2017 = df_2017.append(df_list[index_2017[i]], ignore_index=True)"
   ]
  },
  {
   "cell_type": "code",
   "execution_count": 21,
   "metadata": {},
   "outputs": [],
   "source": [
    "df_2018 = df_list[index_2018[0]]\n",
    "for i in range(1, len(index_2018)):\n",
    "   df_2018 = df_2018.append(df_list[index_2018[i]], ignore_index=True)"
   ]
  },
  {
   "cell_type": "code",
   "execution_count": 22,
   "metadata": {},
   "outputs": [],
   "source": [
    "df_2011_new = df_2011[df_2011.relevance != 0]"
   ]
  },
  {
   "cell_type": "code",
   "execution_count": 23,
   "metadata": {},
   "outputs": [],
   "source": [
    "df_2012_new = df_2012[df_2012.relevance != 0]"
   ]
  },
  {
   "cell_type": "code",
   "execution_count": 24,
   "metadata": {},
   "outputs": [
    {
     "data": {
      "text/plain": [
       "4    6978\n",
       "5     901\n",
       "3     662\n",
       "2     613\n",
       "6      62\n",
       "Name: relevance, dtype: int64"
      ]
     },
     "execution_count": 24,
     "metadata": {},
     "output_type": "execute_result"
    }
   ],
   "source": [
    "df_2012_new.relevance.value_counts()"
   ]
  },
  {
   "cell_type": "code",
   "execution_count": 25,
   "metadata": {},
   "outputs": [
    {
     "name": "stdout",
     "output_type": "stream",
     "text": [
      "<class 'pandas.core.frame.DataFrame'>\n",
      "Int64Index: 9216 entries, 0 to 18147\n",
      "Data columns (total 6 columns):\n",
      " #   Column      Non-Null Count  Dtype \n",
      "---  ------      --------------  ----- \n",
      " 0   id          8332 non-null   object\n",
      " 1   text        9216 non-null   object\n",
      " 2   relevance   9216 non-null   int64 \n",
      " 3   text_clean  9216 non-null   object\n",
      " 4   lemmas      9216 non-null   object\n",
      " 5   text_lemma  9216 non-null   object\n",
      "dtypes: int64(1), object(5)\n",
      "memory usage: 504.0+ KB\n"
     ]
    }
   ],
   "source": [
    "df_2012_new.info()"
   ]
  },
  {
   "cell_type": "code",
   "execution_count": 26,
   "metadata": {},
   "outputs": [],
   "source": [
    "df_2013_new = df_2013[df_2013.relevance != 0]"
   ]
  },
  {
   "cell_type": "code",
   "execution_count": 27,
   "metadata": {},
   "outputs": [
    {
     "data": {
      "text/plain": [
       "3     9254\n",
       "2     5992\n",
       "7     5842\n",
       "4     4800\n",
       "6     4782\n",
       "8     2352\n",
       "5      865\n",
       "9      762\n",
       "10     664\n",
       "Name: relevance, dtype: int64"
      ]
     },
     "execution_count": 27,
     "metadata": {},
     "output_type": "execute_result"
    }
   ],
   "source": [
    "df_2013_new.relevance.value_counts()"
   ]
  },
  {
   "cell_type": "code",
   "execution_count": 28,
   "metadata": {},
   "outputs": [
    {
     "name": "stdout",
     "output_type": "stream",
     "text": [
      "<class 'pandas.core.frame.DataFrame'>\n",
      "Int64Index: 35313 entries, 0 to 68952\n",
      "Data columns (total 6 columns):\n",
      " #   Column      Non-Null Count  Dtype \n",
      "---  ------      --------------  ----- \n",
      " 0   id          35313 non-null  object\n",
      " 1   text        35313 non-null  object\n",
      " 2   relevance   35313 non-null  int64 \n",
      " 3   text_clean  35313 non-null  object\n",
      " 4   lemmas      35313 non-null  object\n",
      " 5   text_lemma  35313 non-null  object\n",
      "dtypes: int64(1), object(5)\n",
      "memory usage: 1.9+ MB\n"
     ]
    }
   ],
   "source": [
    "df_2013_new.info()"
   ]
  },
  {
   "cell_type": "code",
   "execution_count": 29,
   "metadata": {},
   "outputs": [],
   "source": [
    "df_2014_new = df_2014[df_2014.relevance != 0]"
   ]
  },
  {
   "cell_type": "code",
   "execution_count": 30,
   "metadata": {},
   "outputs": [
    {
     "data": {
      "text/plain": [
       "3    3554\n",
       "4    3187\n",
       "1    3053\n",
       "5    1454\n",
       "Name: relevance, dtype: int64"
      ]
     },
     "execution_count": 30,
     "metadata": {},
     "output_type": "execute_result"
    }
   ],
   "source": [
    "df_2014_new.relevance.value_counts()"
   ]
  },
  {
   "cell_type": "code",
   "execution_count": 31,
   "metadata": {},
   "outputs": [
    {
     "name": "stdout",
     "output_type": "stream",
     "text": [
      "<class 'pandas.core.frame.DataFrame'>\n",
      "Int64Index: 11248 entries, 0 to 20698\n",
      "Data columns (total 6 columns):\n",
      " #   Column      Non-Null Count  Dtype \n",
      "---  ------      --------------  ----- \n",
      " 0   id          11248 non-null  object\n",
      " 1   text        11248 non-null  object\n",
      " 2   relevance   11248 non-null  int64 \n",
      " 3   text_clean  11248 non-null  object\n",
      " 4   lemmas      11248 non-null  object\n",
      " 5   text_lemma  11248 non-null  object\n",
      "dtypes: int64(1), object(5)\n",
      "memory usage: 615.1+ KB\n"
     ]
    }
   ],
   "source": [
    "df_2014_new.info()"
   ]
  },
  {
   "cell_type": "code",
   "execution_count": 32,
   "metadata": {},
   "outputs": [],
   "source": [
    "df_2015_new = df_2015[df_2015.relevance != 0]"
   ]
  },
  {
   "cell_type": "code",
   "execution_count": 33,
   "metadata": {},
   "outputs": [
    {
     "data": {
      "text/plain": [
       "2    2965\n",
       "4    1943\n",
       "Name: relevance, dtype: int64"
      ]
     },
     "execution_count": 33,
     "metadata": {},
     "output_type": "execute_result"
    }
   ],
   "source": [
    "df_2015_new.relevance.value_counts()"
   ]
  },
  {
   "cell_type": "code",
   "execution_count": 34,
   "metadata": {},
   "outputs": [
    {
     "name": "stdout",
     "output_type": "stream",
     "text": [
      "<class 'pandas.core.frame.DataFrame'>\n",
      "Int64Index: 4908 entries, 0 to 7872\n",
      "Data columns (total 6 columns):\n",
      " #   Column      Non-Null Count  Dtype \n",
      "---  ------      --------------  ----- \n",
      " 0   id          4908 non-null   object\n",
      " 1   text        4908 non-null   object\n",
      " 2   relevance   4908 non-null   int64 \n",
      " 3   text_clean  4908 non-null   object\n",
      " 4   lemmas      4908 non-null   object\n",
      " 5   text_lemma  4908 non-null   object\n",
      "dtypes: int64(1), object(5)\n",
      "memory usage: 268.4+ KB\n"
     ]
    }
   ],
   "source": [
    "df_2015_new.info()"
   ]
  },
  {
   "cell_type": "code",
   "execution_count": 35,
   "metadata": {},
   "outputs": [],
   "source": [
    "df_2017_new = df_2017[df_2017.relevance != 0]"
   ]
  },
  {
   "cell_type": "code",
   "execution_count": 36,
   "metadata": {},
   "outputs": [
    {
     "data": {
      "text/plain": [
       "4    11581\n",
       "2     1681\n",
       "3      740\n",
       "Name: relevance, dtype: int64"
      ]
     },
     "execution_count": 36,
     "metadata": {},
     "output_type": "execute_result"
    }
   ],
   "source": [
    "df_2017_new.relevance.value_counts()"
   ]
  },
  {
   "cell_type": "code",
   "execution_count": 37,
   "metadata": {},
   "outputs": [
    {
     "name": "stdout",
     "output_type": "stream",
     "text": [
      "<class 'pandas.core.frame.DataFrame'>\n",
      "Int64Index: 14002 entries, 0 to 27520\n",
      "Data columns (total 6 columns):\n",
      " #   Column      Non-Null Count  Dtype \n",
      "---  ------      --------------  ----- \n",
      " 0   id          14002 non-null  object\n",
      " 1   text        14002 non-null  object\n",
      " 2   relevance   14002 non-null  int64 \n",
      " 3   text_clean  14002 non-null  object\n",
      " 4   lemmas      14002 non-null  object\n",
      " 5   text_lemma  14002 non-null  object\n",
      "dtypes: int64(1), object(5)\n",
      "memory usage: 765.7+ KB\n"
     ]
    }
   ],
   "source": [
    "df_2017_new.info()"
   ]
  },
  {
   "cell_type": "code",
   "execution_count": 38,
   "metadata": {},
   "outputs": [],
   "source": [
    "df_2018_new = df_2018[df_2018.relevance != 0]"
   ]
  },
  {
   "cell_type": "code",
   "execution_count": 39,
   "metadata": {},
   "outputs": [
    {
     "data": {
      "text/plain": [
       "2    5296\n",
       "Name: relevance, dtype: int64"
      ]
     },
     "execution_count": 39,
     "metadata": {},
     "output_type": "execute_result"
    }
   ],
   "source": [
    "df_2018_new.relevance.value_counts()"
   ]
  },
  {
   "cell_type": "code",
   "execution_count": 40,
   "metadata": {},
   "outputs": [
    {
     "name": "stdout",
     "output_type": "stream",
     "text": [
      "<class 'pandas.core.frame.DataFrame'>\n",
      "Int64Index: 5296 entries, 0 to 5295\n",
      "Data columns (total 6 columns):\n",
      " #   Column      Non-Null Count  Dtype \n",
      "---  ------      --------------  ----- \n",
      " 0   id          5296 non-null   object\n",
      " 1   text        5296 non-null   object\n",
      " 2   relevance   5296 non-null   int64 \n",
      " 3   text_clean  5296 non-null   object\n",
      " 4   lemmas      5296 non-null   object\n",
      " 5   text_lemma  5296 non-null   object\n",
      "dtypes: int64(1), object(5)\n",
      "memory usage: 289.6+ KB\n"
     ]
    }
   ],
   "source": [
    "df_2018_new.info()"
   ]
  },
  {
   "cell_type": "code",
   "execution_count": 41,
   "metadata": {},
   "outputs": [],
   "source": [
    "df_2011_new.to_pickle(\"../data/preprocess_train_dimbat_label_2011.pkl\")"
   ]
  },
  {
   "cell_type": "code",
   "execution_count": 42,
   "metadata": {},
   "outputs": [],
   "source": [
    "df_2012_new.to_pickle(\"../data/preprocess_train_dimbat_label_2012.pkl\")"
   ]
  },
  {
   "cell_type": "code",
   "execution_count": 43,
   "metadata": {},
   "outputs": [],
   "source": [
    "df_2013_new.to_pickle(\"../data/preprocess_train_dimbat_label_2013.pkl\")"
   ]
  },
  {
   "cell_type": "code",
   "execution_count": 44,
   "metadata": {},
   "outputs": [],
   "source": [
    "df_2014_new.to_pickle(\"../data/preprocess_train_dimbat_label_2014.pkl\")"
   ]
  },
  {
   "cell_type": "code",
   "execution_count": 45,
   "metadata": {},
   "outputs": [],
   "source": [
    "df_2015_new.to_pickle(\"../data/preprocess_train_dimbat_label_2015.pkl\")"
   ]
  },
  {
   "cell_type": "code",
   "execution_count": 46,
   "metadata": {},
   "outputs": [],
   "source": [
    "df_2017_new.to_pickle(\"../data/preprocess_train_dimbat_label_2017.pkl\")"
   ]
  },
  {
   "cell_type": "code",
   "execution_count": 47,
   "metadata": {},
   "outputs": [],
   "source": [
    "df_2018_new.to_pickle(\"../data/preprocess_train_dimbat_label_2018.pkl\")"
   ]
  }
 ],
 "metadata": {
  "kernelspec": {
   "display_name": "Python 3.9.8 ('.venv': venv)",
   "language": "python",
   "name": "python3"
  },
  "language_info": {
   "codemirror_mode": {
    "name": "ipython",
    "version": 3
   },
   "file_extension": ".py",
   "mimetype": "text/x-python",
   "name": "python",
   "nbconvert_exporter": "python",
   "pygments_lexer": "ipython3",
   "version": "3.9.8"
  },
  "metadata": {
   "interpreter": {
    "hash": "aee8b7b246df8f9039afb4144a1f6fd8d2ca17a180786b69acc140d282b71a49"
   }
  },
  "vscode": {
   "interpreter": {
    "hash": "0ed77dcdc7fbab6e38ae64c11601ec4b27d0c7090c2e616cfa30746b20795a2e"
   }
  }
 },
 "nbformat": 4,
 "nbformat_minor": 4
}
