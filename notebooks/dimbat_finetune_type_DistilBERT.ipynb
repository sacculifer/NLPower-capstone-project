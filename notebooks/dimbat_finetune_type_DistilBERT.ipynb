{
 "cells": [
  {
   "cell_type": "code",
   "execution_count": 1,
   "metadata": {},
   "outputs": [],
   "source": [
    "import pandas as pd\n",
    "import numpy as np\n",
    "\n",
    "RSEED = 42"
   ]
  },
  {
   "cell_type": "code",
   "execution_count": 2,
   "metadata": {},
   "outputs": [],
   "source": [
    "df_1 = pd.read_pickle(\"../data/preprocess_train_dimbat_re1.pkl\")\n",
    "df_2 = pd.read_pickle(\"../data/preprocess_train_dimbat_re2.pkl\")\n",
    "df_3 = pd.read_pickle(\"../data/preprocess_train_dimbat_re3.pkl\")\n",
    "df_4 = pd.read_pickle(\"../data/preprocess_train_dimbat_re4.pkl\")\n",
    "df_5 = pd.read_pickle(\"../data/preprocess_train_dimbat_re5.pkl\")\n",
    "df_6 = pd.read_pickle(\"../data/preprocess_train_dimbat_re6.pkl\")\n",
    "df_7 = pd.read_pickle(\"../data/preprocess_train_dimbat_re7.pkl\")\n",
    "df_8 = pd.read_pickle(\"../data/preprocess_train_dimbat_re8.pkl\")\n",
    "df_9 = pd.read_pickle(\"../data/preprocess_train_dimbat_re9.pkl\")\n",
    "df_10 = pd.read_pickle(\"../data/preprocess_train_dimbat_re10.pkl\")"
   ]
  },
  {
   "cell_type": "code",
   "execution_count": 3,
   "metadata": {},
   "outputs": [
    {
     "name": "stdout",
     "output_type": "stream",
     "text": [
      "<class 'pandas.core.frame.DataFrame'>\n",
      "Int64Index: 3053 entries, 1554 to 11865\n",
      "Data columns (total 6 columns):\n",
      " #   Column      Non-Null Count  Dtype \n",
      "---  ------      --------------  ----- \n",
      " 0   id          3053 non-null   object\n",
      " 1   text        3053 non-null   object\n",
      " 2   relevance   3053 non-null   int64 \n",
      " 3   text_clean  3053 non-null   object\n",
      " 4   lemmas      3053 non-null   object\n",
      " 5   text_lemma  3053 non-null   object\n",
      "dtypes: int64(1), object(5)\n",
      "memory usage: 167.0+ KB\n"
     ]
    }
   ],
   "source": [
    "df_1.info()"
   ]
  },
  {
   "cell_type": "code",
   "execution_count": 4,
   "metadata": {},
   "outputs": [
    {
     "name": "stdout",
     "output_type": "stream",
     "text": [
      "<class 'pandas.core.frame.DataFrame'>\n",
      "Int64Index: 16547 entries, 4212 to 163433\n",
      "Data columns (total 6 columns):\n",
      " #   Column      Non-Null Count  Dtype \n",
      "---  ------      --------------  ----- \n",
      " 0   id          16547 non-null  object\n",
      " 1   text        16547 non-null  object\n",
      " 2   relevance   16547 non-null  int64 \n",
      " 3   text_clean  16547 non-null  object\n",
      " 4   lemmas      16547 non-null  object\n",
      " 5   text_lemma  16547 non-null  object\n",
      "dtypes: int64(1), object(5)\n",
      "memory usage: 904.9+ KB\n"
     ]
    }
   ],
   "source": [
    "df_2.info()"
   ]
  },
  {
   "cell_type": "code",
   "execution_count": 5,
   "metadata": {},
   "outputs": [
    {
     "name": "stdout",
     "output_type": "stream",
     "text": [
      "<class 'pandas.core.frame.DataFrame'>\n",
      "Int64Index: 14210 entries, 83204 to 141369\n",
      "Data columns (total 6 columns):\n",
      " #   Column      Non-Null Count  Dtype \n",
      "---  ------      --------------  ----- \n",
      " 0   id          14210 non-null  object\n",
      " 1   text        14210 non-null  object\n",
      " 2   relevance   14210 non-null  int64 \n",
      " 3   text_clean  14210 non-null  object\n",
      " 4   lemmas      14210 non-null  object\n",
      " 5   text_lemma  14210 non-null  object\n",
      "dtypes: int64(1), object(5)\n",
      "memory usage: 777.1+ KB\n"
     ]
    }
   ],
   "source": [
    "df_3.info()"
   ]
  },
  {
   "cell_type": "code",
   "execution_count": 6,
   "metadata": {},
   "outputs": [
    {
     "name": "stdout",
     "output_type": "stream",
     "text": [
      "<class 'pandas.core.frame.DataFrame'>\n",
      "Int64Index: 30365 entries, 17820 to 148374\n",
      "Data columns (total 6 columns):\n",
      " #   Column      Non-Null Count  Dtype \n",
      "---  ------      --------------  ----- \n",
      " 0   id          27605 non-null  object\n",
      " 1   text        30365 non-null  object\n",
      " 2   relevance   30365 non-null  int64 \n",
      " 3   text_clean  30365 non-null  object\n",
      " 4   lemmas      30365 non-null  object\n",
      " 5   text_lemma  30365 non-null  object\n",
      "dtypes: int64(1), object(5)\n",
      "memory usage: 1.6+ MB\n"
     ]
    }
   ],
   "source": [
    "df_4.info()"
   ]
  },
  {
   "cell_type": "code",
   "execution_count": 7,
   "metadata": {},
   "outputs": [
    {
     "name": "stdout",
     "output_type": "stream",
     "text": [
      "<class 'pandas.core.frame.DataFrame'>\n",
      "Int64Index: 3220 entries, 112676 to 158886\n",
      "Data columns (total 6 columns):\n",
      " #   Column      Non-Null Count  Dtype \n",
      "---  ------      --------------  ----- \n",
      " 0   id          3220 non-null   object\n",
      " 1   text        3220 non-null   object\n",
      " 2   relevance   3220 non-null   int64 \n",
      " 3   text_clean  3220 non-null   object\n",
      " 4   lemmas      3220 non-null   object\n",
      " 5   text_lemma  3220 non-null   object\n",
      "dtypes: int64(1), object(5)\n",
      "memory usage: 176.1+ KB\n"
     ]
    }
   ],
   "source": [
    "df_5.info()"
   ]
  },
  {
   "cell_type": "code",
   "execution_count": 8,
   "metadata": {},
   "outputs": [
    {
     "name": "stdout",
     "output_type": "stream",
     "text": [
      "<class 'pandas.core.frame.DataFrame'>\n",
      "Int64Index: 4844 entries, 50872 to 109643\n",
      "Data columns (total 6 columns):\n",
      " #   Column      Non-Null Count  Dtype \n",
      "---  ------      --------------  ----- \n",
      " 0   id          4844 non-null   object\n",
      " 1   text        4844 non-null   object\n",
      " 2   relevance   4844 non-null   int64 \n",
      " 3   text_clean  4844 non-null   object\n",
      " 4   lemmas      4844 non-null   object\n",
      " 5   text_lemma  4844 non-null   object\n",
      "dtypes: int64(1), object(5)\n",
      "memory usage: 264.9+ KB\n"
     ]
    }
   ],
   "source": [
    "df_6.info()"
   ]
  },
  {
   "cell_type": "code",
   "execution_count": 9,
   "metadata": {},
   "outputs": [
    {
     "name": "stdout",
     "output_type": "stream",
     "text": [
      "<class 'pandas.core.frame.DataFrame'>\n",
      "Int64Index: 5842 entries, 33240 to 139814\n",
      "Data columns (total 6 columns):\n",
      " #   Column      Non-Null Count  Dtype \n",
      "---  ------      --------------  ----- \n",
      " 0   id          5842 non-null   object\n",
      " 1   text        5842 non-null   object\n",
      " 2   relevance   5842 non-null   int64 \n",
      " 3   text_clean  5842 non-null   object\n",
      " 4   lemmas      5842 non-null   object\n",
      " 5   text_lemma  5842 non-null   object\n",
      "dtypes: int64(1), object(5)\n",
      "memory usage: 319.5+ KB\n"
     ]
    }
   ],
   "source": [
    "df_7.info()"
   ]
  },
  {
   "cell_type": "code",
   "execution_count": 10,
   "metadata": {},
   "outputs": [
    {
     "name": "stdout",
     "output_type": "stream",
     "text": [
      "<class 'pandas.core.frame.DataFrame'>\n",
      "Int64Index: 2352 entries, 0 to 136922\n",
      "Data columns (total 6 columns):\n",
      " #   Column      Non-Null Count  Dtype \n",
      "---  ------      --------------  ----- \n",
      " 0   id          2352 non-null   object\n",
      " 1   text        2352 non-null   object\n",
      " 2   relevance   2352 non-null   int64 \n",
      " 3   text_clean  2352 non-null   object\n",
      " 4   lemmas      2352 non-null   object\n",
      " 5   text_lemma  2352 non-null   object\n",
      "dtypes: int64(1), object(5)\n",
      "memory usage: 128.6+ KB\n"
     ]
    }
   ],
   "source": [
    "df_8.info()"
   ]
  },
  {
   "cell_type": "code",
   "execution_count": 11,
   "metadata": {},
   "outputs": [
    {
     "name": "stdout",
     "output_type": "stream",
     "text": [
      "<class 'pandas.core.frame.DataFrame'>\n",
      "Int64Index: 762 entries, 81412 to 82173\n",
      "Data columns (total 6 columns):\n",
      " #   Column      Non-Null Count  Dtype \n",
      "---  ------      --------------  ----- \n",
      " 0   id          762 non-null    object\n",
      " 1   text        762 non-null    object\n",
      " 2   relevance   762 non-null    int64 \n",
      " 3   text_clean  762 non-null    object\n",
      " 4   lemmas      762 non-null    object\n",
      " 5   text_lemma  762 non-null    object\n",
      "dtypes: int64(1), object(5)\n",
      "memory usage: 41.7+ KB\n"
     ]
    }
   ],
   "source": [
    "df_9.info()"
   ]
  },
  {
   "cell_type": "code",
   "execution_count": 12,
   "metadata": {},
   "outputs": [
    {
     "name": "stdout",
     "output_type": "stream",
     "text": [
      "<class 'pandas.core.frame.DataFrame'>\n",
      "Int64Index: 664 entries, 137672 to 138335\n",
      "Data columns (total 6 columns):\n",
      " #   Column      Non-Null Count  Dtype \n",
      "---  ------      --------------  ----- \n",
      " 0   id          664 non-null    object\n",
      " 1   text        664 non-null    object\n",
      " 2   relevance   664 non-null    int64 \n",
      " 3   text_clean  664 non-null    object\n",
      " 4   lemmas      664 non-null    object\n",
      " 5   text_lemma  664 non-null    object\n",
      "dtypes: int64(1), object(5)\n",
      "memory usage: 36.3+ KB\n"
     ]
    }
   ],
   "source": [
    "df_10.info()"
   ]
  },
  {
   "cell_type": "code",
   "execution_count": 13,
   "metadata": {},
   "outputs": [],
   "source": [
    "nsamp = 600\n",
    "df_type = df_1.sample(n=nsamp, random_state=RSEED, ignore_index=True)\n",
    "df_type = df_type.append(df_2.sample(n=nsamp, random_state=RSEED, ignore_index=True), ignore_index=True)\n",
    "df_type = df_type.append(df_3.sample(n=nsamp, random_state=RSEED, ignore_index=True), ignore_index=True)\n",
    "df_type = df_type.append(df_4.sample(n=nsamp, random_state=RSEED, ignore_index=True), ignore_index=True)\n",
    "df_type = df_type.append(df_5.sample(n=nsamp, random_state=RSEED, ignore_index=True), ignore_index=True)\n",
    "df_type = df_type.append(df_6.sample(n=nsamp, random_state=RSEED, ignore_index=True), ignore_index=True)\n",
    "df_type = df_type.append(df_7.sample(n=nsamp, random_state=RSEED, ignore_index=True), ignore_index=True)\n",
    "df_type = df_type.append(df_8.sample(n=nsamp, random_state=RSEED, ignore_index=True), ignore_index=True)\n",
    "df_type = df_type.append(df_9.sample(n=nsamp, random_state=RSEED, ignore_index=True), ignore_index=True)\n",
    "df_type = df_type.append(df_10.sample(n=nsamp, random_state=RSEED, ignore_index=True), ignore_index=True)"
   ]
  },
  {
   "cell_type": "code",
   "execution_count": 14,
   "metadata": {},
   "outputs": [
    {
     "name": "stdout",
     "output_type": "stream",
     "text": [
      "<class 'pandas.core.frame.DataFrame'>\n",
      "RangeIndex: 6000 entries, 0 to 5999\n",
      "Data columns (total 6 columns):\n",
      " #   Column      Non-Null Count  Dtype \n",
      "---  ------      --------------  ----- \n",
      " 0   id          5949 non-null   object\n",
      " 1   text        6000 non-null   object\n",
      " 2   relevance   6000 non-null   int64 \n",
      " 3   text_clean  6000 non-null   object\n",
      " 4   lemmas      6000 non-null   object\n",
      " 5   text_lemma  6000 non-null   object\n",
      "dtypes: int64(1), object(5)\n",
      "memory usage: 281.4+ KB\n"
     ]
    }
   ],
   "source": [
    "df_type.info()"
   ]
  },
  {
   "cell_type": "code",
   "execution_count": 16,
   "metadata": {},
   "outputs": [
    {
     "data": {
      "text/html": [
       "<div>\n",
       "<style scoped>\n",
       "    .dataframe tbody tr th:only-of-type {\n",
       "        vertical-align: middle;\n",
       "    }\n",
       "\n",
       "    .dataframe tbody tr th {\n",
       "        vertical-align: top;\n",
       "    }\n",
       "\n",
       "    .dataframe thead th {\n",
       "        text-align: right;\n",
       "    }\n",
       "</style>\n",
       "<table border=\"1\" class=\"dataframe\">\n",
       "  <thead>\n",
       "    <tr style=\"text-align: right;\">\n",
       "      <th></th>\n",
       "      <th>id</th>\n",
       "      <th>text</th>\n",
       "      <th>relevance</th>\n",
       "      <th>text_clean</th>\n",
       "      <th>lemmas</th>\n",
       "      <th>text_lemma</th>\n",
       "    </tr>\n",
       "  </thead>\n",
       "  <tbody>\n",
       "    <tr>\n",
       "      <th>4660</th>\n",
       "      <td>354320352576405505</td>\n",
       "      <td>too many people are making this an oil story w...</td>\n",
       "      <td>8</td>\n",
       "      <td>too many people are making this an oil story w...</td>\n",
       "      <td>[people, oil, story, deregulation, safety, sto...</td>\n",
       "      <td>people oil story deregulation safety story imo...</td>\n",
       "    </tr>\n",
       "    <tr>\n",
       "      <th>3087</th>\n",
       "      <td>'324771029538963456'</td>\n",
       "      <td>&lt;USER&gt; glad you are ok! stay safe. &lt;HASHTAG&gt; p...</td>\n",
       "      <td>6</td>\n",
       "      <td>glad you are ok! stay safe.  prayforwest</td>\n",
       "      <td>[glad, ok, stay, safe, prayforw]</td>\n",
       "      <td>glad ok stay safe prayforw</td>\n",
       "    </tr>\n",
       "    <tr>\n",
       "      <th>1214</th>\n",
       "      <td>296075758143676416</td>\n",
       "      <td>water water and more water as the mary river f...</td>\n",
       "      <td>3</td>\n",
       "      <td>water water and more water as the mary river f...</td>\n",
       "      <td>[water, water, water, mary, river, floods, mar...</td>\n",
       "      <td>water water water mary river floods maryborough</td>\n",
       "    </tr>\n",
       "    <tr>\n",
       "      <th>3363</th>\n",
       "      <td>'325458910016323584'</td>\n",
       "      <td>very sad week in tx - &lt;NUMBER&gt; bodies recovere...</td>\n",
       "      <td>6</td>\n",
       "      <td>very sad week in tx -  bodies recovered after ...</td>\n",
       "      <td>[sad, week, tx, body, recover, texas, blast, w...</td>\n",
       "      <td>sad week recover blast west</td>\n",
       "    </tr>\n",
       "    <tr>\n",
       "      <th>3258</th>\n",
       "      <td>'324734731222646784'</td>\n",
       "      <td>&lt;USER&gt; wow \u0001 &lt;REPEAT&gt; the explosion in west, t...</td>\n",
       "      <td>6</td>\n",
       "      <td>wow \u0001  the explosion in west, texas</td>\n",
       "      <td>[wow, explosion, west, texas]</td>\n",
       "      <td>wow explosion</td>\n",
       "    </tr>\n",
       "    <tr>\n",
       "      <th>4225</th>\n",
       "      <td>407220000932392960</td>\n",
       "      <td>&lt;USER&gt; video: new york train crash kills four ...</td>\n",
       "      <td>8</td>\n",
       "      <td>video: new york train crash kills four @onedi...</td>\n",
       "      <td>[video, new, york, train, crash, kill]</td>\n",
       "      <td>video crash kill</td>\n",
       "    </tr>\n",
       "    <tr>\n",
       "      <th>2993</th>\n",
       "      <td>218385078051549184</td>\n",
       "      <td>in case my friends in other areas of the count...</td>\n",
       "      <td>5</td>\n",
       "      <td>in case my friends in other areas of the count...</td>\n",
       "      <td>[case, friend, area, country, hear, fire, colo...</td>\n",
       "      <td>case friend area country hear fire colorado sp...</td>\n",
       "    </tr>\n",
       "    <tr>\n",
       "      <th>1997</th>\n",
       "      <td>'336623926090268676'</td>\n",
       "      <td>breaking: dozens injured in &lt;HASHTAG&gt; okc &lt;HAS...</td>\n",
       "      <td>4</td>\n",
       "      <td>breaking: dozens injured in  okc  tornado acco...</td>\n",
       "      <td>[breaking, dozen, injure, okc, tornado, accord...</td>\n",
       "      <td>injure tornado accord official nearby hospital</td>\n",
       "    </tr>\n",
       "    <tr>\n",
       "      <th>604</th>\n",
       "      <td>'451188361823547392'</td>\n",
       "      <td>it is very difficult to fight with your friend...</td>\n",
       "      <td>2</td>\n",
       "      <td>it is very difficult to fight with your friend...</td>\n",
       "      <td>[difficult, fight, friend, bad, resentment]</td>\n",
       "      <td>difficult fight friend bad resentment</td>\n",
       "    </tr>\n",
       "    <tr>\n",
       "      <th>5279</th>\n",
       "      <td>302440322728882177</td>\n",
       "      <td>watched the &lt;HASHTAG&gt; russianmeteor \u0001 &lt;REPEAT&gt;...</td>\n",
       "      <td>9</td>\n",
       "      <td>watched the  russianmeteor \u0001  it was scary </td>\n",
       "      <td>[watch, russianmeteor, scary]</td>\n",
       "      <td>watch russianmeteor scary</td>\n",
       "    </tr>\n",
       "  </tbody>\n",
       "</table>\n",
       "</div>"
      ],
      "text/plain": [
       "                        id                                               text  \\\n",
       "4660    354320352576405505  too many people are making this an oil story w...   \n",
       "3087  '324771029538963456'  <USER> glad you are ok! stay safe. <HASHTAG> p...   \n",
       "1214    296075758143676416  water water and more water as the mary river f...   \n",
       "3363  '325458910016323584'  very sad week in tx - <NUMBER> bodies recovere...   \n",
       "3258  '324734731222646784'  <USER> wow \u0001 <REPEAT> the explosion in west, t...   \n",
       "4225    407220000932392960  <USER> video: new york train crash kills four ...   \n",
       "2993    218385078051549184  in case my friends in other areas of the count...   \n",
       "1997  '336623926090268676'  breaking: dozens injured in <HASHTAG> okc <HAS...   \n",
       "604   '451188361823547392'  it is very difficult to fight with your friend...   \n",
       "5279    302440322728882177  watched the <HASHTAG> russianmeteor \u0001 <REPEAT>...   \n",
       "\n",
       "      relevance                                         text_clean  \\\n",
       "4660          8  too many people are making this an oil story w...   \n",
       "3087          6           glad you are ok! stay safe.  prayforwest   \n",
       "1214          3  water water and more water as the mary river f...   \n",
       "3363          6  very sad week in tx -  bodies recovered after ...   \n",
       "3258          6               wow \u0001  the explosion in west, texas    \n",
       "4225          8   video: new york train crash kills four @onedi...   \n",
       "2993          5  in case my friends in other areas of the count...   \n",
       "1997          4  breaking: dozens injured in  okc  tornado acco...   \n",
       "604           2  it is very difficult to fight with your friend...   \n",
       "5279          9       watched the  russianmeteor \u0001  it was scary    \n",
       "\n",
       "                                                 lemmas  \\\n",
       "4660  [people, oil, story, deregulation, safety, sto...   \n",
       "3087                   [glad, ok, stay, safe, prayforw]   \n",
       "1214  [water, water, water, mary, river, floods, mar...   \n",
       "3363  [sad, week, tx, body, recover, texas, blast, w...   \n",
       "3258                      [wow, explosion, west, texas]   \n",
       "4225             [video, new, york, train, crash, kill]   \n",
       "2993  [case, friend, area, country, hear, fire, colo...   \n",
       "1997  [breaking, dozen, injure, okc, tornado, accord...   \n",
       "604         [difficult, fight, friend, bad, resentment]   \n",
       "5279                      [watch, russianmeteor, scary]   \n",
       "\n",
       "                                             text_lemma  \n",
       "4660  people oil story deregulation safety story imo...  \n",
       "3087                         glad ok stay safe prayforw  \n",
       "1214    water water water mary river floods maryborough  \n",
       "3363                        sad week recover blast west  \n",
       "3258                                      wow explosion  \n",
       "4225                                   video crash kill  \n",
       "2993  case friend area country hear fire colorado sp...  \n",
       "1997     injure tornado accord official nearby hospital  \n",
       "604               difficult fight friend bad resentment  \n",
       "5279                          watch russianmeteor scary  "
      ]
     },
     "execution_count": 16,
     "metadata": {},
     "output_type": "execute_result"
    }
   ],
   "source": [
    "df_type.sample(10)"
   ]
  },
  {
   "cell_type": "code",
   "execution_count": 17,
   "metadata": {},
   "outputs": [],
   "source": [
    "from transformers import AutoTokenizer\n",
    "tokenizer = AutoTokenizer.from_pretrained(\"distilbert-base-uncased\")"
   ]
  },
  {
   "cell_type": "code",
   "execution_count": 18,
   "metadata": {},
   "outputs": [],
   "source": [
    "from sklearn.model_selection import train_test_split\n",
    "RSEED = 42\n",
    "\n",
    "X_train, X_test, y_train, y_test = train_test_split(df_type['text_lemma'], df_type['relevance'], test_size=0.2, random_state=RSEED)"
   ]
  },
  {
   "cell_type": "code",
   "execution_count": 19,
   "metadata": {},
   "outputs": [],
   "source": [
    "from datasets.dataset_dict import DatasetDict\n",
    "from datasets import Dataset\n",
    "dd = {'train':Dataset.from_dict({'text':X_train,'label':y_train}),\n",
    "        'test':Dataset.from_dict({'text':X_test,'label':y_test})\n",
    "       }\n",
    "data = DatasetDict(dd)"
   ]
  },
  {
   "cell_type": "code",
   "execution_count": 20,
   "metadata": {},
   "outputs": [
    {
     "data": {
      "text/plain": [
       "{'train': (4800, 2), 'test': (1200, 2)}"
      ]
     },
     "execution_count": 20,
     "metadata": {},
     "output_type": "execute_result"
    }
   ],
   "source": [
    "data.shape"
   ]
  },
  {
   "cell_type": "code",
   "execution_count": 21,
   "metadata": {},
   "outputs": [
    {
     "data": {
      "text/plain": [
       "datasets.dataset_dict.DatasetDict"
      ]
     },
     "execution_count": 21,
     "metadata": {},
     "output_type": "execute_result"
    }
   ],
   "source": [
    "type(data)"
   ]
  },
  {
   "cell_type": "code",
   "execution_count": 22,
   "metadata": {},
   "outputs": [
    {
     "data": {
      "text/plain": [
       "{'text': 'survivor h marathon', 'label': 7}"
      ]
     },
     "execution_count": 22,
     "metadata": {},
     "output_type": "execute_result"
    }
   ],
   "source": [
    "data['train'][0]"
   ]
  },
  {
   "cell_type": "code",
   "execution_count": 23,
   "metadata": {},
   "outputs": [],
   "source": [
    "def preprocess_function(examples):\n",
    "    return tokenizer(examples[\"text\"], truncation=True)"
   ]
  },
  {
   "cell_type": "code",
   "execution_count": 24,
   "metadata": {},
   "outputs": [
    {
     "data": {
      "application/vnd.jupyter.widget-view+json": {
       "model_id": "9924c766b6a24d8e9aa7e6c7c123d5fc",
       "version_major": 2,
       "version_minor": 0
      },
      "text/plain": [
       "  0%|          | 0/5 [00:00<?, ?ba/s]"
      ]
     },
     "metadata": {},
     "output_type": "display_data"
    },
    {
     "data": {
      "application/vnd.jupyter.widget-view+json": {
       "model_id": "f158b04d582b438fb4c2fea3ae876999",
       "version_major": 2,
       "version_minor": 0
      },
      "text/plain": [
       "  0%|          | 0/2 [00:00<?, ?ba/s]"
      ]
     },
     "metadata": {},
     "output_type": "display_data"
    }
   ],
   "source": [
    "tokenized_tweet = data.map(preprocess_function, batched=True)"
   ]
  },
  {
   "cell_type": "code",
   "execution_count": 25,
   "metadata": {},
   "outputs": [
    {
     "data": {
      "text/plain": [
       "{'train': (4800, 4), 'test': (1200, 4)}"
      ]
     },
     "execution_count": 25,
     "metadata": {},
     "output_type": "execute_result"
    }
   ],
   "source": [
    "tokenized_tweet.shape"
   ]
  },
  {
   "cell_type": "code",
   "execution_count": 28,
   "metadata": {},
   "outputs": [
    {
     "data": {
      "text/plain": [
       "{'text': 'oh wow I finally bukit timah hill sghaze',\n",
       " 'label': 10,\n",
       " 'input_ids': [101,\n",
       "  2821,\n",
       "  10166,\n",
       "  1045,\n",
       "  2633,\n",
       "  29007,\n",
       "  5199,\n",
       "  4430,\n",
       "  2940,\n",
       "  22214,\n",
       "  3270,\n",
       "  4371,\n",
       "  102],\n",
       " 'attention_mask': [1, 1, 1, 1, 1, 1, 1, 1, 1, 1, 1, 1, 1]}"
      ]
     },
     "execution_count": 28,
     "metadata": {},
     "output_type": "execute_result"
    }
   ],
   "source": [
    "tokenized_tweet['train'][1]"
   ]
  },
  {
   "cell_type": "code",
   "execution_count": 26,
   "metadata": {},
   "outputs": [],
   "source": [
    "from transformers import DataCollatorWithPadding\n",
    "\n",
    "data_collator = DataCollatorWithPadding(tokenizer=tokenizer, return_tensors=\"tf\")"
   ]
  },
  {
   "cell_type": "code",
   "execution_count": 27,
   "metadata": {},
   "outputs": [
    {
     "name": "stdout",
     "output_type": "stream",
     "text": [
      "Metal device set to: Apple M1\n",
      "\n",
      "systemMemory: 8.00 GB\n",
      "maxCacheSize: 2.67 GB\n",
      "\n"
     ]
    },
    {
     "name": "stderr",
     "output_type": "stream",
     "text": [
      "2022-08-03 22:31:49.296425: I tensorflow/core/common_runtime/pluggable_device/pluggable_device_factory.cc:305] Could not identify NUMA node of platform GPU ID 0, defaulting to 0. Your kernel may not have been built with NUMA support.\n",
      "2022-08-03 22:31:49.296523: I tensorflow/core/common_runtime/pluggable_device/pluggable_device_factory.cc:271] Created TensorFlow device (/job:localhost/replica:0/task:0/device:GPU:0 with 0 MB memory) -> physical PluggableDevice (device: 0, name: METAL, pci bus id: <undefined>)\n"
     ]
    }
   ],
   "source": [
    "tf_train_set = tokenized_tweet[\"train\"].to_tf_dataset(\n",
    "    columns=[\"attention_mask\", \"input_ids\"],\n",
    "    label_cols=[\"labels\"],\n",
    "    shuffle=True,\n",
    "    batch_size=16,\n",
    "    collate_fn=data_collator,\n",
    ")\n",
    "\n",
    "tf_validation_set = tokenized_tweet[\"test\"].to_tf_dataset(\n",
    "    columns=[\"attention_mask\", \"input_ids\"],\n",
    "    label_cols=[\"labels\"],\n",
    "    shuffle=False,\n",
    "    batch_size=16,\n",
    "    collate_fn=data_collator,\n",
    ")"
   ]
  },
  {
   "cell_type": "code",
   "execution_count": 28,
   "metadata": {},
   "outputs": [
    {
     "data": {
      "text/plain": [
       "<PrefetchDataset element_spec=({'input_ids': TensorSpec(shape=(None, None), dtype=tf.int64, name=None), 'attention_mask': TensorSpec(shape=(None, None), dtype=tf.int64, name=None)}, TensorSpec(shape=(None,), dtype=tf.int64, name=None))>"
      ]
     },
     "execution_count": 28,
     "metadata": {},
     "output_type": "execute_result"
    }
   ],
   "source": [
    "tf_validation_set"
   ]
  },
  {
   "cell_type": "code",
   "execution_count": 29,
   "metadata": {},
   "outputs": [],
   "source": [
    "from transformers import create_optimizer\n",
    "import tensorflow as tf\n",
    "\n",
    "batch_size = 16\n",
    "num_epochs = 5\n",
    "batches_per_epoch = len(tokenized_tweet[\"train\"]) // batch_size\n",
    "total_train_steps = int(batches_per_epoch * num_epochs)\n",
    "optimizer, schedule = create_optimizer(init_lr=2e-5, num_warmup_steps=0, num_train_steps=total_train_steps)"
   ]
  },
  {
   "cell_type": "code",
   "execution_count": 30,
   "metadata": {},
   "outputs": [
    {
     "name": "stderr",
     "output_type": "stream",
     "text": [
      "Some layers from the model checkpoint at distilbert-base-uncased were not used when initializing TFDistilBertForSequenceClassification: ['vocab_layer_norm', 'vocab_projector', 'activation_13', 'vocab_transform']\n",
      "- This IS expected if you are initializing TFDistilBertForSequenceClassification from the checkpoint of a model trained on another task or with another architecture (e.g. initializing a BertForSequenceClassification model from a BertForPreTraining model).\n",
      "- This IS NOT expected if you are initializing TFDistilBertForSequenceClassification from the checkpoint of a model that you expect to be exactly identical (initializing a BertForSequenceClassification model from a BertForSequenceClassification model).\n",
      "Some layers of TFDistilBertForSequenceClassification were not initialized from the model checkpoint at distilbert-base-uncased and are newly initialized: ['dropout_19', 'classifier', 'pre_classifier']\n",
      "You should probably TRAIN this model on a down-stream task to be able to use it for predictions and inference.\n",
      "Some layers from the model checkpoint at distilbert-base-uncased were not used when initializing TFDistilBertForSequenceClassification: ['vocab_layer_norm', 'vocab_projector', 'activation_13', 'vocab_transform']\n",
      "- This IS expected if you are initializing TFDistilBertForSequenceClassification from the checkpoint of a model trained on another task or with another architecture (e.g. initializing a BertForSequenceClassification model from a BertForPreTraining model).\n",
      "- This IS NOT expected if you are initializing TFDistilBertForSequenceClassification from the checkpoint of a model that you expect to be exactly identical (initializing a BertForSequenceClassification model from a BertForSequenceClassification model).\n",
      "Some layers of TFDistilBertForSequenceClassification were not initialized from the model checkpoint at distilbert-base-uncased and are newly initialized: ['classifier', 'pre_classifier', 'dropout_39']\n",
      "You should probably TRAIN this model on a down-stream task to be able to use it for predictions and inference.\n"
     ]
    }
   ],
   "source": [
    "from transformers import TFAutoModelForSequenceClassification\n",
    "\n",
    "model_bert = TFAutoModelForSequenceClassification.from_pretrained(\"distilbert-base-uncased\", num_labels=10)\n",
    "model = TFAutoModelForSequenceClassification.from_pretrained(\"distilbert-base-uncased\", num_labels=10)"
   ]
  },
  {
   "cell_type": "code",
   "execution_count": 31,
   "metadata": {},
   "outputs": [],
   "source": [
    "import tensorflow as tf\n",
    "\n",
    "model.compile(optimizer=optimizer, loss=tf.keras.losses.SparseCategoricalCrossentropy(from_logits=True),\n",
    "                    metrics=tf.metrics.SparseCategoricalAccuracy())"
   ]
  },
  {
   "cell_type": "code",
   "execution_count": 32,
   "metadata": {},
   "outputs": [
    {
     "name": "stdout",
     "output_type": "stream",
     "text": [
      "Epoch 1/10\n"
     ]
    },
    {
     "name": "stderr",
     "output_type": "stream",
     "text": [
      "2022-08-03 22:31:53.174682: W tensorflow/core/platform/profile_utils/cpu_utils.cc:128] Failed to get CPU frequency: 0 Hz\n",
      "2022-08-03 22:31:57.889535: I tensorflow/core/grappler/optimizers/custom_graph_optimizer_registry.cc:113] Plugin optimizer for device_type GPU is enabled.\n"
     ]
    },
    {
     "name": "stdout",
     "output_type": "stream",
     "text": [
      "300/300 [==============================] - ETA: 0s - loss: 1.0251 - sparse_categorical_accuracy: 0.6467"
     ]
    },
    {
     "name": "stderr",
     "output_type": "stream",
     "text": [
      "2022-08-03 22:36:10.164390: I tensorflow/core/grappler/optimizers/custom_graph_optimizer_registry.cc:113] Plugin optimizer for device_type GPU is enabled.\n"
     ]
    },
    {
     "name": "stdout",
     "output_type": "stream",
     "text": [
      "300/300 [==============================] - 273s 883ms/step - loss: 1.0251 - sparse_categorical_accuracy: 0.6467 - val_loss: 0.3928 - val_sparse_categorical_accuracy: 0.7900\n",
      "Epoch 2/10\n",
      "300/300 [==============================] - 289s 961ms/step - loss: 0.3070 - sparse_categorical_accuracy: 0.8163 - val_loss: 0.3014 - val_sparse_categorical_accuracy: 0.8033\n",
      "Epoch 3/10\n",
      "300/300 [==============================] - 386s 1s/step - loss: 0.1835 - sparse_categorical_accuracy: 0.8529 - val_loss: 0.2950 - val_sparse_categorical_accuracy: 0.8025\n",
      "Epoch 4/10\n",
      "300/300 [==============================] - 479s 2s/step - loss: 0.1273 - sparse_categorical_accuracy: 0.8675 - val_loss: 0.2920 - val_sparse_categorical_accuracy: 0.8125\n",
      "Epoch 5/10\n",
      "300/300 [==============================] - 470s 2s/step - loss: 0.0972 - sparse_categorical_accuracy: 0.8758 - val_loss: 0.2980 - val_sparse_categorical_accuracy: 0.8133\n",
      "Epoch 6/10\n",
      "300/300 [==============================] - 613s 2s/step - loss: 0.0882 - sparse_categorical_accuracy: 0.8794 - val_loss: 0.2980 - val_sparse_categorical_accuracy: 0.8133\n",
      "Epoch 7/10\n",
      "300/300 [==============================] - 583s 2s/step - loss: 0.0893 - sparse_categorical_accuracy: 0.8788 - val_loss: 0.2980 - val_sparse_categorical_accuracy: 0.8133\n",
      "Epoch 8/10\n",
      "300/300 [==============================] - 436s 1s/step - loss: 0.0880 - sparse_categorical_accuracy: 0.8794 - val_loss: 0.2980 - val_sparse_categorical_accuracy: 0.8133\n",
      "Epoch 9/10\n",
      "300/300 [==============================] - 591s 2s/step - loss: 0.0858 - sparse_categorical_accuracy: 0.8817 - val_loss: 0.2980 - val_sparse_categorical_accuracy: 0.8133\n",
      "Epoch 10/10\n",
      "300/300 [==============================] - 632s 2s/step - loss: 0.0875 - sparse_categorical_accuracy: 0.8783 - val_loss: 0.2980 - val_sparse_categorical_accuracy: 0.8133\n"
     ]
    }
   ],
   "source": [
    "history = model.fit(x=tf_train_set, validation_data=tf_validation_set, epochs=5)"
   ]
  },
  {
   "cell_type": "code",
   "execution_count": 36,
   "metadata": {},
   "outputs": [],
   "source": [
    "model.save_pretrained(\"../models/dimbat_disaster_type_distilbert_model\")"
   ]
  },
  {
   "cell_type": "code",
   "execution_count": 34,
   "metadata": {},
   "outputs": [
    {
     "data": {
      "text/plain": [
       "{'loss': [1.025132656097412,\n",
       "  0.30697542428970337,\n",
       "  0.18353842198848724,\n",
       "  0.12730729579925537,\n",
       "  0.09722671657800674,\n",
       "  0.0881766825914383,\n",
       "  0.08927685022354126,\n",
       "  0.08803831040859222,\n",
       "  0.08580093085765839,\n",
       "  0.08753442764282227],\n",
       " 'sparse_categorical_accuracy': [0.6466667056083679,\n",
       "  0.8162500262260437,\n",
       "  0.8529166579246521,\n",
       "  0.8675000071525574,\n",
       "  0.8758333325386047,\n",
       "  0.8793750405311584,\n",
       "  0.8787500262260437,\n",
       "  0.8793750405311584,\n",
       "  0.8816666603088379,\n",
       "  0.878333330154419],\n",
       " 'val_loss': [0.39276471734046936,\n",
       "  0.3013964593410492,\n",
       "  0.2950344979763031,\n",
       "  0.291953980922699,\n",
       "  0.2980119287967682,\n",
       "  0.2980119287967682,\n",
       "  0.2980119287967682,\n",
       "  0.2980119287967682,\n",
       "  0.2980119287967682,\n",
       "  0.2980119287967682],\n",
       " 'val_sparse_categorical_accuracy': [0.7900000214576721,\n",
       "  0.8033333420753479,\n",
       "  0.8025000095367432,\n",
       "  0.8125,\n",
       "  0.8133333325386047,\n",
       "  0.8133333325386047,\n",
       "  0.8133333325386047,\n",
       "  0.8133333325386047,\n",
       "  0.8133333325386047,\n",
       "  0.8133333325386047]}"
      ]
     },
     "execution_count": 34,
     "metadata": {},
     "output_type": "execute_result"
    }
   ],
   "source": [
    "history.history"
   ]
  },
  {
   "cell_type": "code",
   "execution_count": 35,
   "metadata": {},
   "outputs": [
    {
     "data": {
      "image/png": "[encoded data removed]",
      "text/plain": [
       "<Figure size 432x288 with 1 Axes>"
      ]
     },
     "metadata": {
      "needs_background": "light"
     },
     "output_type": "display_data"
    }
   ],
   "source": [
    "import matplotlib.pyplot as plt\n",
    "\n",
    "df_history = pd.DataFrame(history.history)\n",
    "fig,ax = plt.subplots()\n",
    "plt.plot(range(df_history.shape[0]),df_history['val_sparse_categorical_accuracy'],'bs--',label='validation')\n",
    "plt.plot(range(df_history.shape[0]),df_history['sparse_categorical_accuracy'],'r^--',label='training')\n",
    "plt.xlabel('epoch')\n",
    "plt.ylabel('accuracy')\n",
    "plt.title('fine tuning DistilBert Tweets Classification Training')\n",
    "plt.legend(loc='best')\n",
    "plt.grid()\n",
    "plt.show()\n",
    "\n",
    "fig.savefig('../images/finetuning_Convergence.png', format='png')"
   ]
  }
 ],
 "metadata": {
  "kernelspec": {
   "display_name": "Python 3.9.8 ('.venv': venv)",
   "language": "python",
   "name": "python3"
  },
  "language_info": {
   "codemirror_mode": {
    "name": "ipython",
    "version": 3
   },
   "file_extension": ".py",
   "mimetype": "text/x-python",
   "name": "python",
   "nbconvert_exporter": "python",
   "pygments_lexer": "ipython3",
   "version": "3.9.8"
  },
  "orig_nbformat": 4,
  "vscode": {
   "interpreter": {
    "hash": "0ed77dcdc7fbab6e38ae64c11601ec4b27d0c7090c2e616cfa30746b20795a2e"
   }
  }
 },
 "nbformat": 4,
 "nbformat_minor": 2
}
