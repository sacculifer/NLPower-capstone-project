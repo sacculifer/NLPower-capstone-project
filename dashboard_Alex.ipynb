{
 "cells": [
  {
   "cell_type": "code",
   "execution_count": 1,
   "metadata": {},
   "outputs": [
    {
     "name": "stdout",
     "output_type": "stream",
     "text": [
      "Requirement already satisfied: streamlit in ./.venv/lib/python3.9/site-packages (1.11.1)\n",
      "Requirement already satisfied: tzlocal>=1.1 in ./.venv/lib/python3.9/site-packages (from streamlit) (4.2)\n",
      "Requirement already satisfied: pyarrow>=4.0 in ./.venv/lib/python3.9/site-packages (from streamlit) (9.0.0)\n",
      "Requirement already satisfied: blinker>=1.0.0 in ./.venv/lib/python3.9/site-packages (from streamlit) (1.5)\n",
      "Requirement already satisfied: python-dateutil in ./.venv/lib/python3.9/site-packages (from streamlit) (2.8.2)\n",
      "Requirement already satisfied: packaging>=14.1 in ./.venv/lib/python3.9/site-packages (from streamlit) (21.3)\n",
      "Requirement already satisfied: gitpython!=3.1.19 in ./.venv/lib/python3.9/site-packages (from streamlit) (3.1.27)\n",
      "Requirement already satisfied: pympler>=0.9 in ./.venv/lib/python3.9/site-packages (from streamlit) (1.0.1)\n",
      "Requirement already satisfied: click>=7.0 in ./.venv/lib/python3.9/site-packages (from streamlit) (8.1.3)\n",
      "Requirement already satisfied: importlib-metadata>=1.4 in ./.venv/lib/python3.9/site-packages (from streamlit) (4.12.0)\n",
      "Requirement already satisfied: semver in ./.venv/lib/python3.9/site-packages (from streamlit) (2.13.0)\n",
      "Requirement already satisfied: attrs>=16.0.0 in ./.venv/lib/python3.9/site-packages (from streamlit) (21.4.0)\n",
      "Requirement already satisfied: pillow>=6.2.0 in ./.venv/lib/python3.9/site-packages (from streamlit) (9.2.0)\n",
      "Requirement already satisfied: altair>=3.2.0 in ./.venv/lib/python3.9/site-packages (from streamlit) (4.2.0)\n",
      "Requirement already satisfied: typing-extensions>=3.10.0.0 in ./.venv/lib/python3.9/site-packages (from streamlit) (4.3.0)\n",
      "Requirement already satisfied: protobuf<4,>=3.12 in ./.venv/lib/python3.9/site-packages (from streamlit) (3.19.4)\n",
      "Requirement already satisfied: numpy in ./.venv/lib/python3.9/site-packages (from streamlit) (1.23.1)\n",
      "Requirement already satisfied: toml in ./.venv/lib/python3.9/site-packages (from streamlit) (0.10.2)\n",
      "Requirement already satisfied: tornado>=5.0 in ./.venv/lib/python3.9/site-packages (from streamlit) (6.2)\n",
      "Requirement already satisfied: validators>=0.2 in ./.venv/lib/python3.9/site-packages (from streamlit) (0.20.0)\n",
      "Requirement already satisfied: requests>=2.4 in ./.venv/lib/python3.9/site-packages (from streamlit) (2.28.1)\n",
      "Requirement already satisfied: rich>=10.11.0 in ./.venv/lib/python3.9/site-packages (from streamlit) (12.5.1)\n",
      "Requirement already satisfied: cachetools>=4.0 in ./.venv/lib/python3.9/site-packages (from streamlit) (5.2.0)\n",
      "Requirement already satisfied: pandas>=0.21.0 in ./.venv/lib/python3.9/site-packages (from streamlit) (1.4.3)\n",
      "Requirement already satisfied: pydeck>=0.1.dev5 in ./.venv/lib/python3.9/site-packages (from streamlit) (0.7.1)\n",
      "Requirement already satisfied: jinja2 in ./.venv/lib/python3.9/site-packages (from altair>=3.2.0->streamlit) (3.1.2)\n",
      "Requirement already satisfied: jsonschema>=3.0 in ./.venv/lib/python3.9/site-packages (from altair>=3.2.0->streamlit) (4.7.2)\n",
      "Requirement already satisfied: toolz in ./.venv/lib/python3.9/site-packages (from altair>=3.2.0->streamlit) (0.12.0)\n",
      "Requirement already satisfied: entrypoints in ./.venv/lib/python3.9/site-packages (from altair>=3.2.0->streamlit) (0.4)\n",
      "Requirement already satisfied: gitdb<5,>=4.0.1 in ./.venv/lib/python3.9/site-packages (from gitpython!=3.1.19->streamlit) (4.0.9)\n",
      "Requirement already satisfied: zipp>=0.5 in ./.venv/lib/python3.9/site-packages (from importlib-metadata>=1.4->streamlit) (3.8.1)\n",
      "Requirement already satisfied: pyparsing!=3.0.5,>=2.0.2 in ./.venv/lib/python3.9/site-packages (from packaging>=14.1->streamlit) (3.0.9)\n",
      "Requirement already satisfied: pytz>=2020.1 in ./.venv/lib/python3.9/site-packages (from pandas>=0.21.0->streamlit) (2022.1)\n",
      "Requirement already satisfied: ipykernel>=5.1.2 in ./.venv/lib/python3.9/site-packages (from pydeck>=0.1.dev5->streamlit) (6.15.1)\n",
      "Requirement already satisfied: ipywidgets>=7.0.0 in ./.venv/lib/python3.9/site-packages (from pydeck>=0.1.dev5->streamlit) (7.7.1)\n",
      "Requirement already satisfied: traitlets>=4.3.2 in ./.venv/lib/python3.9/site-packages (from pydeck>=0.1.dev5->streamlit) (5.3.0)\n",
      "Requirement already satisfied: six>=1.5 in ./.venv/lib/python3.9/site-packages (from python-dateutil->streamlit) (1.16.0)\n",
      "Requirement already satisfied: charset-normalizer<3,>=2 in ./.venv/lib/python3.9/site-packages (from requests>=2.4->streamlit) (2.1.0)\n",
      "Requirement already satisfied: certifi>=2017.4.17 in ./.venv/lib/python3.9/site-packages (from requests>=2.4->streamlit) (2022.6.15)\n",
      "Requirement already satisfied: urllib3<1.27,>=1.21.1 in ./.venv/lib/python3.9/site-packages (from requests>=2.4->streamlit) (1.26.10)\n",
      "Requirement already satisfied: idna<4,>=2.5 in ./.venv/lib/python3.9/site-packages (from requests>=2.4->streamlit) (3.3)\n",
      "Requirement already satisfied: pygments<3.0.0,>=2.6.0 in ./.venv/lib/python3.9/site-packages (from rich>=10.11.0->streamlit) (2.12.0)\n",
      "Requirement already satisfied: commonmark<0.10.0,>=0.9.0 in ./.venv/lib/python3.9/site-packages (from rich>=10.11.0->streamlit) (0.9.1)\n",
      "Requirement already satisfied: pytz-deprecation-shim in ./.venv/lib/python3.9/site-packages (from tzlocal>=1.1->streamlit) (0.1.0.post0)\n",
      "Requirement already satisfied: decorator>=3.4.0 in ./.venv/lib/python3.9/site-packages (from validators>=0.2->streamlit) (5.1.1)\n",
      "Requirement already satisfied: smmap<6,>=3.0.1 in ./.venv/lib/python3.9/site-packages (from gitdb<5,>=4.0.1->gitpython!=3.1.19->streamlit) (5.0.0)\n",
      "Requirement already satisfied: debugpy>=1.0 in ./.venv/lib/python3.9/site-packages (from ipykernel>=5.1.2->pydeck>=0.1.dev5->streamlit) (1.6.2)\n",
      "Requirement already satisfied: appnope in ./.venv/lib/python3.9/site-packages (from ipykernel>=5.1.2->pydeck>=0.1.dev5->streamlit) (0.1.3)\n",
      "Requirement already satisfied: matplotlib-inline>=0.1 in ./.venv/lib/python3.9/site-packages (from ipykernel>=5.1.2->pydeck>=0.1.dev5->streamlit) (0.1.3)\n",
      "Requirement already satisfied: nest-asyncio in ./.venv/lib/python3.9/site-packages (from ipykernel>=5.1.2->pydeck>=0.1.dev5->streamlit) (1.5.5)\n",
      "Requirement already satisfied: jupyter-client>=6.1.12 in ./.venv/lib/python3.9/site-packages (from ipykernel>=5.1.2->pydeck>=0.1.dev5->streamlit) (7.3.4)\n",
      "Requirement already satisfied: ipython>=7.23.1 in ./.venv/lib/python3.9/site-packages (from ipykernel>=5.1.2->pydeck>=0.1.dev5->streamlit) (8.4.0)\n",
      "Requirement already satisfied: psutil in ./.venv/lib/python3.9/site-packages (from ipykernel>=5.1.2->pydeck>=0.1.dev5->streamlit) (5.9.1)\n",
      "Requirement already satisfied: pyzmq>=17 in ./.venv/lib/python3.9/site-packages (from ipykernel>=5.1.2->pydeck>=0.1.dev5->streamlit) (23.2.0)\n",
      "Requirement already satisfied: jupyterlab-widgets>=1.0.0 in ./.venv/lib/python3.9/site-packages (from ipywidgets>=7.0.0->pydeck>=0.1.dev5->streamlit) (1.1.1)\n",
      "Requirement already satisfied: ipython-genutils~=0.2.0 in ./.venv/lib/python3.9/site-packages (from ipywidgets>=7.0.0->pydeck>=0.1.dev5->streamlit) (0.2.0)\n",
      "Requirement already satisfied: widgetsnbextension~=3.6.0 in ./.venv/lib/python3.9/site-packages (from ipywidgets>=7.0.0->pydeck>=0.1.dev5->streamlit) (3.6.1)\n",
      "Requirement already satisfied: MarkupSafe>=2.0 in ./.venv/lib/python3.9/site-packages (from jinja2->altair>=3.2.0->streamlit) (2.1.1)\n",
      "Requirement already satisfied: pyrsistent!=0.17.0,!=0.17.1,!=0.17.2,>=0.14.0 in ./.venv/lib/python3.9/site-packages (from jsonschema>=3.0->altair>=3.2.0->streamlit) (0.18.1)\n",
      "Requirement already satisfied: tzdata in ./.venv/lib/python3.9/site-packages (from pytz-deprecation-shim->tzlocal>=1.1->streamlit) (2022.1)\n",
      "Requirement already satisfied: pickleshare in ./.venv/lib/python3.9/site-packages (from ipython>=7.23.1->ipykernel>=5.1.2->pydeck>=0.1.dev5->streamlit) (0.7.5)\n",
      "Requirement already satisfied: setuptools>=18.5 in ./.venv/lib/python3.9/site-packages (from ipython>=7.23.1->ipykernel>=5.1.2->pydeck>=0.1.dev5->streamlit) (58.1.0)\n",
      "Requirement already satisfied: pexpect>4.3 in ./.venv/lib/python3.9/site-packages (from ipython>=7.23.1->ipykernel>=5.1.2->pydeck>=0.1.dev5->streamlit) (4.8.0)\n",
      "Requirement already satisfied: backcall in ./.venv/lib/python3.9/site-packages (from ipython>=7.23.1->ipykernel>=5.1.2->pydeck>=0.1.dev5->streamlit) (0.2.0)\n",
      "Requirement already satisfied: prompt-toolkit!=3.0.0,!=3.0.1,<3.1.0,>=2.0.0 in ./.venv/lib/python3.9/site-packages (from ipython>=7.23.1->ipykernel>=5.1.2->pydeck>=0.1.dev5->streamlit) (3.0.30)\n",
      "Requirement already satisfied: jedi>=0.16 in ./.venv/lib/python3.9/site-packages (from ipython>=7.23.1->ipykernel>=5.1.2->pydeck>=0.1.dev5->streamlit) (0.18.1)\n",
      "Requirement already satisfied: stack-data in ./.venv/lib/python3.9/site-packages (from ipython>=7.23.1->ipykernel>=5.1.2->pydeck>=0.1.dev5->streamlit) (0.3.0)\n",
      "Requirement already satisfied: jupyter-core>=4.9.2 in ./.venv/lib/python3.9/site-packages (from jupyter-client>=6.1.12->ipykernel>=5.1.2->pydeck>=0.1.dev5->streamlit) (4.11.1)\n",
      "Requirement already satisfied: notebook>=4.4.1 in ./.venv/lib/python3.9/site-packages (from widgetsnbextension~=3.6.0->ipywidgets>=7.0.0->pydeck>=0.1.dev5->streamlit) (6.4.12)\n",
      "Requirement already satisfied: parso<0.9.0,>=0.8.0 in ./.venv/lib/python3.9/site-packages (from jedi>=0.16->ipython>=7.23.1->ipykernel>=5.1.2->pydeck>=0.1.dev5->streamlit) (0.8.3)\n",
      "Requirement already satisfied: nbconvert>=5 in ./.venv/lib/python3.9/site-packages (from notebook>=4.4.1->widgetsnbextension~=3.6.0->ipywidgets>=7.0.0->pydeck>=0.1.dev5->streamlit) (6.5.0)\n",
      "Requirement already satisfied: terminado>=0.8.3 in ./.venv/lib/python3.9/site-packages (from notebook>=4.4.1->widgetsnbextension~=3.6.0->ipywidgets>=7.0.0->pydeck>=0.1.dev5->streamlit) (0.15.0)\n",
      "Requirement already satisfied: argon2-cffi in ./.venv/lib/python3.9/site-packages (from notebook>=4.4.1->widgetsnbextension~=3.6.0->ipywidgets>=7.0.0->pydeck>=0.1.dev5->streamlit) (21.3.0)\n",
      "Requirement already satisfied: nbformat in ./.venv/lib/python3.9/site-packages (from notebook>=4.4.1->widgetsnbextension~=3.6.0->ipywidgets>=7.0.0->pydeck>=0.1.dev5->streamlit) (5.4.0)\n",
      "Requirement already satisfied: prometheus-client in ./.venv/lib/python3.9/site-packages (from notebook>=4.4.1->widgetsnbextension~=3.6.0->ipywidgets>=7.0.0->pydeck>=0.1.dev5->streamlit) (0.14.1)\n",
      "Requirement already satisfied: Send2Trash>=1.8.0 in ./.venv/lib/python3.9/site-packages (from notebook>=4.4.1->widgetsnbextension~=3.6.0->ipywidgets>=7.0.0->pydeck>=0.1.dev5->streamlit) (1.8.0)\n",
      "Requirement already satisfied: ptyprocess>=0.5 in ./.venv/lib/python3.9/site-packages (from pexpect>4.3->ipython>=7.23.1->ipykernel>=5.1.2->pydeck>=0.1.dev5->streamlit) (0.7.0)\n",
      "Requirement already satisfied: wcwidth in ./.venv/lib/python3.9/site-packages (from prompt-toolkit!=3.0.0,!=3.0.1,<3.1.0,>=2.0.0->ipython>=7.23.1->ipykernel>=5.1.2->pydeck>=0.1.dev5->streamlit) (0.2.5)\n",
      "Requirement already satisfied: executing in ./.venv/lib/python3.9/site-packages (from stack-data->ipython>=7.23.1->ipykernel>=5.1.2->pydeck>=0.1.dev5->streamlit) (0.8.3)\n",
      "Requirement already satisfied: pure-eval in ./.venv/lib/python3.9/site-packages (from stack-data->ipython>=7.23.1->ipykernel>=5.1.2->pydeck>=0.1.dev5->streamlit) (0.2.2)\n",
      "Requirement already satisfied: asttokens in ./.venv/lib/python3.9/site-packages (from stack-data->ipython>=7.23.1->ipykernel>=5.1.2->pydeck>=0.1.dev5->streamlit) (2.0.5)\n",
      "Requirement already satisfied: tinycss2 in ./.venv/lib/python3.9/site-packages (from nbconvert>=5->notebook>=4.4.1->widgetsnbextension~=3.6.0->ipywidgets>=7.0.0->pydeck>=0.1.dev5->streamlit) (1.1.1)\n",
      "Requirement already satisfied: nbclient>=0.5.0 in ./.venv/lib/python3.9/site-packages (from nbconvert>=5->notebook>=4.4.1->widgetsnbextension~=3.6.0->ipywidgets>=7.0.0->pydeck>=0.1.dev5->streamlit) (0.6.6)\n",
      "Requirement already satisfied: defusedxml in ./.venv/lib/python3.9/site-packages (from nbconvert>=5->notebook>=4.4.1->widgetsnbextension~=3.6.0->ipywidgets>=7.0.0->pydeck>=0.1.dev5->streamlit) (0.7.1)\n",
      "Requirement already satisfied: pandocfilters>=1.4.1 in ./.venv/lib/python3.9/site-packages (from nbconvert>=5->notebook>=4.4.1->widgetsnbextension~=3.6.0->ipywidgets>=7.0.0->pydeck>=0.1.dev5->streamlit) (1.5.0)\n",
      "Requirement already satisfied: jupyterlab-pygments in ./.venv/lib/python3.9/site-packages (from nbconvert>=5->notebook>=4.4.1->widgetsnbextension~=3.6.0->ipywidgets>=7.0.0->pydeck>=0.1.dev5->streamlit) (0.2.2)\n",
      "Requirement already satisfied: beautifulsoup4 in ./.venv/lib/python3.9/site-packages (from nbconvert>=5->notebook>=4.4.1->widgetsnbextension~=3.6.0->ipywidgets>=7.0.0->pydeck>=0.1.dev5->streamlit) (4.11.1)\n",
      "Requirement already satisfied: bleach in ./.venv/lib/python3.9/site-packages (from nbconvert>=5->notebook>=4.4.1->widgetsnbextension~=3.6.0->ipywidgets>=7.0.0->pydeck>=0.1.dev5->streamlit) (5.0.1)\n",
      "Requirement already satisfied: mistune<2,>=0.8.1 in ./.venv/lib/python3.9/site-packages (from nbconvert>=5->notebook>=4.4.1->widgetsnbextension~=3.6.0->ipywidgets>=7.0.0->pydeck>=0.1.dev5->streamlit) (0.8.4)\n",
      "Requirement already satisfied: fastjsonschema in ./.venv/lib/python3.9/site-packages (from nbformat->notebook>=4.4.1->widgetsnbextension~=3.6.0->ipywidgets>=7.0.0->pydeck>=0.1.dev5->streamlit) (2.15.3)\n",
      "Requirement already satisfied: argon2-cffi-bindings in ./.venv/lib/python3.9/site-packages (from argon2-cffi->notebook>=4.4.1->widgetsnbextension~=3.6.0->ipywidgets>=7.0.0->pydeck>=0.1.dev5->streamlit) (21.2.0)\n",
      "Requirement already satisfied: cffi>=1.0.1 in ./.venv/lib/python3.9/site-packages (from argon2-cffi-bindings->argon2-cffi->notebook>=4.4.1->widgetsnbextension~=3.6.0->ipywidgets>=7.0.0->pydeck>=0.1.dev5->streamlit) (1.15.1)\n",
      "Requirement already satisfied: soupsieve>1.2 in ./.venv/lib/python3.9/site-packages (from beautifulsoup4->nbconvert>=5->notebook>=4.4.1->widgetsnbextension~=3.6.0->ipywidgets>=7.0.0->pydeck>=0.1.dev5->streamlit) (2.3.2.post1)\n",
      "Requirement already satisfied: webencodings in ./.venv/lib/python3.9/site-packages (from bleach->nbconvert>=5->notebook>=4.4.1->widgetsnbextension~=3.6.0->ipywidgets>=7.0.0->pydeck>=0.1.dev5->streamlit) (0.5.1)\n",
      "Requirement already satisfied: pycparser in ./.venv/lib/python3.9/site-packages (from cffi>=1.0.1->argon2-cffi-bindings->argon2-cffi->notebook>=4.4.1->widgetsnbextension~=3.6.0->ipywidgets>=7.0.0->pydeck>=0.1.dev5->streamlit) (2.21)\n"
     ]
    }
   ],
   "source": [
    "!pip install streamlit"
   ]
  },
  {
   "cell_type": "code",
   "execution_count": 2,
   "metadata": {},
   "outputs": [],
   "source": [
    "import time  # to simulate a real time data, time loop\n",
    "\n",
    "import numpy as np  # np mean, np random\n",
    "import pandas as pd  # read csv, df manipulation\n",
    "import plotly.express as px  # interactive charts\n",
    "import streamlit as st  # 🎈 data web app development√"
   ]
  },
  {
   "cell_type": "code",
   "execution_count": 3,
   "metadata": {},
   "outputs": [
    {
     "name": "stderr",
     "output_type": "stream",
     "text": [
      "2022-08-07 23:05:31.345 \n",
      "  \u001b[33m\u001b[1mWarning:\u001b[0m to view this Streamlit app on a browser, run it with the following\n",
      "  command:\n",
      "\n",
      "    streamlit run /Users/ak/Desktop/neuefische/NLPower-capstone-project/.venv/lib/python3.9/site-packages/ipykernel_launcher.py [ARGUMENTS]\n"
     ]
    }
   ],
   "source": [
    "@st.experimental_memo\n",
    "def get_data(data) -> pd.DataFrame:\n",
    "    return pd.read_csv(data)\n",
    "\n",
    "df = get_data('df_final.csv')\n",
    "df2 = get_data('df2.csv')\n",
    "#df2013 = get_data('df2013.csv')\n"
   ]
  },
  {
   "cell_type": "code",
   "execution_count": 5,
   "metadata": {},
   "outputs": [],
   "source": [
    "df = df.drop(columns=['Unnamed: 0'])"
   ]
  },
  {
   "cell_type": "code",
   "execution_count": 6,
   "metadata": {},
   "outputs": [],
   "source": [
    "df2 = df2.drop(columns=['Unnamed: 0'])"
   ]
  },
  {
   "cell_type": "code",
   "execution_count": 7,
   "metadata": {},
   "outputs": [],
   "source": [
    "st.set_page_config(\n",
    "    page_title=\"NLPower DIsaster MAnagement BAsed on Twitter (DiMBat)\",\n",
    "    page_icon=\"✅\",\n",
    "    layout=\"wide\",\n",
    ")"
   ]
  },
  {
   "cell_type": "code",
   "execution_count": 8,
   "metadata": {},
   "outputs": [
    {
     "data": {
      "text/plain": [
       "DeltaGenerator(_root_container=0, _provided_cursor=None, _parent=None, _block_type=None, _form_data=None)"
      ]
     },
     "execution_count": 8,
     "metadata": {},
     "output_type": "execute_result"
    }
   ],
   "source": [
    "# dashboard title\n",
    "st.title(\"Real-Time / Live Data Science Dashboard: NLPower DIsaster MAnagement BAsed on Twitter (DiMBat)\")"
   ]
  },
  {
   "cell_type": "code",
   "execution_count": 9,
   "metadata": {},
   "outputs": [],
   "source": [
    "# top-level filters\n",
    "job_filter = st.selectbox(\"Select the Job\", pd.unique(df2[\"continent\"]))"
   ]
  },
  {
   "cell_type": "code",
   "execution_count": 10,
   "metadata": {},
   "outputs": [
    {
     "data": {
      "text/plain": [
       "'Asia'"
      ]
     },
     "execution_count": 10,
     "metadata": {},
     "output_type": "execute_result"
    }
   ],
   "source": [
    "job_filter"
   ]
  },
  {
   "cell_type": "code",
   "execution_count": 11,
   "metadata": {},
   "outputs": [],
   "source": [
    "# dataframe filter\n",
    "df2 = df2[df2[\"continent\"] == job_filter]"
   ]
  },
  {
   "cell_type": "code",
   "execution_count": 12,
   "metadata": {},
   "outputs": [
    {
     "data": {
      "text/plain": [
       "DeltaGenerator(_root_container=0, _provided_cursor=None, _parent=None, _block_type=None, _form_data=None)"
      ]
     },
     "execution_count": 12,
     "metadata": {},
     "output_type": "execute_result"
    }
   ],
   "source": [
    "# create three columns\n",
    "kpi1, kpi2, kpi3 = st.columns(3)\n",
    "\n",
    "# fill in those three columns with respective metrics or KPIs\n",
    "kpi1.metric(\n",
    "    label=\"No. Tweets ⏳\",\n",
    "    value=round(df2['continent'].value_counts()[0]),\n",
    "    delta=round(df2['continent'].value_counts()[0]) - 10,\n",
    ")\n",
    "\n",
    "# kpi2.metric(\n",
    "#     label=\"Married Count 💍\",\n",
    "#     value=int(count_married),\n",
    "#     delta=-10 + count_married,\n",
    "# )"
   ]
  },
  {
   "cell_type": "code",
   "execution_count": 19,
   "metadata": {},
   "outputs": [],
   "source": [
    "# create two columns for charts\n",
    "fig_col1, fig_col2 = st.columns(2)\n",
    "\n",
    "with fig_col1:\n",
    "    st.markdown(\"### First Chart\")\n",
    "    fig = px.choropleth(df2\n",
    "                    ,locationmode='country names'\n",
    "                    ,locations = 'country'\n",
    "                    ,scope = 'world'\n",
    "                    ,color = \"All categories\"\n",
    "                    ,animation_frame = \"year\"\n",
    "                    ,hover_name=\"country\"\n",
    "                   )\n",
    "\n",
    "    fig[\"layout\"]\n",
    "    fig[\"layout\"].pop(\"updatemenus\")\n",
    "    fig.update_geos(visible=True, showcountries=True, projection_type='natural earth', lonaxis_showgrid=False, lataxis_showgrid=False)\n",
    "\n",
    "    # button with one option for each dataframe\n",
    "    buttons = []\n",
    "    for col in df2.iloc[:, 4:14].columns:\n",
    "        buttons.append(dict(method='restyle',\n",
    "                        label=col,\n",
    "                        args=[{'z':[df2[col]]}, [0]]\n",
    "                        )\n",
    "                  )\n",
    "\n",
    "    fig.update_layout(width=1000,\n",
    "                  coloraxis_colorbar_thickness=23,\n",
    "                  updatemenus=[dict(y=1,\n",
    "                                    x=0,\n",
    "                                    xanchor='right',\n",
    "                                    yanchor='top',\n",
    "                                    active=0,\n",
    "                                    buttons=buttons)\n",
    "                              ])\n",
    "    st.write(fig)\n",
    "   \n",
    "# with fig_col2:\n",
    "#     st.markdown(\"### Second Chart\")\n",
    "#     fig2 = px.histogram(data_frame=df, x=\"age_new\")\n",
    "#     st.write(fig2)"
   ]
  },
  {
   "cell_type": "code",
   "execution_count": 36,
   "metadata": {},
   "outputs": [],
   "source": [
    "df = pd.read_csv('df_final.csv')"
   ]
  },
  {
   "cell_type": "code",
   "execution_count": 40,
   "metadata": {},
   "outputs": [
    {
     "data": {
      "text/plain": [
       "0        Hurricane & Tornado\n",
       "1        Hurricane & Tornado\n",
       "2        Hurricane & Tornado\n",
       "3        Hurricane & Tornado\n",
       "4        Hurricane & Tornado\n",
       "                ...         \n",
       "81854             Earthquake\n",
       "81855             Earthquake\n",
       "81856             Earthquake\n",
       "81857             Earthquake\n",
       "81858             Earthquake\n",
       "Name: predict, Length: 81859, dtype: object"
      ]
     },
     "execution_count": 40,
     "metadata": {},
     "output_type": "execute_result"
    }
   ],
   "source": [
    "df['predict']"
   ]
  },
  {
   "cell_type": "code",
   "execution_count": 20,
   "metadata": {},
   "outputs": [
    {
     "data": {
      "text/plain": [
       "DeltaGenerator(_root_container=0, _provided_cursor=None, _parent=None, _block_type=None, _form_data=None)"
      ]
     },
     "execution_count": 20,
     "metadata": {},
     "output_type": "execute_result"
    }
   ],
   "source": [
    "st.markdown(\"### Detailed Data View\")\n",
    "st.dataframe(df2)"
   ]
  },
  {
   "cell_type": "code",
   "execution_count": 34,
   "metadata": {},
   "outputs": [
    {
     "ename": "SyntaxError",
     "evalue": "'return' outside function (723388303.py, line 5)",
     "output_type": "error",
     "traceback": [
      "\u001b[0;36m  Input \u001b[0;32mIn [34]\u001b[0;36m\u001b[0m\n\u001b[0;31m    return df_rt\u001b[0m\n\u001b[0m    ^\u001b[0m\n\u001b[0;31mSyntaxError\u001b[0m\u001b[0;31m:\u001b[0m 'return' outside function\n"
     ]
    }
   ],
   "source": [
    "df_rt = df.sample(5)\n",
    "\n",
    "for seconds in range(30):\n",
    "    df_rt = pd.concat([df_rt, df.sample(5)])\n",
    "    df_rt\n",
    "    time.sleep(1)"
   ]
  },
  {
   "cell_type": "code",
   "execution_count": 30,
   "metadata": {},
   "outputs": [],
   "source": [
    "df_rt = df.sample(5)\n",
    "df_rt = pd.concat([df_rt, df.sample(5)])\n",
    "df_rt"
   ]
  },
  {
   "cell_type": "code",
   "execution_count": 32,
   "metadata": {},
   "outputs": [
    {
     "data": {
      "text/html": [
       "<div>\n",
       "<style scoped>\n",
       "    .dataframe tbody tr th:only-of-type {\n",
       "        vertical-align: middle;\n",
       "    }\n",
       "\n",
       "    .dataframe tbody tr th {\n",
       "        vertical-align: top;\n",
       "    }\n",
       "\n",
       "    .dataframe thead th {\n",
       "        text-align: right;\n",
       "    }\n",
       "</style>\n",
       "<table border=\"1\" class=\"dataframe\">\n",
       "  <thead>\n",
       "    <tr style=\"text-align: right;\">\n",
       "      <th></th>\n",
       "      <th>text</th>\n",
       "      <th>relevance</th>\n",
       "      <th>text_lemma</th>\n",
       "      <th>predict</th>\n",
       "      <th>predict_score</th>\n",
       "      <th>year</th>\n",
       "      <th>text_final_2</th>\n",
       "      <th>text_cloud</th>\n",
       "      <th>label</th>\n",
       "      <th>score</th>\n",
       "      <th>lat1</th>\n",
       "      <th>long1</th>\n",
       "      <th>alpha2</th>\n",
       "      <th>country</th>\n",
       "      <th>state</th>\n",
       "      <th>city</th>\n",
       "      <th>alpha3</th>\n",
       "      <th>continent</th>\n",
       "      <th>continent_new</th>\n",
       "    </tr>\n",
       "  </thead>\n",
       "  <tbody>\n",
       "    <tr>\n",
       "      <th>1943</th>\n",
       "      <td>biggest earthquake in guatemala since &lt;NUMBER&gt;...</td>\n",
       "      <td>Earthquake</td>\n",
       "      <td>big earthquake guatemala ope mis stayingstrong</td>\n",
       "      <td>Earthquake</td>\n",
       "      <td>0.988541</td>\n",
       "      <td>2012</td>\n",
       "      <td>biggest earthquake guatemala since oping mis g...</td>\n",
       "      <td>biggest earthquake guatemala since oping mis g...</td>\n",
       "      <td>fear</td>\n",
       "      <td>0.805849</td>\n",
       "      <td>15.585555</td>\n",
       "      <td>-90.345759</td>\n",
       "      <td>GT</td>\n",
       "      <td>Guatemala</td>\n",
       "      <td>Alta Verapaz</td>\n",
       "      <td>Cobán</td>\n",
       "      <td>GTM</td>\n",
       "      <td>North America</td>\n",
       "      <td>North AmericaNorth AmericaNorth America</td>\n",
       "    </tr>\n",
       "    <tr>\n",
       "      <th>58383</th>\n",
       "      <td>&lt;USER&gt; thanks modi ji for your quick action fo...</td>\n",
       "      <td>Earthquake</td>\n",
       "      <td>thank modi ji quick action nepal earth quake q...</td>\n",
       "      <td>Earthquake</td>\n",
       "      <td>0.985482</td>\n",
       "      <td>2015</td>\n",
       "      <td>thanks modi ji quick action nepal earth quake ...</td>\n",
       "      <td>thanks modi ji quick action nepal earth quake ...</td>\n",
       "      <td>fear</td>\n",
       "      <td>0.810274</td>\n",
       "      <td>28.108393</td>\n",
       "      <td>84.091714</td>\n",
       "      <td>NP</td>\n",
       "      <td>Nepal</td>\n",
       "      <td>NaN</td>\n",
       "      <td>Pokhara</td>\n",
       "      <td>NPL</td>\n",
       "      <td>Asia</td>\n",
       "      <td>AsiaAsiaAsia</td>\n",
       "    </tr>\n",
       "    <tr>\n",
       "      <th>38464</th>\n",
       "      <td>&lt;HASHTAG&gt; nswfires a picture tells &lt;NUMBER&gt; wo...</td>\n",
       "      <td>Wildfire</td>\n",
       "      <td>nswfire picture tell word photo firefront smok...</td>\n",
       "      <td>Wildfire</td>\n",
       "      <td>0.991138</td>\n",
       "      <td>2013</td>\n",
       "      <td>nswfires picture tells words photos firefront ...</td>\n",
       "      <td>nswfires picture tells words photos firefront ...</td>\n",
       "      <td>anger</td>\n",
       "      <td>0.531393</td>\n",
       "      <td>NaN</td>\n",
       "      <td>NaN</td>\n",
       "      <td>NaN</td>\n",
       "      <td>NaN</td>\n",
       "      <td>NaN</td>\n",
       "      <td>NaN</td>\n",
       "      <td>NaN</td>\n",
       "      <td>NaN</td>\n",
       "      <td>NaN</td>\n",
       "    </tr>\n",
       "    <tr>\n",
       "      <th>48958</th>\n",
       "      <td>&lt;HASHTAG&gt; breaking: one of the &lt;HASHTAG&gt; dalla...</td>\n",
       "      <td>Biological</td>\n",
       "      <td>break health worker patient transfer emory tre...</td>\n",
       "      <td>Biological</td>\n",
       "      <td>0.981153</td>\n",
       "      <td>2014</td>\n",
       "      <td>breaking dallas health worker ebola patients t...</td>\n",
       "      <td>breaking dallas health worker ebola patients t...</td>\n",
       "      <td>surprise</td>\n",
       "      <td>0.437760</td>\n",
       "      <td>32.776272</td>\n",
       "      <td>-96.796856</td>\n",
       "      <td>US</td>\n",
       "      <td>United States</td>\n",
       "      <td>Texas</td>\n",
       "      <td>Dallas</td>\n",
       "      <td>USA</td>\n",
       "      <td>North America</td>\n",
       "      <td>North AmericaNorth AmericaNorth America</td>\n",
       "    </tr>\n",
       "    <tr>\n",
       "      <th>77869</th>\n",
       "      <td>nepal folks, i'm looking for a stringer to wor...</td>\n",
       "      <td>Earthquake</td>\n",
       "      <td>nepal folk I look stringer work correspondent ...</td>\n",
       "      <td>Earthquake</td>\n",
       "      <td>0.980947</td>\n",
       "      <td>2018</td>\n",
       "      <td>nepal folks looking stringer work corresponden...</td>\n",
       "      <td>nepal folks looking stringer work corresponden...</td>\n",
       "      <td>neutral</td>\n",
       "      <td>0.892592</td>\n",
       "      <td>28.108393</td>\n",
       "      <td>84.091714</td>\n",
       "      <td>NP</td>\n",
       "      <td>Nepal</td>\n",
       "      <td>NaN</td>\n",
       "      <td>Pokhara</td>\n",
       "      <td>NPL</td>\n",
       "      <td>Asia</td>\n",
       "      <td>AsiaAsiaAsia</td>\n",
       "    </tr>\n",
       "    <tr>\n",
       "      <th>19080</th>\n",
       "      <td>all my prayers and thoughts are for those affe...</td>\n",
       "      <td>Hurricane &amp; Tornado</td>\n",
       "      <td>prayer thought affect people tornado prayforok...</td>\n",
       "      <td>Hurricane &amp; Tornado</td>\n",
       "      <td>0.984996</td>\n",
       "      <td>2013</td>\n",
       "      <td>prayers thoughts affected people tornado oklah...</td>\n",
       "      <td>prayers thoughts affected people tornado oklah...</td>\n",
       "      <td>sadness</td>\n",
       "      <td>0.831684</td>\n",
       "      <td>34.955082</td>\n",
       "      <td>-97.268406</td>\n",
       "      <td>US</td>\n",
       "      <td>United States</td>\n",
       "      <td>Oklahoma</td>\n",
       "      <td>NaN</td>\n",
       "      <td>USA</td>\n",
       "      <td>North America</td>\n",
       "      <td>North AmericaNorth AmericaNorth America</td>\n",
       "    </tr>\n",
       "    <tr>\n",
       "      <th>35625</th>\n",
       "      <td>calgary drop-in and rehab centre has water on ...</td>\n",
       "      <td>Flood</td>\n",
       "      <td>drop rehab centre water yycflood abflood</td>\n",
       "      <td>Flood</td>\n",
       "      <td>0.986599</td>\n",
       "      <td>2013</td>\n",
       "      <td>calgary dropin rehab centre water many sides y...</td>\n",
       "      <td>calgary dropin rehab centre water many sides y...</td>\n",
       "      <td>joy</td>\n",
       "      <td>0.645222</td>\n",
       "      <td>51.046095</td>\n",
       "      <td>-114.065465</td>\n",
       "      <td>CA</td>\n",
       "      <td>Canada</td>\n",
       "      <td>Alberta</td>\n",
       "      <td>Calgary</td>\n",
       "      <td>CAN</td>\n",
       "      <td>North America</td>\n",
       "      <td>North AmericaNorth AmericaNorth America</td>\n",
       "    </tr>\n",
       "    <tr>\n",
       "      <th>13390</th>\n",
       "      <td>&lt;HASHTAG&gt; prayforchile praying is not going to...</td>\n",
       "      <td>Earthquake</td>\n",
       "      <td>prayforchile pray shit actually chile donate</td>\n",
       "      <td>Earthquake</td>\n",
       "      <td>0.965276</td>\n",
       "      <td>2013</td>\n",
       "      <td>prayforchile praying going shit actually somet...</td>\n",
       "      <td>prayforchile praying going shit actually somet...</td>\n",
       "      <td>joy</td>\n",
       "      <td>0.670854</td>\n",
       "      <td>-31.761336</td>\n",
       "      <td>-71.318770</td>\n",
       "      <td>CL</td>\n",
       "      <td>Chile</td>\n",
       "      <td>Coquimbo Region</td>\n",
       "      <td>Illapel</td>\n",
       "      <td>CHL</td>\n",
       "      <td>South America</td>\n",
       "      <td>South AmericaSouth AmericaSouth America</td>\n",
       "    </tr>\n",
       "    <tr>\n",
       "      <th>56273</th>\n",
       "      <td>time for long term fix. so cyclic &lt;USER&gt; rain ...</td>\n",
       "      <td>Flood</td>\n",
       "      <td>time long term fix cyclic rain fury kill flood...</td>\n",
       "      <td>Flood</td>\n",
       "      <td>0.989382</td>\n",
       "      <td>2014</td>\n",
       "      <td>time long term fix cyclic rain fury north indi...</td>\n",
       "      <td>time long term fix cyclic rain fury north indi...</td>\n",
       "      <td>anger</td>\n",
       "      <td>0.994568</td>\n",
       "      <td>25.644085</td>\n",
       "      <td>85.906508</td>\n",
       "      <td>IN</td>\n",
       "      <td>India</td>\n",
       "      <td>Bihar</td>\n",
       "      <td>NaN</td>\n",
       "      <td>IND</td>\n",
       "      <td>Asia</td>\n",
       "      <td>AsiaAsiaAsia</td>\n",
       "    </tr>\n",
       "    <tr>\n",
       "      <th>36487</th>\n",
       "      <td>my heart goes out to the town and residents of...</td>\n",
       "      <td>Transportation</td>\n",
       "      <td>heart town resident lac megantic incredibly sa...</td>\n",
       "      <td>Transportation</td>\n",
       "      <td>0.983483</td>\n",
       "      <td>2013</td>\n",
       "      <td>heart goes town residents lacmegantic quebec i...</td>\n",
       "      <td>heart goes town residents lacmegantic quebec i...</td>\n",
       "      <td>sadness</td>\n",
       "      <td>0.955564</td>\n",
       "      <td>45.577264</td>\n",
       "      <td>-70.881993</td>\n",
       "      <td>CA</td>\n",
       "      <td>Canada</td>\n",
       "      <td>Quebec</td>\n",
       "      <td>NaN</td>\n",
       "      <td>CAN</td>\n",
       "      <td>North America</td>\n",
       "      <td>North AmericaNorth AmericaNorth America</td>\n",
       "    </tr>\n",
       "  </tbody>\n",
       "</table>\n",
       "</div>"
      ],
      "text/plain": [
       "                                                    text            relevance  \\\n",
       "1943   biggest earthquake in guatemala since <NUMBER>...           Earthquake   \n",
       "58383  <USER> thanks modi ji for your quick action fo...           Earthquake   \n",
       "38464  <HASHTAG> nswfires a picture tells <NUMBER> wo...             Wildfire   \n",
       "48958  <HASHTAG> breaking: one of the <HASHTAG> dalla...           Biological   \n",
       "77869  nepal folks, i'm looking for a stringer to wor...           Earthquake   \n",
       "19080  all my prayers and thoughts are for those affe...  Hurricane & Tornado   \n",
       "35625  calgary drop-in and rehab centre has water on ...                Flood   \n",
       "13390  <HASHTAG> prayforchile praying is not going to...           Earthquake   \n",
       "56273  time for long term fix. so cyclic <USER> rain ...                Flood   \n",
       "36487  my heart goes out to the town and residents of...       Transportation   \n",
       "\n",
       "                                              text_lemma              predict  \\\n",
       "1943      big earthquake guatemala ope mis stayingstrong           Earthquake   \n",
       "58383  thank modi ji quick action nepal earth quake q...           Earthquake   \n",
       "38464  nswfire picture tell word photo firefront smok...             Wildfire   \n",
       "48958  break health worker patient transfer emory tre...           Biological   \n",
       "77869  nepal folk I look stringer work correspondent ...           Earthquake   \n",
       "19080  prayer thought affect people tornado prayforok...  Hurricane & Tornado   \n",
       "35625           drop rehab centre water yycflood abflood                Flood   \n",
       "13390       prayforchile pray shit actually chile donate           Earthquake   \n",
       "56273  time long term fix cyclic rain fury kill flood...                Flood   \n",
       "36487  heart town resident lac megantic incredibly sa...       Transportation   \n",
       "\n",
       "       predict_score  year                                       text_final_2  \\\n",
       "1943        0.988541  2012  biggest earthquake guatemala since oping mis g...   \n",
       "58383       0.985482  2015  thanks modi ji quick action nepal earth quake ...   \n",
       "38464       0.991138  2013  nswfires picture tells words photos firefront ...   \n",
       "48958       0.981153  2014  breaking dallas health worker ebola patients t...   \n",
       "77869       0.980947  2018  nepal folks looking stringer work corresponden...   \n",
       "19080       0.984996  2013  prayers thoughts affected people tornado oklah...   \n",
       "35625       0.986599  2013  calgary dropin rehab centre water many sides y...   \n",
       "13390       0.965276  2013  prayforchile praying going shit actually somet...   \n",
       "56273       0.989382  2014  time long term fix cyclic rain fury north indi...   \n",
       "36487       0.983483  2013  heart goes town residents lacmegantic quebec i...   \n",
       "\n",
       "                                              text_cloud     label     score  \\\n",
       "1943   biggest earthquake guatemala since oping mis g...      fear  0.805849   \n",
       "58383  thanks modi ji quick action nepal earth quake ...      fear  0.810274   \n",
       "38464  nswfires picture tells words photos firefront ...     anger  0.531393   \n",
       "48958  breaking dallas health worker ebola patients t...  surprise  0.437760   \n",
       "77869  nepal folks looking stringer work corresponden...   neutral  0.892592   \n",
       "19080  prayers thoughts affected people tornado oklah...   sadness  0.831684   \n",
       "35625  calgary dropin rehab centre water many sides y...       joy  0.645222   \n",
       "13390  prayforchile praying going shit actually somet...       joy  0.670854   \n",
       "56273  time long term fix cyclic rain fury north indi...     anger  0.994568   \n",
       "36487  heart goes town residents lacmegantic quebec i...   sadness  0.955564   \n",
       "\n",
       "            lat1       long1 alpha2        country            state     city  \\\n",
       "1943   15.585555  -90.345759     GT      Guatemala     Alta Verapaz    Cobán   \n",
       "58383  28.108393   84.091714     NP          Nepal              NaN  Pokhara   \n",
       "38464        NaN         NaN    NaN            NaN              NaN      NaN   \n",
       "48958  32.776272  -96.796856     US  United States            Texas   Dallas   \n",
       "77869  28.108393   84.091714     NP          Nepal              NaN  Pokhara   \n",
       "19080  34.955082  -97.268406     US  United States         Oklahoma      NaN   \n",
       "35625  51.046095 -114.065465     CA         Canada          Alberta  Calgary   \n",
       "13390 -31.761336  -71.318770     CL          Chile  Coquimbo Region  Illapel   \n",
       "56273  25.644085   85.906508     IN          India            Bihar      NaN   \n",
       "36487  45.577264  -70.881993     CA         Canada           Quebec      NaN   \n",
       "\n",
       "      alpha3      continent                            continent_new  \n",
       "1943     GTM  North America  North AmericaNorth AmericaNorth America  \n",
       "58383    NPL           Asia                             AsiaAsiaAsia  \n",
       "38464    NaN            NaN                                      NaN  \n",
       "48958    USA  North America  North AmericaNorth AmericaNorth America  \n",
       "77869    NPL           Asia                             AsiaAsiaAsia  \n",
       "19080    USA  North America  North AmericaNorth AmericaNorth America  \n",
       "35625    CAN  North America  North AmericaNorth AmericaNorth America  \n",
       "13390    CHL  South America  South AmericaSouth AmericaSouth America  \n",
       "56273    IND           Asia                             AsiaAsiaAsia  \n",
       "36487    CAN  North America  North AmericaNorth AmericaNorth America  "
      ]
     },
     "execution_count": 32,
     "metadata": {},
     "output_type": "execute_result"
    }
   ],
   "source": [
    "df_rt = df.sample(5)\n",
    "df_rt = pd.concat([df_rt, df.sample(5)])\n",
    "df_rt"
   ]
  },
  {
   "cell_type": "code",
   "execution_count": 24,
   "metadata": {},
   "outputs": [
    {
     "data": {
      "text/plain": [
       "0        North AmericaNorth AmericaNorth America\n",
       "1                                            NaN\n",
       "2                                            NaN\n",
       "3        North AmericaNorth AmericaNorth America\n",
       "4                                            NaN\n",
       "                          ...                   \n",
       "81854                               AsiaAsiaAsia\n",
       "81855                               AsiaAsiaAsia\n",
       "81856                               AsiaAsiaAsia\n",
       "81857                               AsiaAsiaAsia\n",
       "81858                               AsiaAsiaAsia\n",
       "Name: continent, Length: 81859, dtype: object"
      ]
     },
     "execution_count": 24,
     "metadata": {},
     "output_type": "execute_result"
    }
   ],
   "source": [
    "df[\"continent\"] * np.random.choice(range(1, 5))"
   ]
  }
 ],
 "metadata": {
  "kernelspec": {
   "display_name": "Python 3.9.8 ('.venv': venv)",
   "language": "python",
   "name": "python3"
  },
  "language_info": {
   "codemirror_mode": {
    "name": "ipython",
    "version": 3
   },
   "file_extension": ".py",
   "mimetype": "text/x-python",
   "name": "python",
   "nbconvert_exporter": "python",
   "pygments_lexer": "ipython3",
   "version": "3.9.8"
  },
  "orig_nbformat": 4,
  "vscode": {
   "interpreter": {
    "hash": "ed98376544626e3eff8a6132f67438f86891a2c34910ffac703b2c80e771b64b"
   }
  }
 },
 "nbformat": 4,
 "nbformat_minor": 2
}
