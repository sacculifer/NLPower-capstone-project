{
 "cells": [
  {
   "cell_type": "code",
   "execution_count": 1,
   "metadata": {},
   "outputs": [
    {
     "name": "stderr",
     "output_type": "stream",
     "text": [
      "[nltk_data] Downloading package wordnet to /Users/grandhi/nltk_data...\n",
      "[nltk_data]   Package wordnet is already up-to-date!\n",
      "[nltk_data] Downloading package omw-1.4 to /Users/grandhi/nltk_data...\n",
      "[nltk_data]   Package omw-1.4 is already up-to-date!\n",
      "[nltk_data] Downloading package punkt to /Users/grandhi/nltk_data...\n",
      "[nltk_data]   Package punkt is already up-to-date!\n",
      "[nltk_data] Downloading package averaged_perceptron_tagger to\n",
      "[nltk_data]     /Users/grandhi/nltk_data...\n",
      "[nltk_data]   Package averaged_perceptron_tagger is already up-to-\n",
      "[nltk_data]       date!\n",
      "[nltk_data] Downloading package stopwords to\n",
      "[nltk_data]     /Users/grandhi/nltk_data...\n",
      "[nltk_data]   Package stopwords is already up-to-date!\n"
     ]
    }
   ],
   "source": [
    "import pandas as pd\n",
    "import numpy as np\n",
    "import seaborn as sns\n",
    "import matplotlib.pyplot as plt\n",
    "from matplotlib.pyplot import axis\n",
    "import regex as re\n",
    "import contractions\n",
    "import num2words\n",
    "\n",
    "from sklearn.model_selection import train_test_split\n",
    "from sklearn.feature_extraction.text import CountVectorizer, TfidfVectorizer\n",
    "from sklearn.linear_model import LogisticRegression\n",
    "from sklearn.metrics import roc_auc_score, accuracy_score, precision_score, recall_score\n",
    "from sklearn import metrics\n",
    "from sklearn.model_selection import GridSearchCV, RandomizedSearchCV, StratifiedKFold\n",
    "from sklearn.naive_bayes import MultinomialNB\n",
    "\n",
    "\n",
    "import nltk\n",
    "nltk.download('wordnet')\n",
    "nltk.download('omw-1.4')\n",
    "nltk.download('punkt')\n",
    "nltk.download('averaged_perceptron_tagger')\n",
    "nltk.download('stopwords')\n",
    "stopwords = nltk.corpus.stopwords.words('english')\n",
    "from nltk.corpus import stopwords\n",
    "from nltk.tokenize import word_tokenize"
   ]
  },
  {
   "cell_type": "code",
   "execution_count": 2,
   "metadata": {},
   "outputs": [],
   "source": [
    "# Load data\n",
    "data = pd.read_csv(\n",
    "    \"./data/nlp-getting-started/train.csv\",)\n",
    "\n",
    "# Encoding target variable\n",
    "#data[\"target\"] = np.where(data[\"target\"] == \"spam\", 1, 0)"
   ]
  },
  {
   "cell_type": "code",
   "execution_count": 3,
   "metadata": {},
   "outputs": [
    {
     "data": {
      "text/plain": [
       "id             0\n",
       "keyword       61\n",
       "location    2533\n",
       "text           0\n",
       "target         0\n",
       "dtype: int64"
      ]
     },
     "execution_count": 3,
     "metadata": {},
     "output_type": "execute_result"
    }
   ],
   "source": [
    "df = data.copy()\n",
    "df.isnull().sum()"
   ]
  },
  {
   "cell_type": "code",
   "execution_count": 4,
   "metadata": {},
   "outputs": [
    {
     "data": {
      "text/plain": [
       "Text(0.5, 1.0, 'General tweets and disaster tweets')"
      ]
     },
     "execution_count": 4,
     "metadata": {},
     "output_type": "execute_result"
    },
    {
     "data": {
      "image/png": "[encoded data removed]",
      "text/plain": [
       "<Figure size 432x288 with 1 Axes>"
      ]
     },
     "metadata": {
      "needs_background": "light"
     },
     "output_type": "display_data"
    }
   ],
   "source": [
    "sns.countplot(data=df, x='target', hue='target' )\n",
    "plt.legend(labels=[\"General Tweets\",\"Tweets about a real disaster\"],\n",
    "           fontsize = 'large', title_fontsize = \"10\")\n",
    "plt.title('General tweets and disaster tweets')"
   ]
  },
  {
   "cell_type": "code",
   "execution_count": 5,
   "metadata": {},
   "outputs": [
    {
     "data": {
      "text/html": [
       "<div>\n",
       "<style scoped>\n",
       "    .dataframe tbody tr th:only-of-type {\n",
       "        vertical-align: middle;\n",
       "    }\n",
       "\n",
       "    .dataframe tbody tr th {\n",
       "        vertical-align: top;\n",
       "    }\n",
       "\n",
       "    .dataframe thead th {\n",
       "        text-align: right;\n",
       "    }\n",
       "</style>\n",
       "<table border=\"1\" class=\"dataframe\">\n",
       "  <thead>\n",
       "    <tr style=\"text-align: right;\">\n",
       "      <th>target</th>\n",
       "      <th>keyword</th>\n",
       "      <th>general</th>\n",
       "      <th>disaster</th>\n",
       "      <th>total</th>\n",
       "    </tr>\n",
       "  </thead>\n",
       "  <tbody>\n",
       "    <tr>\n",
       "      <th>104</th>\n",
       "      <td>fatalities</td>\n",
       "      <td>19</td>\n",
       "      <td>26</td>\n",
       "      <td>45</td>\n",
       "    </tr>\n",
       "    <tr>\n",
       "      <th>63</th>\n",
       "      <td>deluge</td>\n",
       "      <td>36</td>\n",
       "      <td>6</td>\n",
       "      <td>42</td>\n",
       "    </tr>\n",
       "    <tr>\n",
       "      <th>8</th>\n",
       "      <td>armageddon</td>\n",
       "      <td>37</td>\n",
       "      <td>5</td>\n",
       "      <td>42</td>\n",
       "    </tr>\n",
       "    <tr>\n",
       "      <th>177</th>\n",
       "      <td>sinking</td>\n",
       "      <td>33</td>\n",
       "      <td>8</td>\n",
       "      <td>41</td>\n",
       "    </tr>\n",
       "    <tr>\n",
       "      <th>57</th>\n",
       "      <td>damage</td>\n",
       "      <td>22</td>\n",
       "      <td>19</td>\n",
       "      <td>41</td>\n",
       "    </tr>\n",
       "    <tr>\n",
       "      <th>119</th>\n",
       "      <td>harm</td>\n",
       "      <td>37</td>\n",
       "      <td>4</td>\n",
       "      <td>41</td>\n",
       "    </tr>\n",
       "    <tr>\n",
       "      <th>29</th>\n",
       "      <td>body%20bags</td>\n",
       "      <td>40</td>\n",
       "      <td>1</td>\n",
       "      <td>41</td>\n",
       "    </tr>\n",
       "    <tr>\n",
       "      <th>153</th>\n",
       "      <td>outbreak</td>\n",
       "      <td>1</td>\n",
       "      <td>39</td>\n",
       "      <td>40</td>\n",
       "    </tr>\n",
       "    <tr>\n",
       "      <th>95</th>\n",
       "      <td>evacuate</td>\n",
       "      <td>15</td>\n",
       "      <td>25</td>\n",
       "      <td>40</td>\n",
       "    </tr>\n",
       "    <tr>\n",
       "      <th>106</th>\n",
       "      <td>fear</td>\n",
       "      <td>35</td>\n",
       "      <td>5</td>\n",
       "      <td>40</td>\n",
       "    </tr>\n",
       "    <tr>\n",
       "      <th>49</th>\n",
       "      <td>collided</td>\n",
       "      <td>17</td>\n",
       "      <td>23</td>\n",
       "      <td>40</td>\n",
       "    </tr>\n",
       "    <tr>\n",
       "      <th>178</th>\n",
       "      <td>siren</td>\n",
       "      <td>35</td>\n",
       "      <td>5</td>\n",
       "      <td>40</td>\n",
       "    </tr>\n",
       "    <tr>\n",
       "      <th>204</th>\n",
       "      <td>twister</td>\n",
       "      <td>35</td>\n",
       "      <td>5</td>\n",
       "      <td>40</td>\n",
       "    </tr>\n",
       "    <tr>\n",
       "      <th>215</th>\n",
       "      <td>windstorm</td>\n",
       "      <td>24</td>\n",
       "      <td>16</td>\n",
       "      <td>40</td>\n",
       "    </tr>\n",
       "    <tr>\n",
       "      <th>176</th>\n",
       "      <td>sinkhole</td>\n",
       "      <td>12</td>\n",
       "      <td>27</td>\n",
       "      <td>39</td>\n",
       "    </tr>\n",
       "    <tr>\n",
       "      <th>188</th>\n",
       "      <td>sunk</td>\n",
       "      <td>30</td>\n",
       "      <td>9</td>\n",
       "      <td>39</td>\n",
       "    </tr>\n",
       "    <tr>\n",
       "      <th>123</th>\n",
       "      <td>hellfire</td>\n",
       "      <td>32</td>\n",
       "      <td>7</td>\n",
       "      <td>39</td>\n",
       "    </tr>\n",
       "    <tr>\n",
       "      <th>210</th>\n",
       "      <td>weapon</td>\n",
       "      <td>25</td>\n",
       "      <td>14</td>\n",
       "      <td>39</td>\n",
       "    </tr>\n",
       "    <tr>\n",
       "      <th>211</th>\n",
       "      <td>weapons</td>\n",
       "      <td>22</td>\n",
       "      <td>17</td>\n",
       "      <td>39</td>\n",
       "    </tr>\n",
       "    <tr>\n",
       "      <th>102</th>\n",
       "      <td>famine</td>\n",
       "      <td>13</td>\n",
       "      <td>26</td>\n",
       "      <td>39</td>\n",
       "    </tr>\n",
       "  </tbody>\n",
       "</table>\n",
       "</div>"
      ],
      "text/plain": [
       "target      keyword  general  disaster  total\n",
       "104      fatalities       19        26     45\n",
       "63           deluge       36         6     42\n",
       "8        armageddon       37         5     42\n",
       "177         sinking       33         8     41\n",
       "57           damage       22        19     41\n",
       "119            harm       37         4     41\n",
       "29      body%20bags       40         1     41\n",
       "153        outbreak        1        39     40\n",
       "95         evacuate       15        25     40\n",
       "106            fear       35         5     40\n",
       "49         collided       17        23     40\n",
       "178           siren       35         5     40\n",
       "204         twister       35         5     40\n",
       "215       windstorm       24        16     40\n",
       "176        sinkhole       12        27     39\n",
       "188            sunk       30         9     39\n",
       "123        hellfire       32         7     39\n",
       "210          weapon       25        14     39\n",
       "211         weapons       22        17     39\n",
       "102          famine       13        26     39"
      ]
     },
     "execution_count": 5,
     "metadata": {},
     "output_type": "execute_result"
    }
   ],
   "source": [
    "#df1 = df.groupby('keyword').size()\n",
    "df1 = pd.crosstab(df.keyword,df.target).reset_index()\n",
    "df1.rename(columns={0:'general',1:'disaster'},inplace=True)\n",
    "df1.eval('total = general + disaster',inplace=True)\n",
    "df1.sort_values(by='total',ascending=False,inplace=True)\n",
    "df1 = df1.head(20)\n",
    "df1"
   ]
  },
  {
   "cell_type": "code",
   "execution_count": 6,
   "metadata": {},
   "outputs": [
    {
     "data": {
      "application/vnd.plotly.v1+json": {
       "config": {
        "plotlyServerURL": "https://plot.ly"
       },
       "data": [
        {
         "name": "General Tweets",
         "type": "bar",
         "x": [
          "fatalities",
          "deluge",
          "armageddon",
          "sinking",
          "damage",
          "harm",
          "body%20bags",
          "outbreak",
          "evacuate",
          "fear",
          "collided",
          "siren",
          "twister",
          "windstorm",
          "sinkhole",
          "sunk",
          "hellfire",
          "weapon",
          "weapons",
          "famine"
         ],
         "y": [
          19,
          36,
          37,
          33,
          22,
          37,
          40,
          1,
          15,
          35,
          17,
          35,
          35,
          24,
          12,
          30,
          32,
          25,
          22,
          13
         ]
        },
        {
         "marker": {
          "color": "indianred"
         },
         "name": "Disaster Tweets",
         "type": "bar",
         "x": [
          "fatalities",
          "deluge",
          "armageddon",
          "sinking",
          "damage",
          "harm",
          "body%20bags",
          "outbreak",
          "evacuate",
          "fear",
          "collided",
          "siren",
          "twister",
          "windstorm",
          "sinkhole",
          "sunk",
          "hellfire",
          "weapon",
          "weapons",
          "famine"
         ],
         "y": [
          26,
          6,
          5,
          8,
          19,
          4,
          1,
          39,
          25,
          5,
          23,
          5,
          5,
          16,
          27,
          9,
          7,
          14,
          17,
          26
         ]
        }
       ],
       "layout": {
        "barmode": "group",
        "legend": {
         "x": 0.8,
         "xanchor": "left",
         "y": 0.99,
         "yanchor": "top"
        },
        "template": {
         "data": {
          "bar": [
           {
            "error_x": {
             "color": "#2a3f5f"
            },
            "error_y": {
             "color": "#2a3f5f"
            },
            "marker": {
             "line": {
              "color": "#E5ECF6",
              "width": 0.5
             },
             "pattern": {
              "fillmode": "overlay",
              "size": 10,
              "solidity": 0.2
             }
            },
            "type": "bar"
           }
          ],
          "barpolar": [
           {
            "marker": {
             "line": {
              "color": "#E5ECF6",
              "width": 0.5
             },
             "pattern": {
              "fillmode": "overlay",
              "size": 10,
              "solidity": 0.2
             }
            },
            "type": "barpolar"
           }
          ],
          "carpet": [
           {
            "aaxis": {
             "endlinecolor": "#2a3f5f",
             "gridcolor": "white",
             "linecolor": "white",
             "minorgridcolor": "white",
             "startlinecolor": "#2a3f5f"
            },
            "baxis": {
             "endlinecolor": "#2a3f5f",
             "gridcolor": "white",
             "linecolor": "white",
             "minorgridcolor": "white",
             "startlinecolor": "#2a3f5f"
            },
            "type": "carpet"
           }
          ],
          "choropleth": [
           {
            "colorbar": {
             "outlinewidth": 0,
             "ticks": ""
            },
            "type": "choropleth"
           }
          ],
          "contour": [
           {
            "colorbar": {
             "outlinewidth": 0,
             "ticks": ""
            },
            "colorscale": [
             [
              0,
              "#0d0887"
             ],
             [
              0.1111111111111111,
              "#46039f"
             ],
             [
              0.2222222222222222,
              "#7201a8"
             ],
             [
              0.3333333333333333,
              "#9c179e"
             ],
             [
              0.4444444444444444,
              "#bd3786"
             ],
             [
              0.5555555555555556,
              "#d8576b"
             ],
             [
              0.6666666666666666,
              "#ed7953"
             ],
             [
              0.7777777777777778,
              "#fb9f3a"
             ],
             [
              0.8888888888888888,
              "#fdca26"
             ],
             [
              1,
              "#f0f921"
             ]
            ],
            "type": "contour"
           }
          ],
          "contourcarpet": [
           {
            "colorbar": {
             "outlinewidth": 0,
             "ticks": ""
            },
            "type": "contourcarpet"
           }
          ],
          "heatmap": [
           {
            "colorbar": {
             "outlinewidth": 0,
             "ticks": ""
            },
            "colorscale": [
             [
              0,
              "#0d0887"
             ],
             [
              0.1111111111111111,
              "#46039f"
             ],
             [
              0.2222222222222222,
              "#7201a8"
             ],
             [
              0.3333333333333333,
              "#9c179e"
             ],
             [
              0.4444444444444444,
              "#bd3786"
             ],
             [
              0.5555555555555556,
              "#d8576b"
             ],
             [
              0.6666666666666666,
              "#ed7953"
             ],
             [
              0.7777777777777778,
              "#fb9f3a"
             ],
             [
              0.8888888888888888,
              "#fdca26"
             ],
             [
              1,
              "#f0f921"
             ]
            ],
            "type": "heatmap"
           }
          ],
          "heatmapgl": [
           {
            "colorbar": {
             "outlinewidth": 0,
             "ticks": ""
            },
            "colorscale": [
             [
              0,
              "#0d0887"
             ],
             [
              0.1111111111111111,
              "#46039f"
             ],
             [
              0.2222222222222222,
              "#7201a8"
             ],
             [
              0.3333333333333333,
              "#9c179e"
             ],
             [
              0.4444444444444444,
              "#bd3786"
             ],
             [
              0.5555555555555556,
              "#d8576b"
             ],
             [
              0.6666666666666666,
              "#ed7953"
             ],
             [
              0.7777777777777778,
              "#fb9f3a"
             ],
             [
              0.8888888888888888,
              "#fdca26"
             ],
             [
              1,
              "#f0f921"
             ]
            ],
            "type": "heatmapgl"
           }
          ],
          "histogram": [
           {
            "marker": {
             "pattern": {
              "fillmode": "overlay",
              "size": 10,
              "solidity": 0.2
             }
            },
            "type": "histogram"
           }
          ],
          "histogram2d": [
           {
            "colorbar": {
             "outlinewidth": 0,
             "ticks": ""
            },
            "colorscale": [
             [
              0,
              "#0d0887"
             ],
             [
              0.1111111111111111,
              "#46039f"
             ],
             [
              0.2222222222222222,
              "#7201a8"
             ],
             [
              0.3333333333333333,
              "#9c179e"
             ],
             [
              0.4444444444444444,
              "#bd3786"
             ],
             [
              0.5555555555555556,
              "#d8576b"
             ],
             [
              0.6666666666666666,
              "#ed7953"
             ],
             [
              0.7777777777777778,
              "#fb9f3a"
             ],
             [
              0.8888888888888888,
              "#fdca26"
             ],
             [
              1,
              "#f0f921"
             ]
            ],
            "type": "histogram2d"
           }
          ],
          "histogram2dcontour": [
           {
            "colorbar": {
             "outlinewidth": 0,
             "ticks": ""
            },
            "colorscale": [
             [
              0,
              "#0d0887"
             ],
             [
              0.1111111111111111,
              "#46039f"
             ],
             [
              0.2222222222222222,
              "#7201a8"
             ],
             [
              0.3333333333333333,
              "#9c179e"
             ],
             [
              0.4444444444444444,
              "#bd3786"
             ],
             [
              0.5555555555555556,
              "#d8576b"
             ],
             [
              0.6666666666666666,
              "#ed7953"
             ],
             [
              0.7777777777777778,
              "#fb9f3a"
             ],
             [
              0.8888888888888888,
              "#fdca26"
             ],
             [
              1,
              "#f0f921"
             ]
            ],
            "type": "histogram2dcontour"
           }
          ],
          "mesh3d": [
           {
            "colorbar": {
             "outlinewidth": 0,
             "ticks": ""
            },
            "type": "mesh3d"
           }
          ],
          "parcoords": [
           {
            "line": {
             "colorbar": {
              "outlinewidth": 0,
              "ticks": ""
             }
            },
            "type": "parcoords"
           }
          ],
          "pie": [
           {
            "automargin": true,
            "type": "pie"
           }
          ],
          "scatter": [
           {
            "fillpattern": {
             "fillmode": "overlay",
             "size": 10,
             "solidity": 0.2
            },
            "type": "scatter"
           }
          ],
          "scatter3d": [
           {
            "line": {
             "colorbar": {
              "outlinewidth": 0,
              "ticks": ""
             }
            },
            "marker": {
             "colorbar": {
              "outlinewidth": 0,
              "ticks": ""
             }
            },
            "type": "scatter3d"
           }
          ],
          "scattercarpet": [
           {
            "marker": {
             "colorbar": {
              "outlinewidth": 0,
              "ticks": ""
             }
            },
            "type": "scattercarpet"
           }
          ],
          "scattergeo": [
           {
            "marker": {
             "colorbar": {
              "outlinewidth": 0,
              "ticks": ""
             }
            },
            "type": "scattergeo"
           }
          ],
          "scattergl": [
           {
            "marker": {
             "colorbar": {
              "outlinewidth": 0,
              "ticks": ""
             }
            },
            "type": "scattergl"
           }
          ],
          "scattermapbox": [
           {
            "marker": {
             "colorbar": {
              "outlinewidth": 0,
              "ticks": ""
             }
            },
            "type": "scattermapbox"
           }
          ],
          "scatterpolar": [
           {
            "marker": {
             "colorbar": {
              "outlinewidth": 0,
              "ticks": ""
             }
            },
            "type": "scatterpolar"
           }
          ],
          "scatterpolargl": [
           {
            "marker": {
             "colorbar": {
              "outlinewidth": 0,
              "ticks": ""
             }
            },
            "type": "scatterpolargl"
           }
          ],
          "scatterternary": [
           {
            "marker": {
             "colorbar": {
              "outlinewidth": 0,
              "ticks": ""
             }
            },
            "type": "scatterternary"
           }
          ],
          "surface": [
           {
            "colorbar": {
             "outlinewidth": 0,
             "ticks": ""
            },
            "colorscale": [
             [
              0,
              "#0d0887"
             ],
             [
              0.1111111111111111,
              "#46039f"
             ],
             [
              0.2222222222222222,
              "#7201a8"
             ],
             [
              0.3333333333333333,
              "#9c179e"
             ],
             [
              0.4444444444444444,
              "#bd3786"
             ],
             [
              0.5555555555555556,
              "#d8576b"
             ],
             [
              0.6666666666666666,
              "#ed7953"
             ],
             [
              0.7777777777777778,
              "#fb9f3a"
             ],
             [
              0.8888888888888888,
              "#fdca26"
             ],
             [
              1,
              "#f0f921"
             ]
            ],
            "type": "surface"
           }
          ],
          "table": [
           {
            "cells": {
             "fill": {
              "color": "#EBF0F8"
             },
             "line": {
              "color": "white"
             }
            },
            "header": {
             "fill": {
              "color": "#C8D4E3"
             },
             "line": {
              "color": "white"
             }
            },
            "type": "table"
           }
          ]
         },
         "layout": {
          "annotationdefaults": {
           "arrowcolor": "#2a3f5f",
           "arrowhead": 0,
           "arrowwidth": 1
          },
          "autotypenumbers": "strict",
          "coloraxis": {
           "colorbar": {
            "outlinewidth": 0,
            "ticks": ""
           }
          },
          "colorscale": {
           "diverging": [
            [
             0,
             "#8e0152"
            ],
            [
             0.1,
             "#c51b7d"
            ],
            [
             0.2,
             "#de77ae"
            ],
            [
             0.3,
             "#f1b6da"
            ],
            [
             0.4,
             "#fde0ef"
            ],
            [
             0.5,
             "#f7f7f7"
            ],
            [
             0.6,
             "#e6f5d0"
            ],
            [
             0.7,
             "#b8e186"
            ],
            [
             0.8,
             "#7fbc41"
            ],
            [
             0.9,
             "#4d9221"
            ],
            [
             1,
             "#276419"
            ]
           ],
           "sequential": [
            [
             0,
             "#0d0887"
            ],
            [
             0.1111111111111111,
             "#46039f"
            ],
            [
             0.2222222222222222,
             "#7201a8"
            ],
            [
             0.3333333333333333,
             "#9c179e"
            ],
            [
             0.4444444444444444,
             "#bd3786"
            ],
            [
             0.5555555555555556,
             "#d8576b"
            ],
            [
             0.6666666666666666,
             "#ed7953"
            ],
            [
             0.7777777777777778,
             "#fb9f3a"
            ],
            [
             0.8888888888888888,
             "#fdca26"
            ],
            [
             1,
             "#f0f921"
            ]
           ],
           "sequentialminus": [
            [
             0,
             "#0d0887"
            ],
            [
             0.1111111111111111,
             "#46039f"
            ],
            [
             0.2222222222222222,
             "#7201a8"
            ],
            [
             0.3333333333333333,
             "#9c179e"
            ],
            [
             0.4444444444444444,
             "#bd3786"
            ],
            [
             0.5555555555555556,
             "#d8576b"
            ],
            [
             0.6666666666666666,
             "#ed7953"
            ],
            [
             0.7777777777777778,
             "#fb9f3a"
            ],
            [
             0.8888888888888888,
             "#fdca26"
            ],
            [
             1,
             "#f0f921"
            ]
           ]
          },
          "colorway": [
           "#636efa",
           "#EF553B",
           "#00cc96",
           "#ab63fa",
           "#FFA15A",
           "#19d3f3",
           "#FF6692",
           "#B6E880",
           "#FF97FF",
           "#FECB52"
          ],
          "font": {
           "color": "#2a3f5f"
          },
          "geo": {
           "bgcolor": "white",
           "lakecolor": "white",
           "landcolor": "#E5ECF6",
           "showlakes": true,
           "showland": true,
           "subunitcolor": "white"
          },
          "hoverlabel": {
           "align": "left"
          },
          "hovermode": "closest",
          "mapbox": {
           "style": "light"
          },
          "paper_bgcolor": "white",
          "plot_bgcolor": "#E5ECF6",
          "polar": {
           "angularaxis": {
            "gridcolor": "white",
            "linecolor": "white",
            "ticks": ""
           },
           "bgcolor": "#E5ECF6",
           "radialaxis": {
            "gridcolor": "white",
            "linecolor": "white",
            "ticks": ""
           }
          },
          "scene": {
           "xaxis": {
            "backgroundcolor": "#E5ECF6",
            "gridcolor": "white",
            "gridwidth": 2,
            "linecolor": "white",
            "showbackground": true,
            "ticks": "",
            "zerolinecolor": "white"
           },
           "yaxis": {
            "backgroundcolor": "#E5ECF6",
            "gridcolor": "white",
            "gridwidth": 2,
            "linecolor": "white",
            "showbackground": true,
            "ticks": "",
            "zerolinecolor": "white"
           },
           "zaxis": {
            "backgroundcolor": "#E5ECF6",
            "gridcolor": "white",
            "gridwidth": 2,
            "linecolor": "white",
            "showbackground": true,
            "ticks": "",
            "zerolinecolor": "white"
           }
          },
          "shapedefaults": {
           "line": {
            "color": "#2a3f5f"
           }
          },
          "ternary": {
           "aaxis": {
            "gridcolor": "white",
            "linecolor": "white",
            "ticks": ""
           },
           "baxis": {
            "gridcolor": "white",
            "linecolor": "white",
            "ticks": ""
           },
           "bgcolor": "#E5ECF6",
           "caxis": {
            "gridcolor": "white",
            "linecolor": "white",
            "ticks": ""
           }
          },
          "title": {
           "x": 0.05
          },
          "xaxis": {
           "automargin": true,
           "gridcolor": "white",
           "linecolor": "white",
           "ticks": "",
           "title": {
            "standoff": 15
           },
           "zerolinecolor": "white",
           "zerolinewidth": 2
          },
          "yaxis": {
           "automargin": true,
           "gridcolor": "white",
           "linecolor": "white",
           "ticks": "",
           "title": {
            "standoff": 15
           },
           "zerolinecolor": "white",
           "zerolinewidth": 2
          }
         }
        },
        "title": {
         "text": "Top 20 keywords used in the Tweets"
        },
        "xaxis": {
         "tickangle": -45,
         "title": {
          "text": "keywords used in Tweets"
         }
        },
        "yaxis": {
         "title": {
          "text": "counts"
         }
        }
       }
      }
     },
     "metadata": {},
     "output_type": "display_data"
    }
   ],
   "source": [
    "import plotly.graph_objects as go\n",
    "\n",
    "fig = go.Figure()\n",
    "fig.add_trace(go.Bar(\n",
    "    x = df1.keyword,\n",
    "    y=df1.general,\n",
    "    name= 'General Tweets'\n",
    "    \n",
    "   \n",
    "))\n",
    "fig.add_trace(go.Bar(\n",
    "    x = df1.keyword,\n",
    "    y=df1.disaster,\n",
    "    name = 'Disaster Tweets' ,\n",
    "    marker_color='indianred'\n",
    "))\n",
    "\n",
    "\n",
    "fig.update_layout(barmode='group', xaxis_tickangle=-45, \n",
    "                    title = 'Top 20 keywords used in the Tweets',\n",
    "                    xaxis_title = 'keywords used in Tweets',\n",
    "                    yaxis_title = 'counts',legend=dict(\n",
    "                    yanchor=\"top\",y=0.99,xanchor=\"left\",x=0.80)\n",
    "                    )\n",
    "fig.show()\n"
   ]
  },
  {
   "cell_type": "code",
   "execution_count": 7,
   "metadata": {},
   "outputs": [],
   "source": [
    "#filling null values with some number\n",
    "\n",
    "df['keyword'].fillna('', inplace=True)\n",
    "df['location'].fillna('',inplace=True)\n",
    "\n",
    "# dropping the duplicates\n",
    "df.drop_duplicates(subset ='text',keep=False, inplace=True)\n",
    "\n",
    "\n",
    "# converting to strings\n",
    "\n",
    "df['keyword'] = df['keyword'].astype('object')\n",
    "df['location'] = df['location'].astype('object')\n",
    "df['text'] = df['text'].astype('str')\n",
    "\n",
    "# adding the columns keyword and text\n",
    "df['text_final'] = df['keyword'] + ' ' + df['text']\n"
   ]
  },
  {
   "cell_type": "markdown",
   "metadata": {},
   "source": [
    "### Expand Contractions"
   ]
  },
  {
   "cell_type": "code",
   "execution_count": 8,
   "metadata": {},
   "outputs": [],
   "source": [
    "df['text_final_1'] = df['text_final'].apply(lambda x: [contractions.fix(word) for word in x.split(' ')])"
   ]
  },
  {
   "cell_type": "code",
   "execution_count": 9,
   "metadata": {},
   "outputs": [],
   "source": [
    "#joining back the list of items into one string\n",
    "df['text_final_1'] = [' '.join(map(str, l)) for l in df['text_final_1']]"
   ]
  },
  {
   "cell_type": "code",
   "execution_count": 10,
   "metadata": {},
   "outputs": [
    {
     "data": {
      "text/html": [
       "<div>\n",
       "<style scoped>\n",
       "    .dataframe tbody tr th:only-of-type {\n",
       "        vertical-align: middle;\n",
       "    }\n",
       "\n",
       "    .dataframe tbody tr th {\n",
       "        vertical-align: top;\n",
       "    }\n",
       "\n",
       "    .dataframe thead th {\n",
       "        text-align: right;\n",
       "    }\n",
       "</style>\n",
       "<table border=\"1\" class=\"dataframe\">\n",
       "  <thead>\n",
       "    <tr style=\"text-align: right;\">\n",
       "      <th></th>\n",
       "      <th>id</th>\n",
       "      <th>keyword</th>\n",
       "      <th>location</th>\n",
       "      <th>text</th>\n",
       "      <th>target</th>\n",
       "      <th>text_final</th>\n",
       "      <th>text_final_1</th>\n",
       "    </tr>\n",
       "  </thead>\n",
       "  <tbody>\n",
       "    <tr>\n",
       "      <th>217</th>\n",
       "      <td>309</td>\n",
       "      <td>annihilated</td>\n",
       "      <td>Greater Manchester, UK</td>\n",
       "      <td>@ACarewornHeart Have a good un fella sorry I w...</td>\n",
       "      <td>0</td>\n",
       "      <td>annihilated @ACarewornHeart Have a good un fel...</td>\n",
       "      <td>annihilated @ACarewornHeart Have a good un fel...</td>\n",
       "    </tr>\n",
       "    <tr>\n",
       "      <th>5701</th>\n",
       "      <td>8136</td>\n",
       "      <td>rescued</td>\n",
       "      <td>Pennsylvania, USA</td>\n",
       "      <td>@Zak_Bagans pets r like part of the family. I ...</td>\n",
       "      <td>0</td>\n",
       "      <td>rescued @Zak_Bagans pets r like part of the fa...</td>\n",
       "      <td>rescued @Zak_Bagans pets r like part of the fa...</td>\n",
       "    </tr>\n",
       "    <tr>\n",
       "      <th>4370</th>\n",
       "      <td>6207</td>\n",
       "      <td>hijacker</td>\n",
       "      <td>West Chester, PA</td>\n",
       "      <td>Remove the http://t.co/9Jxb3rx8mF and Linkury ...</td>\n",
       "      <td>0</td>\n",
       "      <td>hijacker Remove the http://t.co/9Jxb3rx8mF and...</td>\n",
       "      <td>hijacker Remove the http://t.co/9Jxb3rx8mF and...</td>\n",
       "    </tr>\n",
       "  </tbody>\n",
       "</table>\n",
       "</div>"
      ],
      "text/plain": [
       "        id      keyword                location  \\\n",
       "217    309  annihilated  Greater Manchester, UK   \n",
       "5701  8136      rescued       Pennsylvania, USA   \n",
       "4370  6207     hijacker        West Chester, PA   \n",
       "\n",
       "                                                   text  target  \\\n",
       "217   @ACarewornHeart Have a good un fella sorry I w...       0   \n",
       "5701  @Zak_Bagans pets r like part of the family. I ...       0   \n",
       "4370  Remove the http://t.co/9Jxb3rx8mF and Linkury ...       0   \n",
       "\n",
       "                                             text_final  \\\n",
       "217   annihilated @ACarewornHeart Have a good un fel...   \n",
       "5701  rescued @Zak_Bagans pets r like part of the fa...   \n",
       "4370  hijacker Remove the http://t.co/9Jxb3rx8mF and...   \n",
       "\n",
       "                                           text_final_1  \n",
       "217   annihilated @ACarewornHeart Have a good un fel...  \n",
       "5701  rescued @Zak_Bagans pets r like part of the fa...  \n",
       "4370  hijacker Remove the http://t.co/9Jxb3rx8mF and...  "
      ]
     },
     "execution_count": 10,
     "metadata": {},
     "output_type": "execute_result"
    }
   ],
   "source": [
    "df.sample(3)"
   ]
  },
  {
   "cell_type": "markdown",
   "metadata": {},
   "source": [
    "### Noise Cleaning"
   ]
  },
  {
   "cell_type": "code",
   "execution_count": 11,
   "metadata": {},
   "outputs": [],
   "source": [
    "# Noise Cleaning - spacing, special characters, lowercasing \n",
    "\n",
    "df['text_final_1'] = df['text_final_1'].str.lower()\n",
    "df['text_final_1'] = df['text_final_1'].apply(lambda x: re.sub(r'[^\\w\\d\\s\\']+', '', x))\n",
    "df['text_final_2'] = df['text_final_1'].apply(lambda x: re.sub('[^a-zA-Z]', ' ', x))\n",
    "\n"
   ]
  },
  {
   "cell_type": "code",
   "execution_count": 12,
   "metadata": {},
   "outputs": [],
   "source": [
    "#nltk tokenization\n",
    "\n",
    "df['text_final_1'] = df['text_final_1'].apply(word_tokenize)\n",
    "df['text_final_2'] = df['text_final_2'].apply(word_tokenize)\n"
   ]
  },
  {
   "cell_type": "code",
   "execution_count": 13,
   "metadata": {},
   "outputs": [],
   "source": [
    "# remove stop words\n",
    "\n",
    "stop_words = set(stopwords.words('english'))\n",
    "\n",
    "df['text_final_1'] = df['text_final_1'].apply(lambda x: [word for word in x if word not in stop_words])\n",
    "df['text_final_1'] = [' '.join(map(str, l)) for l in df['text_final_1']]\n",
    "\n",
    "df['text_final_2'] = df['text_final_2'].apply(lambda x: [word for word in x if word not in stop_words])\n",
    "df['text_final_2'] = [' '.join(map(str, l)) for l in df['text_final_2']]"
   ]
  },
  {
   "cell_type": "code",
   "execution_count": 14,
   "metadata": {},
   "outputs": [],
   "source": [
    "#df['text_final_3'] = df['text_final_1'].str.split().apply(lambda x: [num2words(word) for word in x if word.isdigit()])"
   ]
  },
  {
   "cell_type": "code",
   "execution_count": 15,
   "metadata": {},
   "outputs": [
    {
     "data": {
      "text/html": [
       "<div>\n",
       "<style scoped>\n",
       "    .dataframe tbody tr th:only-of-type {\n",
       "        vertical-align: middle;\n",
       "    }\n",
       "\n",
       "    .dataframe tbody tr th {\n",
       "        vertical-align: top;\n",
       "    }\n",
       "\n",
       "    .dataframe thead th {\n",
       "        text-align: right;\n",
       "    }\n",
       "</style>\n",
       "<table border=\"1\" class=\"dataframe\">\n",
       "  <thead>\n",
       "    <tr style=\"text-align: right;\">\n",
       "      <th></th>\n",
       "      <th>id</th>\n",
       "      <th>keyword</th>\n",
       "      <th>location</th>\n",
       "      <th>text</th>\n",
       "      <th>target</th>\n",
       "      <th>text_final</th>\n",
       "      <th>text_final_1</th>\n",
       "      <th>text_final_2</th>\n",
       "    </tr>\n",
       "  </thead>\n",
       "  <tbody>\n",
       "    <tr>\n",
       "      <th>690</th>\n",
       "      <td>994</td>\n",
       "      <td>blazing</td>\n",
       "      <td>State of Georgia</td>\n",
       "      <td>@Blazing_Ben @PattyDs50 @gwfrazee @JoshuaAssar...</td>\n",
       "      <td>0</td>\n",
       "      <td>blazing @Blazing_Ben @PattyDs50 @gwfrazee @Jos...</td>\n",
       "      <td>blazing blazing_ben pattyds50 gwfrazee joshuaa...</td>\n",
       "      <td>blazing blazing ben pattyds gwfrazee joshuaass...</td>\n",
       "    </tr>\n",
       "    <tr>\n",
       "      <th>5455</th>\n",
       "      <td>7781</td>\n",
       "      <td>police</td>\n",
       "      <td>Stratford, CT</td>\n",
       "      <td>Selection September Bridgeport men charged in ...</td>\n",
       "      <td>1</td>\n",
       "      <td>police Selection September Bridgeport men char...</td>\n",
       "      <td>police selection september bridgeport men char...</td>\n",
       "      <td>police selection september bridgeport men char...</td>\n",
       "    </tr>\n",
       "    <tr>\n",
       "      <th>6119</th>\n",
       "      <td>8735</td>\n",
       "      <td>sinking</td>\n",
       "      <td></td>\n",
       "      <td>That horrible sinking feeling when youÛªve be...</td>\n",
       "      <td>1</td>\n",
       "      <td>sinking That horrible sinking feeling when you...</td>\n",
       "      <td>sinking horrible sinking feeling youûªve home ...</td>\n",
       "      <td>sinking horrible sinking feeling home phone re...</td>\n",
       "    </tr>\n",
       "    <tr>\n",
       "      <th>2927</th>\n",
       "      <td>4206</td>\n",
       "      <td>drowned</td>\n",
       "      <td>United Kingdom,Fraserburgh</td>\n",
       "      <td>@Stephen_Georg Hey Stephen Remember that time ...</td>\n",
       "      <td>0</td>\n",
       "      <td>drowned @Stephen_Georg Hey Stephen Remember th...</td>\n",
       "      <td>drowned stephen_georg hey stephen remember tim...</td>\n",
       "      <td>drowned stephen georg hey stephen remember tim...</td>\n",
       "    </tr>\n",
       "    <tr>\n",
       "      <th>3632</th>\n",
       "      <td>5181</td>\n",
       "      <td>fatalities</td>\n",
       "      <td>Washington, DC</td>\n",
       "      <td>#Saudi Arabia: #Abha: Fatalities reported foll...</td>\n",
       "      <td>1</td>\n",
       "      <td>fatalities #Saudi Arabia: #Abha: Fatalities re...</td>\n",
       "      <td>fatalities saudi arabia abha fatalities report...</td>\n",
       "      <td>fatalities saudi arabia abha fatalities report...</td>\n",
       "    </tr>\n",
       "  </tbody>\n",
       "</table>\n",
       "</div>"
      ],
      "text/plain": [
       "        id     keyword                    location  \\\n",
       "690    994     blazing            State of Georgia   \n",
       "5455  7781      police               Stratford, CT   \n",
       "6119  8735     sinking                               \n",
       "2927  4206     drowned  United Kingdom,Fraserburgh   \n",
       "3632  5181  fatalities              Washington, DC   \n",
       "\n",
       "                                                   text  target  \\\n",
       "690   @Blazing_Ben @PattyDs50 @gwfrazee @JoshuaAssar...       0   \n",
       "5455  Selection September Bridgeport men charged in ...       1   \n",
       "6119  That horrible sinking feeling when youÛªve be...       1   \n",
       "2927  @Stephen_Georg Hey Stephen Remember that time ...       0   \n",
       "3632  #Saudi Arabia: #Abha: Fatalities reported foll...       1   \n",
       "\n",
       "                                             text_final  \\\n",
       "690   blazing @Blazing_Ben @PattyDs50 @gwfrazee @Jos...   \n",
       "5455  police Selection September Bridgeport men char...   \n",
       "6119  sinking That horrible sinking feeling when you...   \n",
       "2927  drowned @Stephen_Georg Hey Stephen Remember th...   \n",
       "3632  fatalities #Saudi Arabia: #Abha: Fatalities re...   \n",
       "\n",
       "                                           text_final_1  \\\n",
       "690   blazing blazing_ben pattyds50 gwfrazee joshuaa...   \n",
       "5455  police selection september bridgeport men char...   \n",
       "6119  sinking horrible sinking feeling youûªve home ...   \n",
       "2927  drowned stephen_georg hey stephen remember tim...   \n",
       "3632  fatalities saudi arabia abha fatalities report...   \n",
       "\n",
       "                                           text_final_2  \n",
       "690   blazing blazing ben pattyds gwfrazee joshuaass...  \n",
       "5455  police selection september bridgeport men char...  \n",
       "6119  sinking horrible sinking feeling home phone re...  \n",
       "2927  drowned stephen georg hey stephen remember tim...  \n",
       "3632  fatalities saudi arabia abha fatalities report...  "
      ]
     },
     "execution_count": 15,
     "metadata": {},
     "output_type": "execute_result"
    }
   ],
   "source": [
    "df.sample(5)"
   ]
  },
  {
   "cell_type": "code",
   "execution_count": 16,
   "metadata": {},
   "outputs": [],
   "source": [
    "def remove_url(text):\n",
    "    url = re.compile(r'(https?:\\/\\/)(\\s)*(www\\.)?(\\s)*((\\w|\\s)+\\.)*([\\w\\-\\s]+\\/)*([\\w\\-]+)((\\?)?[\\w\\s]*=\\s*[\\w\\%&]*)*')\n",
    "    return url.sub(r'', text)\n",
    "\n",
    "df['text_final_url'] = df['text_final_2'].apply(lambda x: remove_url(x))\n"
   ]
  },
  {
   "cell_type": "code",
   "execution_count": 17,
   "metadata": {},
   "outputs": [],
   "source": [
    "# Split dataset between train and test sets\n",
    "X_train, X_test, y_train, y_test = train_test_split(df[\"text_final_url\"], df[\"target\"], random_state=0)"
   ]
  },
  {
   "cell_type": "code",
   "execution_count": 18,
   "metadata": {},
   "outputs": [],
   "source": [
    "# Initialization\n",
    "WNlemma = nltk.WordNetLemmatizer()\n",
    "\n",
    "analyzer = TfidfVectorizer(min_df=0).build_analyzer()\n",
    "\n",
    "def lemmatize_word(doc):\n",
    "    return (WNlemma.lemmatize(t) for t in analyzer(doc))\n",
    "\n",
    "\n",
    "lemm_vectorizer = TfidfVectorizer(min_df=1, analyzer=lemmatize_word)\n",
    "\n",
    "# Transform X_train\n",
    "X_train_lemm_vectorized = lemm_vectorizer.fit_transform(X_train)"
   ]
  },
  {
   "cell_type": "code",
   "execution_count": 19,
   "metadata": {},
   "outputs": [
    {
     "name": "stdout",
     "output_type": "stream",
     "text": [
      "AUC = 0.776\n",
      "accuracy = 0.791\n",
      "precision = 0.794\n",
      "recall = 0.680\n"
     ]
    }
   ],
   "source": [
    "# Train the model with lemmatized and vectorized dataset\n",
    "model_lemm = LogisticRegression(max_iter=1500)\n",
    "model_lemm.fit(X_train_lemm_vectorized, y_train)\n",
    "\n",
    "# Predict the transformed test documents\n",
    "predictions1 = model_lemm.predict(lemm_vectorizer.transform(X_test))\n",
    "\n",
    "print(\"AUC = {:.3f}\".format(roc_auc_score(y_test, predictions1)))\n",
    "print(\"accuracy = {:.3f}\".format(accuracy_score(y_test, predictions1)))\n",
    "print(\"precision = {:.3f}\".format(precision_score(y_test, predictions1)))\n",
    "print(\"recall = {:.3f}\".format(recall_score(y_test, predictions1)))\n",
    "# 78,79,80, 68"
   ]
  },
  {
   "cell_type": "code",
   "execution_count": 20,
   "metadata": {},
   "outputs": [
    {
     "name": "stdout",
     "output_type": "stream",
     "text": [
      "Accuracy on test set: 0.793\n"
     ]
    }
   ],
   "source": [
    "from sklearn.svm import SVC\n",
    "\n",
    "clf = SVC(kernel = 'rbf', gamma = 'scale', degree = 4, C = 100)\n",
    "clf.fit(X_train_lemm_vectorized, y_train) \n",
    "y_pred_SVC = clf.predict(lemm_vectorizer.transform(X_test))\n",
    "\n",
    "print(\"Accuracy on test set:\", round(accuracy_score(y_test, y_pred_SVC), 3))\n"
   ]
  },
  {
   "cell_type": "code",
   "execution_count": 21,
   "metadata": {},
   "outputs": [
    {
     "name": "stdout",
     "output_type": "stream",
     "text": [
      "Fitting 5 folds for each of 10 candidates, totalling 50 fits\n",
      "[CV 2/5] END C=0.1, degree=4, gamma=0.001, kernel=linear;, score=0.652 total time=   1.9s\n",
      "[CV 3/5] END C=0.1, degree=4, gamma=0.001, kernel=linear;, score=0.677 total time=   1.9s\n",
      "[CV 1/5] END C=0.1, degree=4, gamma=0.001, kernel=linear;, score=0.664 total time=   1.9s\n",
      "[CV 4/5] END C=0.1, degree=4, gamma=0.001, kernel=linear;, score=0.683 total time=   1.9s\n",
      "[CV 5/5] END C=0.1, degree=4, gamma=0.001, kernel=linear;, score=0.682 total time=   1.9s\n",
      "[CV 3/5] END C=10, degree=4, gamma=scale, kernel=poly;, score=0.688 total time=   2.2s\n",
      "[CV 2/5] END C=10, degree=4, gamma=scale, kernel=poly;, score=0.678 total time=   2.2s\n",
      "[CV 1/5] END C=10, degree=4, gamma=scale, kernel=poly;, score=0.691 total time=   2.3s\n",
      "[CV 1/5] END C=1, degree=2, gamma=0.001, kernel=sigmoid;, score=0.575 total time=   1.8s\n",
      "[CV 2/5] END C=1, degree=2, gamma=0.001, kernel=sigmoid;, score=0.576 total time=   1.8s\n",
      "[CV 3/5] END C=1, degree=2, gamma=0.001, kernel=sigmoid;, score=0.576 total time=   1.9s\n",
      "[CV 4/5] END C=1, degree=2, gamma=0.001, kernel=sigmoid;, score=0.576 total time=   1.9s\n",
      "[CV 5/5] END C=10, degree=4, gamma=scale, kernel=poly;, score=0.698 total time=   2.3s\n",
      "[CV 5/5] END C=1, degree=2, gamma=0.001, kernel=sigmoid;, score=0.576 total time=   2.0s\n",
      "[CV 4/5] END C=10, degree=4, gamma=scale, kernel=poly;, score=0.709 total time=   2.6s\n",
      "[CV 1/5] END C=100, degree=3, gamma=0.001, kernel=linear;, score=0.758 total time=   2.2s\n",
      "[CV 4/5] END C=100, degree=3, gamma=0.001, kernel=linear;, score=0.773 total time=   2.0s\n",
      "[CV 2/5] END C=100, degree=3, gamma=0.001, kernel=linear;, score=0.752 total time=   2.1s\n",
      "[CV 3/5] END C=100, degree=3, gamma=0.001, kernel=linear;, score=0.758 total time=   2.3s\n",
      "[CV 5/5] END C=100, degree=3, gamma=0.001, kernel=linear;, score=0.751 total time=   2.2s\n",
      "[CV 1/5] END C=100, degree=4, gamma=scale, kernel=rbf;, score=0.794 total time=   2.5s\n",
      "[CV 2/5] END C=100, degree=4, gamma=scale, kernel=rbf;, score=0.781 total time=   2.4s\n",
      "[CV 3/5] END C=100, degree=4, gamma=scale, kernel=rbf;, score=0.795 total time=   2.4s\n",
      "[CV 4/5] END C=100, degree=4, gamma=scale, kernel=rbf;, score=0.802 total time=   2.4s\n",
      "[CV 1/5] END C=0.01, degree=4, gamma=1, kernel=linear;, score=0.575 total time=   1.9s\n",
      "[CV 2/5] END C=0.01, degree=4, gamma=1, kernel=linear;, score=0.576 total time=   1.9s\n",
      "[CV 3/5] END C=0.01, degree=4, gamma=1, kernel=linear;, score=0.576 total time=   1.7s\n",
      "[CV 5/5] END C=100, degree=4, gamma=scale, kernel=rbf;, score=0.786 total time=   2.4s\n",
      "[CV 4/5] END C=0.01, degree=4, gamma=1, kernel=linear;, score=0.576 total time=   1.8s\n",
      "[CV 5/5] END C=0.01, degree=4, gamma=1, kernel=linear;, score=0.576 total time=   1.9s\n",
      "[CV 1/5] END C=0.1, degree=3, gamma=auto, kernel=rbf;, score=0.575 total time=   2.0s\n",
      "[CV 2/5] END C=0.1, degree=3, gamma=auto, kernel=rbf;, score=0.576 total time=   2.0s\n",
      "[CV 3/5] END C=0.1, degree=3, gamma=auto, kernel=rbf;, score=0.576 total time=   2.1s\n",
      "[CV 4/5] END C=0.1, degree=3, gamma=auto, kernel=rbf;, score=0.576 total time=   2.0s\n",
      "[CV 1/5] END C=0.1, degree=3, gamma=scale, kernel=linear;, score=0.664 total time=   1.8s\n",
      "[CV 2/5] END C=0.1, degree=3, gamma=scale, kernel=linear;, score=0.652 total time=   1.8s\n",
      "[CV 5/5] END C=0.1, degree=3, gamma=auto, kernel=rbf;, score=0.576 total time=   2.2s\n",
      "[CV 3/5] END C=0.1, degree=3, gamma=scale, kernel=linear;, score=0.677 total time=   2.1s\n",
      "[CV 5/5] END C=0.1, degree=3, gamma=scale, kernel=linear;, score=0.682 total time=   2.0s\n",
      "[CV 4/5] END C=0.1, degree=3, gamma=scale, kernel=linear;, score=0.683 total time=   2.1s\n",
      "[CV 2/5] END C=0.01, degree=3, gamma=0.0001, kernel=poly;, score=0.576 total time=   1.7s\n",
      "[CV 1/5] END C=0.01, degree=3, gamma=0.0001, kernel=poly;, score=0.575 total time=   2.0s\n",
      "[CV 3/5] END C=0.01, degree=3, gamma=0.0001, kernel=poly;, score=0.576 total time=   1.8s\n",
      "[CV 4/5] END C=0.01, degree=3, gamma=0.0001, kernel=poly;, score=0.576 total time=   1.7s\n",
      "[CV 5/5] END C=0.01, degree=3, gamma=0.0001, kernel=poly;, score=0.576 total time=   1.8s\n",
      "[CV 1/5] END C=0.01, degree=4, gamma=1, kernel=rbf;, score=0.575 total time=   2.0s\n",
      "[CV 3/5] END C=0.01, degree=4, gamma=1, kernel=rbf;, score=0.576 total time=   1.9s\n",
      "[CV 2/5] END C=0.01, degree=4, gamma=1, kernel=rbf;, score=0.576 total time=   1.9s\n",
      "[CV 4/5] END C=0.01, degree=4, gamma=1, kernel=rbf;, score=0.576 total time=   1.7s\n",
      "[CV 5/5] END C=0.01, degree=4, gamma=1, kernel=rbf;, score=0.576 total time=   1.6s\n"
     ]
    },
    {
     "data": {
      "text/plain": [
       "RandomizedSearchCV(cv=5, estimator=SVC(random_state=42), n_jobs=-1,\n",
       "                   param_distributions=[{'C': [0.01, 0.1, 1, 10, 100],\n",
       "                                         'degree': [2, 3, 4],\n",
       "                                         'gamma': [0.0001, 0.001, 0.01, 0.1, 1,\n",
       "                                                   'auto', 'scale'],\n",
       "                                         'kernel': ['rbf', 'linear', 'poly',\n",
       "                                                    'sigmoid']}],\n",
       "                   random_state=42, scoring='accuracy', verbose=5)"
      ]
     },
     "execution_count": 21,
     "metadata": {},
     "output_type": "execute_result"
    }
   ],
   "source": [
    "param_grid = [{'kernel': ['rbf', 'linear', 'poly', 'sigmoid'], \n",
    "               'gamma': [0.0001, 0.001, 0.01, 0.1, 1, 'auto', 'scale'],\n",
    "               'C': [0.01, 0.1, 1, 10, 100],\n",
    "               'degree': [2, 3, 4]\n",
    "              }]\n",
    "\n",
    "\n",
    "rs = RandomizedSearchCV(SVC(random_state=42), param_grid, scoring='accuracy',\n",
    "                  cv=5, verbose=5, n_jobs=-1, n_iter=10, random_state=42)\n",
    "\n",
    "# Fit randomized search object to data\n",
    "rs.fit(X_train_lemm_vectorized, y_train)"
   ]
  },
  {
   "cell_type": "code",
   "execution_count": 22,
   "metadata": {},
   "outputs": [
    {
     "name": "stdout",
     "output_type": "stream",
     "text": [
      "Accuracy on test set: 0.793\n"
     ]
    }
   ],
   "source": [
    "# Assigning the fitted SGDClassifier model with best parameter combination to a new variable sgd_best\n",
    "svc_best_rs = rs.best_estimator_\n",
    "\n",
    "# Making predictions on the test set\n",
    "y_pred_test_rs = svc_best_rs.predict(lemm_vectorizer.transform(X_test))\n",
    "\n",
    "print(\"Accuracy on test set:\", round(accuracy_score(y_test, y_pred_test_rs), 3))\n",
    "\n"
   ]
  },
  {
   "cell_type": "code",
   "execution_count": 23,
   "metadata": {},
   "outputs": [
    {
     "name": "stdout",
     "output_type": "stream",
     "text": [
      "AUC = 0.748\n",
      "accuracy = 0.774\n",
      "precision = 0.826\n",
      "recall = 0.587\n"
     ]
    }
   ],
   "source": [
    "import xgboost \n",
    "\n",
    "#xgboost on lemmatization\n",
    "\n",
    "xgb = xgboost.XGBClassifier()\n",
    "\n",
    "xgb.fit(X_train_lemm_vectorized,y_train)\n",
    "\n",
    "y_pred_xgb = xgb.predict(lemm_vectorizer.transform(X_test))\n",
    "\n",
    "\n",
    "print(\"AUC = {:.3f}\".format(roc_auc_score(y_test, y_pred_xgb)))\n",
    "print(\"accuracy = {:.3f}\".format(accuracy_score(y_test, y_pred_xgb)))\n",
    "print(\"precision = {:.3f}\".format(precision_score(y_test, y_pred_xgb)))\n",
    "print(\"recall = {:.3f}\".format(recall_score(y_test, y_pred_xgb)))"
   ]
  },
  {
   "cell_type": "code",
   "execution_count": 24,
   "metadata": {},
   "outputs": [
    {
     "name": "stdout",
     "output_type": "stream",
     "text": [
      "Accuracy on test set: 0.791\n"
     ]
    }
   ],
   "source": [
    "from sklearn.naive_bayes import MultinomialNB\n",
    "\n",
    "mnb = MultinomialNB()\n",
    "\n",
    "mnb.fit(X_train_lemm_vectorized, y_train)\n",
    "\n",
    "y_pred_mnb = mnb.predict(lemm_vectorizer.transform(X_test))\n",
    "\n",
    "print(\"Accuracy on test set:\", round(accuracy_score(y_test, y_pred_mnb), 3))\n"
   ]
  },
  {
   "cell_type": "code",
   "execution_count": 25,
   "metadata": {},
   "outputs": [
    {
     "name": "stdout",
     "output_type": "stream",
     "text": [
      "Accuracy on test set: 0.749\n"
     ]
    }
   ],
   "source": [
    "from sklearn.neighbors import KNeighborsClassifier\n",
    "\n",
    "knn = KNeighborsClassifier()\n",
    "\n",
    "knn.fit(X_train_lemm_vectorized, y_train)\n",
    "\n",
    "y_pred_knn = knn.predict(lemm_vectorizer.transform(X_test))\n",
    "\n",
    "print(\"Accuracy on test set:\", round(accuracy_score(y_test, y_pred_knn), 3))\n",
    "\n"
   ]
  },
  {
   "cell_type": "code",
   "execution_count": 26,
   "metadata": {},
   "outputs": [],
   "source": [
    "# SVC = Best parameters: {'kernel': 'rbf', 'gamma': 'scale', 'degree': 4, 'C': 100}\n",
    "#XGB = Best parameters: {'C': 0.01, 'degree': 2, 'gamma': 1, 'kernel': 'rbf'}\n",
    "#mnb = Best parameters: {'alpha': 1}\n",
    "#knn = Best parameters: {'p': 2, 'n_neighbors': 9, 'leaf_size': 48}"
   ]
  },
  {
   "cell_type": "code",
   "execution_count": 27,
   "metadata": {},
   "outputs": [],
   "source": [
    "from mlxtend.classifier import StackingCVClassifier"
   ]
  },
  {
   "cell_type": "code",
   "execution_count": 37,
   "metadata": {},
   "outputs": [
    {
     "name": "stdout",
     "output_type": "stream",
     "text": [
      "[13:38:56] WARNING: /Users/runner/work/xgboost/xgboost/python-package/build/temp.macosx-11.0-arm64-3.8/xgboost/src/learner.cc:627: \n",
      "Parameters: { \"C\", \"degree\", \"kernel\" } might not be used.\n",
      "\n",
      "  This could be a false alarm, with some parameters getting used by language bindings but\n",
      "  then being mistakenly passed down to XGBoost core, or some parameter actually being used\n",
      "  but getting flagged wrongly here. Please open an issue if you find any such cases.\n",
      "\n",
      "\n",
      "[13:39:05] WARNING: /Users/runner/work/xgboost/xgboost/python-package/build/temp.macosx-11.0-arm64-3.8/xgboost/src/learner.cc:627: \n",
      "Parameters: { \"C\", \"degree\", \"kernel\" } might not be used.\n",
      "\n",
      "  This could be a false alarm, with some parameters getting used by language bindings but\n",
      "  then being mistakenly passed down to XGBoost core, or some parameter actually being used\n",
      "  but getting flagged wrongly here. Please open an issue if you find any such cases.\n",
      "\n",
      "\n",
      "[13:39:05] WARNING: /Users/runner/work/xgboost/xgboost/python-package/build/temp.macosx-11.0-arm64-3.8/xgboost/src/learner.cc:627: \n",
      "Parameters: { \"C\", \"degree\", \"kernel\" } might not be used.\n",
      "\n",
      "  This could be a false alarm, with some parameters getting used by language bindings but\n",
      "  then being mistakenly passed down to XGBoost core, or some parameter actually being used\n",
      "  but getting flagged wrongly here. Please open an issue if you find any such cases.\n",
      "\n",
      "\n",
      "[13:39:06] WARNING: /Users/runner/work/xgboost/xgboost/python-package/build/temp.macosx-11.0-arm64-3.8/xgboost/src/learner.cc:627: \n",
      "Parameters: { \"C\", \"degree\", \"kernel\" } might not be used.\n",
      "\n",
      "  This could be a false alarm, with some parameters getting used by language bindings but\n",
      "  then being mistakenly passed down to XGBoost core, or some parameter actually being used\n",
      "  but getting flagged wrongly here. Please open an issue if you find any such cases.\n",
      "\n",
      "\n",
      "[13:39:06] WARNING: /Users/runner/work/xgboost/xgboost/python-package/build/temp.macosx-11.0-arm64-3.8/xgboost/src/learner.cc:627: \n",
      "Parameters: { \"C\", \"degree\", \"kernel\" } might not be used.\n",
      "\n",
      "  This could be a false alarm, with some parameters getting used by language bindings but\n",
      "  then being mistakenly passed down to XGBoost core, or some parameter actually being used\n",
      "  but getting flagged wrongly here. Please open an issue if you find any such cases.\n",
      "\n",
      "\n",
      "[13:39:06] WARNING: /Users/runner/work/xgboost/xgboost/python-package/build/temp.macosx-11.0-arm64-3.8/xgboost/src/learner.cc:627: \n",
      "Parameters: { \"C\", \"degree\", \"kernel\" } might not be used.\n",
      "\n",
      "  This could be a false alarm, with some parameters getting used by language bindings but\n",
      "  then being mistakenly passed down to XGBoost core, or some parameter actually being used\n",
      "  but getting flagged wrongly here. Please open an issue if you find any such cases.\n",
      "\n",
      "\n"
     ]
    }
   ],
   "source": [
    "\n",
    "from sklearn.svm import SVC\n",
    "from sklearn.ensemble import StackingClassifier\n",
    "from xgboost import XGBClassifier\n",
    "from sklearn.linear_model import LogisticRegression\n",
    "\n",
    "estimators = [  ('SVC1', SVC(kernel = 'rbf', gamma = 'scale', degree = 4, C = 100)),\n",
    "                ('XGB' , XGBClassifier(C = 0.01, degree = 2, gamma = 1, kernel = 'rbf')),\n",
    "                ('mmnb' , MultinomialNB()),\n",
    "                ('knn' , KNeighborsClassifier(p = 1, n_neighbors= 9, leaf_size=48)) \n",
    "            ]\n",
    "\n",
    "stacked_model = StackingClassifier(estimators =estimators, final_estimator = LogisticRegression())\n",
    "\n",
    "cc = stacked_model.fit(X_train_lemm_vectorized,y_train)"
   ]
  },
  {
   "cell_type": "code",
   "execution_count": null,
   "metadata": {},
   "outputs": [],
   "source": [
    "y_predd = "
   ]
  },
  {
   "cell_type": "code",
   "execution_count": null,
   "metadata": {},
   "outputs": [],
   "source": []
  },
  {
   "cell_type": "code",
   "execution_count": null,
   "metadata": {},
   "outputs": [],
   "source": [
    "def num_to_words(text):\n",
    "\t\"\"\"\n",
    "\tReturn :- text which have all numbers or integers in the form of words\n",
    "\tInput :- string\n",
    "\tOutput :- string\n",
    "\t\"\"\"\n",
    "\t# splitting text into words with space\n",
    "\tafter_spliting = text.split()\n",
    "\n",
    "\tfor index in range(len(after_spliting)):\n",
    "\t\tif after_spliting[index].isdigit():\n",
    "\t\t\tafter_spliting[index] = num2words(after_spliting[index])\n",
    "\n",
    "    # joining list into string with space\n",
    "\tnumbers_to_words = ' '.join(after_spliting)\n",
    "\treturn numbers_to_words\n",
    "\n",
    "\n",
    "\n",
    "#data['words'] = data['Value'].apply(num2words)\t"
   ]
  }
 ],
 "metadata": {
  "kernelspec": {
   "display_name": "Python 3.9.8 ('.venv': venv)",
   "language": "python",
   "name": "python3"
  },
  "language_info": {
   "codemirror_mode": {
    "name": "ipython",
    "version": 3
   },
   "file_extension": ".py",
   "mimetype": "text/x-python",
   "name": "python",
   "nbconvert_exporter": "python",
   "pygments_lexer": "ipython3",
   "version": "3.9.8"
  },
  "orig_nbformat": 4,
  "vscode": {
   "interpreter": {
    "hash": "de2b2c42f19cdb5d2f24461361f61e9d985b64a4ca4a8f91e8c83c5a49062fa7"
   }
  }
 },
 "nbformat": 4,
 "nbformat_minor": 2
}
